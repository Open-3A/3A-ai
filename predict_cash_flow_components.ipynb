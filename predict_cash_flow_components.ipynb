{
 "cells": [
  {
   "cell_type": "code",
   "execution_count": 1,
   "metadata": {},
   "source": [
    "%pip install ipywidgets -q\n",
    "%pip install prophet -q"
   ],
   "outputs": []
  },
  {
   "cell_type": "code",
   "execution_count": 2,
   "metadata": {},
   "source": [
    "import pandas as pd\n",
    "from prophet import Prophet"
   ],
   "outputs": []
  },
  {
   "cell_type": "code",
   "execution_count": 3,
   "metadata": {},
   "source": [
    "cash_flow_components = pd.read_csv(\"./assets/brazilian_companies_most_relevant_attr_for_free_cash_flow.csv\", header=[0, 1], index_col=0)\n",
    "cash_flow_components"
   ],
   "outputs": []
  },
  {
   "cell_type": "markdown",
   "metadata": {},
   "source": [
    "## Pré-processamento dos dados"
   ]
  },
  {
   "cell_type": "code",
   "execution_count": 4,
   "metadata": {},
   "source": [
    "from utils import get_columns_from_header_0\n",
    "\n",
    "tickers = get_columns_from_header_0(cash_flow_components)\n",
    "tickers"
   ],
   "outputs": []
  },
  {
   "cell_type": "code",
   "execution_count": 5,
   "metadata": {},
   "source": [
    "from typing import List\n",
    "from pandas import DataFrame\n",
    "\n",
    "\n",
    "def to_time_series(ticker_df: DataFrame) -> List[DataFrame]:\n",
    "  time_series = []\n",
    "\n",
    "  for column in ticker_df.columns:\n",
    "    column_df = DataFrame(ticker_df[column])\n",
    "    column_df.insert(loc=0, column=\"ds\", value=pd.to_datetime(column_df.index))\n",
    "    column_df.rename(columns={column: \"y\"}, inplace=True)\n",
    "    column_df.reset_index(drop=True, inplace=True)\n",
    "    column_df = column_df.sort_values(by=\"ds\")\n",
    "\n",
    "    time_series.append(column_df)\n",
    "\n",
    "  return time_series\n"
   ],
   "outputs": []
  },
  {
   "cell_type": "markdown",
   "metadata": {},
   "source": [
    "## Previsão dos componentes do fluxo de caixa"
   ]
  },
  {
   "cell_type": "code",
   "execution_count": 6,
   "metadata": {},
   "source": [
    "def predict(ticker_df: DataFrame, n_quarters: int = 1) -> DataFrame:\n",
    "    ticker_time_series = to_time_series(ticker_df)\n",
    "\n",
    "    predictions = pd.DataFrame()\n",
    "\n",
    "    for i, dataset in enumerate(ticker_time_series):\n",
    "        if len(dataset) < 2:\n",
    "            continue\n",
    "\n",
    "        model = Prophet()\n",
    "        model.fit(dataset)\n",
    "\n",
    "        # Prever 1 ano de um dos componentes do fluxo de caixa\n",
    "        future = model.make_future_dataframe(periods=n_quarters, freq=\"BQ\")\n",
    "        forecast = model.predict(future)\n",
    "\n",
    "        forecast = forecast[[\"ds\", \"yhat\"]].rename(\n",
    "            columns={\"yhat\": ticker_df.columns[i]})\n",
    "        forecast.sort_values(by=\"ds\")\n",
    "        forecast.set_index(\"ds\", inplace=True)\n",
    "        forecast.index.name = None\n",
    "        forecast = forecast.transpose()\n",
    "\n",
    "        if predictions.empty:\n",
    "            predictions = forecast\n",
    "            continue\n",
    "\n",
    "        predictions = pd.concat([predictions, forecast])\n",
    "\n",
    "    return predictions"
   ],
   "outputs": []
  },
  {
   "cell_type": "code",
   "execution_count": 7,
   "metadata": {},
   "source": [
    "def create_predicted_cash_flow_components(n_quarters: int):\n",
    "    predicted_cash_flow_components = DataFrame()\n",
    "\n",
    "    for ticker in tickers:\n",
    "        ticker_df = cash_flow_components[ticker].transpose()\n",
    "        predictions = predict(ticker_df, n_quarters)\n",
    "\n",
    "        predictions.columns = pd.MultiIndex.from_product(\n",
    "            [[ticker], predictions.columns])\n",
    "\n",
    "        if predicted_cash_flow_components.empty:\n",
    "            predicted_cash_flow_components = predictions\n",
    "            continue\n",
    "\n",
    "        predicted_cash_flow_components = pd.concat(\n",
    "            [predicted_cash_flow_components, predictions], axis=1)\n",
    "        \n",
    "    predicted_cash_flow_components.to_csv(\"./assets/predicted_cash_flow_components.csv\")\n",
    "\n",
    "    return predicted_cash_flow_components"
   ],
   "outputs": []
  },
  {
   "cell_type": "code",
   "execution_count": 8,
   "metadata": {},
   "source": [
    "create_predicted_cash_flow_components(4 * 2)"
   ],
   "outputs": []
  },
  {
   "cell_type": "code",
   "execution_count": null,
   "metadata": {},
   "source": [],
   "outputs": []
  }
 ],
 "metadata": {
  "kernelspec": {
   "display_name": ".venv",
   "language": "python",
   "name": "python3"
  },
  "language_info": {
   "codemirror_mode": {
    "name": "ipython",
    "version": 3
   },
   "file_extension": ".py",
   "mimetype": "text/x-python",
   "name": "python",
   "nbconvert_exporter": "python",
   "pygments_lexer": "ipython3",
   "version": "3.11.4"
  }
 },
 "nbformat": 4,
 "nbformat_minor": 2
}

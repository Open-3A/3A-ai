{
 "cells": [
  {
   "cell_type": "code",
   "execution_count": 36,
   "metadata": {},
   "outputs": [
    {
     "name": "stdout",
     "output_type": "stream",
     "text": [
      "Note: you may need to restart the kernel to use updated packages.\n",
      "Note: you may need to restart the kernel to use updated packages.\n",
      "Note: you may need to restart the kernel to use updated packages.\n",
      "Note: you may need to restart the kernel to use updated packages.\n",
      "Note: you may need to restart the kernel to use updated packages.\n",
      "Note: you may need to restart the kernel to use updated packages.\n",
      "Note: you may need to restart the kernel to use updated packages.\n"
     ]
    }
   ],
   "source": [
    "%pip install pandas -U -q\n",
    "%pip install numpy -U -q\n",
    "%pip install plotly -U -q\n",
    "%pip install nbformat -U -q\n",
    "%pip install scikit-learn -U -q\n",
    "%pip install seaborn -q\n",
    "%pip install matplotlib -q"
   ]
  },
  {
   "cell_type": "code",
   "execution_count": 2,
   "metadata": {},
   "outputs": [],
   "source": [
    "import plotly.express as px"
   ]
  },
  {
   "cell_type": "markdown",
   "metadata": {},
   "source": [
    "# Análise exploratório dos dados de fluxo de caixa das empresas brasileiras"
   ]
  },
  {
   "cell_type": "code",
   "execution_count": 3,
   "metadata": {},
   "outputs": [
    {
     "data": {
      "text/html": [
       "<div>\n",
       "<style scoped>\n",
       "    .dataframe tbody tr th:only-of-type {\n",
       "        vertical-align: middle;\n",
       "    }\n",
       "\n",
       "    .dataframe tbody tr th {\n",
       "        vertical-align: top;\n",
       "    }\n",
       "\n",
       "    .dataframe thead tr th {\n",
       "        text-align: left;\n",
       "    }\n",
       "</style>\n",
       "<table border=\"1\" class=\"dataframe\">\n",
       "  <thead>\n",
       "    <tr>\n",
       "      <th></th>\n",
       "      <th colspan=\"4\" halign=\"left\">SMTO3.SA</th>\n",
       "      <th colspan=\"4\" halign=\"left\">CMIG3.SA</th>\n",
       "      <th colspan=\"2\" halign=\"left\">PCAR3.SA</th>\n",
       "      <th>...</th>\n",
       "      <th colspan=\"2\" halign=\"left\">AURE3.SA</th>\n",
       "      <th colspan=\"4\" halign=\"left\">CSNA3.SA</th>\n",
       "      <th colspan=\"4\" halign=\"left\">EQTL3.SA</th>\n",
       "    </tr>\n",
       "    <tr>\n",
       "      <th></th>\n",
       "      <th>2023-06-30 00:00:00</th>\n",
       "      <th>2023-03-31 00:00:00</th>\n",
       "      <th>2022-12-31 00:00:00</th>\n",
       "      <th>2022-09-30 00:00:00</th>\n",
       "      <th>2023-06-30 00:00:00</th>\n",
       "      <th>2023-03-31 00:00:00</th>\n",
       "      <th>2022-12-31 00:00:00</th>\n",
       "      <th>2022-09-30 00:00:00</th>\n",
       "      <th>2023-06-30 00:00:00</th>\n",
       "      <th>2023-03-31 00:00:00</th>\n",
       "      <th>...</th>\n",
       "      <th>2022-12-31 00:00:00</th>\n",
       "      <th>2022-09-30 00:00:00</th>\n",
       "      <th>2023-06-30 00:00:00</th>\n",
       "      <th>2023-03-31 00:00:00</th>\n",
       "      <th>2022-12-31 00:00:00</th>\n",
       "      <th>2022-09-30 00:00:00</th>\n",
       "      <th>2023-06-30 00:00:00</th>\n",
       "      <th>2023-03-31 00:00:00</th>\n",
       "      <th>2022-12-31 00:00:00</th>\n",
       "      <th>2022-09-30 00:00:00</th>\n",
       "    </tr>\n",
       "  </thead>\n",
       "  <tbody>\n",
       "    <tr>\n",
       "      <th>Free Cash Flow</th>\n",
       "      <td>5986000.0</td>\n",
       "      <td>1.945459e+09</td>\n",
       "      <td>484945000.0</td>\n",
       "      <td>-632029000.0</td>\n",
       "      <td>2.108936e+09</td>\n",
       "      <td>2.260000e+08</td>\n",
       "      <td>3.381000e+09</td>\n",
       "      <td>3.020920e+08</td>\n",
       "      <td>7.520000e+08</td>\n",
       "      <td>-1.874000e+09</td>\n",
       "      <td>...</td>\n",
       "      <td>6.996500e+07</td>\n",
       "      <td>-5.977320e+08</td>\n",
       "      <td>1.954120e+08</td>\n",
       "      <td>-1.817250e+08</td>\n",
       "      <td>-3.107698e+09</td>\n",
       "      <td>-7.125350e+08</td>\n",
       "      <td>5.849280e+08</td>\n",
       "      <td>4.774360e+08</td>\n",
       "      <td>5.887870e+08</td>\n",
       "      <td>7.078690e+08</td>\n",
       "    </tr>\n",
       "    <tr>\n",
       "      <th>Repayment Of Debt</th>\n",
       "      <td>-636019000.0</td>\n",
       "      <td>-3.026310e+08</td>\n",
       "      <td>-58120000.0</td>\n",
       "      <td>-25772000.0</td>\n",
       "      <td>-1.544530e+08</td>\n",
       "      <td>-4.450000e+08</td>\n",
       "      <td>-1.490000e+09</td>\n",
       "      <td>-1.789890e+08</td>\n",
       "      <td>-8.110000e+08</td>\n",
       "      <td>-3.850000e+08</td>\n",
       "      <td>...</td>\n",
       "      <td>-1.013200e+08</td>\n",
       "      <td>-2.698200e+07</td>\n",
       "      <td>-2.597152e+09</td>\n",
       "      <td>-1.940838e+09</td>\n",
       "      <td>-2.620693e+09</td>\n",
       "      <td>-8.206156e+09</td>\n",
       "      <td>-9.580930e+08</td>\n",
       "      <td>-8.836329e+09</td>\n",
       "      <td>-9.439420e+08</td>\n",
       "      <td>-1.971141e+09</td>\n",
       "    </tr>\n",
       "    <tr>\n",
       "      <th>Issuance Of Debt</th>\n",
       "      <td>0.0</td>\n",
       "      <td>1.980420e+08</td>\n",
       "      <td>589200000.0</td>\n",
       "      <td>18000000.0</td>\n",
       "      <td>1.988311e+09</td>\n",
       "      <td>0.000000e+00</td>\n",
       "      <td>9.930000e+08</td>\n",
       "      <td>4.250000e+05</td>\n",
       "      <td>4.090000e+08</td>\n",
       "      <td>1.280000e+09</td>\n",
       "      <td>...</td>\n",
       "      <td>1.292320e+08</td>\n",
       "      <td>1.589830e+08</td>\n",
       "      <td>3.363284e+09</td>\n",
       "      <td>3.907413e+09</td>\n",
       "      <td>6.816279e+09</td>\n",
       "      <td>1.113617e+10</td>\n",
       "      <td>2.017784e+09</td>\n",
       "      <td>9.001556e+09</td>\n",
       "      <td>4.056017e+09</td>\n",
       "      <td>1.873600e+07</td>\n",
       "    </tr>\n",
       "    <tr>\n",
       "      <th>Capital Expenditure</th>\n",
       "      <td>-451108000.0</td>\n",
       "      <td>-7.995460e+08</td>\n",
       "      <td>-653887000.0</td>\n",
       "      <td>-544223000.0</td>\n",
       "      <td>NaN</td>\n",
       "      <td>-7.310000e+08</td>\n",
       "      <td>NaN</td>\n",
       "      <td>-2.264753e+09</td>\n",
       "      <td>-1.930000e+08</td>\n",
       "      <td>-4.450000e+08</td>\n",
       "      <td>...</td>\n",
       "      <td>-2.253400e+08</td>\n",
       "      <td>-4.120660e+08</td>\n",
       "      <td>-9.191340e+08</td>\n",
       "      <td>-7.358290e+08</td>\n",
       "      <td>-3.018944e+09</td>\n",
       "      <td>-1.723833e+09</td>\n",
       "      <td>-8.608000e+08</td>\n",
       "      <td>-5.454900e+07</td>\n",
       "      <td>-5.132900e+07</td>\n",
       "      <td>-4.375400e+07</td>\n",
       "    </tr>\n",
       "    <tr>\n",
       "      <th>End Cash Position</th>\n",
       "      <td>86015000.0</td>\n",
       "      <td>2.734080e+08</td>\n",
       "      <td>252859000.0</td>\n",
       "      <td>130568000.0</td>\n",
       "      <td>2.182819e+09</td>\n",
       "      <td>1.600000e+09</td>\n",
       "      <td>1.441000e+09</td>\n",
       "      <td>1.991000e+09</td>\n",
       "      <td>4.831000e+09</td>\n",
       "      <td>4.595000e+09</td>\n",
       "      <td>...</td>\n",
       "      <td>3.125959e+09</td>\n",
       "      <td>2.878355e+09</td>\n",
       "      <td>1.197542e+10</td>\n",
       "      <td>1.367302e+10</td>\n",
       "      <td>1.199136e+10</td>\n",
       "      <td>1.431937e+10</td>\n",
       "      <td>5.243983e+09</td>\n",
       "      <td>4.321115e+09</td>\n",
       "      <td>3.166362e+09</td>\n",
       "      <td>2.885828e+09</td>\n",
       "    </tr>\n",
       "    <tr>\n",
       "      <th>...</th>\n",
       "      <td>...</td>\n",
       "      <td>...</td>\n",
       "      <td>...</td>\n",
       "      <td>...</td>\n",
       "      <td>...</td>\n",
       "      <td>...</td>\n",
       "      <td>...</td>\n",
       "      <td>...</td>\n",
       "      <td>...</td>\n",
       "      <td>...</td>\n",
       "      <td>...</td>\n",
       "      <td>...</td>\n",
       "      <td>...</td>\n",
       "      <td>...</td>\n",
       "      <td>...</td>\n",
       "      <td>...</td>\n",
       "      <td>...</td>\n",
       "      <td>...</td>\n",
       "      <td>...</td>\n",
       "      <td>...</td>\n",
       "      <td>...</td>\n",
       "    </tr>\n",
       "    <tr>\n",
       "      <th>Dividend Paid Cfo</th>\n",
       "      <td>NaN</td>\n",
       "      <td>NaN</td>\n",
       "      <td>NaN</td>\n",
       "      <td>NaN</td>\n",
       "      <td>NaN</td>\n",
       "      <td>NaN</td>\n",
       "      <td>NaN</td>\n",
       "      <td>NaN</td>\n",
       "      <td>NaN</td>\n",
       "      <td>NaN</td>\n",
       "      <td>...</td>\n",
       "      <td>NaN</td>\n",
       "      <td>NaN</td>\n",
       "      <td>NaN</td>\n",
       "      <td>NaN</td>\n",
       "      <td>NaN</td>\n",
       "      <td>-2.091000e+06</td>\n",
       "      <td>NaN</td>\n",
       "      <td>NaN</td>\n",
       "      <td>NaN</td>\n",
       "      <td>NaN</td>\n",
       "    </tr>\n",
       "    <tr>\n",
       "      <th>Cash Flow From Discontinued Operation</th>\n",
       "      <td>NaN</td>\n",
       "      <td>NaN</td>\n",
       "      <td>NaN</td>\n",
       "      <td>NaN</td>\n",
       "      <td>NaN</td>\n",
       "      <td>NaN</td>\n",
       "      <td>NaN</td>\n",
       "      <td>NaN</td>\n",
       "      <td>NaN</td>\n",
       "      <td>NaN</td>\n",
       "      <td>...</td>\n",
       "      <td>NaN</td>\n",
       "      <td>NaN</td>\n",
       "      <td>NaN</td>\n",
       "      <td>NaN</td>\n",
       "      <td>NaN</td>\n",
       "      <td>NaN</td>\n",
       "      <td>NaN</td>\n",
       "      <td>NaN</td>\n",
       "      <td>NaN</td>\n",
       "      <td>NaN</td>\n",
       "    </tr>\n",
       "    <tr>\n",
       "      <th>Sale Of Intangibles</th>\n",
       "      <td>NaN</td>\n",
       "      <td>NaN</td>\n",
       "      <td>NaN</td>\n",
       "      <td>NaN</td>\n",
       "      <td>NaN</td>\n",
       "      <td>NaN</td>\n",
       "      <td>NaN</td>\n",
       "      <td>NaN</td>\n",
       "      <td>NaN</td>\n",
       "      <td>NaN</td>\n",
       "      <td>...</td>\n",
       "      <td>NaN</td>\n",
       "      <td>NaN</td>\n",
       "      <td>NaN</td>\n",
       "      <td>NaN</td>\n",
       "      <td>NaN</td>\n",
       "      <td>NaN</td>\n",
       "      <td>NaN</td>\n",
       "      <td>NaN</td>\n",
       "      <td>NaN</td>\n",
       "      <td>NaN</td>\n",
       "    </tr>\n",
       "    <tr>\n",
       "      <th>Sale Of Investment Properties</th>\n",
       "      <td>NaN</td>\n",
       "      <td>NaN</td>\n",
       "      <td>NaN</td>\n",
       "      <td>NaN</td>\n",
       "      <td>NaN</td>\n",
       "      <td>NaN</td>\n",
       "      <td>NaN</td>\n",
       "      <td>NaN</td>\n",
       "      <td>NaN</td>\n",
       "      <td>NaN</td>\n",
       "      <td>...</td>\n",
       "      <td>NaN</td>\n",
       "      <td>NaN</td>\n",
       "      <td>NaN</td>\n",
       "      <td>NaN</td>\n",
       "      <td>NaN</td>\n",
       "      <td>NaN</td>\n",
       "      <td>NaN</td>\n",
       "      <td>NaN</td>\n",
       "      <td>NaN</td>\n",
       "      <td>NaN</td>\n",
       "    </tr>\n",
       "    <tr>\n",
       "      <th>Interest Paid Supplemental Data</th>\n",
       "      <td>NaN</td>\n",
       "      <td>NaN</td>\n",
       "      <td>NaN</td>\n",
       "      <td>NaN</td>\n",
       "      <td>NaN</td>\n",
       "      <td>NaN</td>\n",
       "      <td>NaN</td>\n",
       "      <td>NaN</td>\n",
       "      <td>NaN</td>\n",
       "      <td>NaN</td>\n",
       "      <td>...</td>\n",
       "      <td>NaN</td>\n",
       "      <td>NaN</td>\n",
       "      <td>NaN</td>\n",
       "      <td>NaN</td>\n",
       "      <td>NaN</td>\n",
       "      <td>NaN</td>\n",
       "      <td>NaN</td>\n",
       "      <td>NaN</td>\n",
       "      <td>NaN</td>\n",
       "      <td>NaN</td>\n",
       "    </tr>\n",
       "  </tbody>\n",
       "</table>\n",
       "<p>105 rows × 432 columns</p>\n",
       "</div>"
      ],
      "text/plain": [
       "                                                 SMTO3.SA                      \\\n",
       "                                      2023-06-30 00:00:00 2023-03-31 00:00:00   \n",
       "Free Cash Flow                                  5986000.0        1.945459e+09   \n",
       "Repayment Of Debt                            -636019000.0       -3.026310e+08   \n",
       "Issuance Of Debt                                      0.0        1.980420e+08   \n",
       "Capital Expenditure                          -451108000.0       -7.995460e+08   \n",
       "End Cash Position                              86015000.0        2.734080e+08   \n",
       "...                                                   ...                 ...   \n",
       "Dividend Paid Cfo                                     NaN                 NaN   \n",
       "Cash Flow From Discontinued Operation                 NaN                 NaN   \n",
       "Sale Of Intangibles                                   NaN                 NaN   \n",
       "Sale Of Investment Properties                         NaN                 NaN   \n",
       "Interest Paid Supplemental Data                       NaN                 NaN   \n",
       "\n",
       "                                                                               \\\n",
       "                                      2022-12-31 00:00:00 2022-09-30 00:00:00   \n",
       "Free Cash Flow                                484945000.0        -632029000.0   \n",
       "Repayment Of Debt                             -58120000.0         -25772000.0   \n",
       "Issuance Of Debt                              589200000.0          18000000.0   \n",
       "Capital Expenditure                          -653887000.0        -544223000.0   \n",
       "End Cash Position                             252859000.0         130568000.0   \n",
       "...                                                   ...                 ...   \n",
       "Dividend Paid Cfo                                     NaN                 NaN   \n",
       "Cash Flow From Discontinued Operation                 NaN                 NaN   \n",
       "Sale Of Intangibles                                   NaN                 NaN   \n",
       "Sale Of Investment Properties                         NaN                 NaN   \n",
       "Interest Paid Supplemental Data                       NaN                 NaN   \n",
       "\n",
       "                                                 CMIG3.SA                      \\\n",
       "                                      2023-06-30 00:00:00 2023-03-31 00:00:00   \n",
       "Free Cash Flow                               2.108936e+09        2.260000e+08   \n",
       "Repayment Of Debt                           -1.544530e+08       -4.450000e+08   \n",
       "Issuance Of Debt                             1.988311e+09        0.000000e+00   \n",
       "Capital Expenditure                                   NaN       -7.310000e+08   \n",
       "End Cash Position                            2.182819e+09        1.600000e+09   \n",
       "...                                                   ...                 ...   \n",
       "Dividend Paid Cfo                                     NaN                 NaN   \n",
       "Cash Flow From Discontinued Operation                 NaN                 NaN   \n",
       "Sale Of Intangibles                                   NaN                 NaN   \n",
       "Sale Of Investment Properties                         NaN                 NaN   \n",
       "Interest Paid Supplemental Data                       NaN                 NaN   \n",
       "\n",
       "                                                                               \\\n",
       "                                      2022-12-31 00:00:00 2022-09-30 00:00:00   \n",
       "Free Cash Flow                               3.381000e+09        3.020920e+08   \n",
       "Repayment Of Debt                           -1.490000e+09       -1.789890e+08   \n",
       "Issuance Of Debt                             9.930000e+08        4.250000e+05   \n",
       "Capital Expenditure                                   NaN       -2.264753e+09   \n",
       "End Cash Position                            1.441000e+09        1.991000e+09   \n",
       "...                                                   ...                 ...   \n",
       "Dividend Paid Cfo                                     NaN                 NaN   \n",
       "Cash Flow From Discontinued Operation                 NaN                 NaN   \n",
       "Sale Of Intangibles                                   NaN                 NaN   \n",
       "Sale Of Investment Properties                         NaN                 NaN   \n",
       "Interest Paid Supplemental Data                       NaN                 NaN   \n",
       "\n",
       "                                                 PCAR3.SA                      \\\n",
       "                                      2023-06-30 00:00:00 2023-03-31 00:00:00   \n",
       "Free Cash Flow                               7.520000e+08       -1.874000e+09   \n",
       "Repayment Of Debt                           -8.110000e+08       -3.850000e+08   \n",
       "Issuance Of Debt                             4.090000e+08        1.280000e+09   \n",
       "Capital Expenditure                         -1.930000e+08       -4.450000e+08   \n",
       "End Cash Position                            4.831000e+09        4.595000e+09   \n",
       "...                                                   ...                 ...   \n",
       "Dividend Paid Cfo                                     NaN                 NaN   \n",
       "Cash Flow From Discontinued Operation                 NaN                 NaN   \n",
       "Sale Of Intangibles                                   NaN                 NaN   \n",
       "Sale Of Investment Properties                         NaN                 NaN   \n",
       "Interest Paid Supplemental Data                       NaN                 NaN   \n",
       "\n",
       "                                       ...            AURE3.SA  \\\n",
       "                                       ... 2022-12-31 00:00:00   \n",
       "Free Cash Flow                         ...        6.996500e+07   \n",
       "Repayment Of Debt                      ...       -1.013200e+08   \n",
       "Issuance Of Debt                       ...        1.292320e+08   \n",
       "Capital Expenditure                    ...       -2.253400e+08   \n",
       "End Cash Position                      ...        3.125959e+09   \n",
       "...                                    ...                 ...   \n",
       "Dividend Paid Cfo                      ...                 NaN   \n",
       "Cash Flow From Discontinued Operation  ...                 NaN   \n",
       "Sale Of Intangibles                    ...                 NaN   \n",
       "Sale Of Investment Properties          ...                 NaN   \n",
       "Interest Paid Supplemental Data        ...                 NaN   \n",
       "\n",
       "                                                                     CSNA3.SA  \\\n",
       "                                      2022-09-30 00:00:00 2023-06-30 00:00:00   \n",
       "Free Cash Flow                              -5.977320e+08        1.954120e+08   \n",
       "Repayment Of Debt                           -2.698200e+07       -2.597152e+09   \n",
       "Issuance Of Debt                             1.589830e+08        3.363284e+09   \n",
       "Capital Expenditure                         -4.120660e+08       -9.191340e+08   \n",
       "End Cash Position                            2.878355e+09        1.197542e+10   \n",
       "...                                                   ...                 ...   \n",
       "Dividend Paid Cfo                                     NaN                 NaN   \n",
       "Cash Flow From Discontinued Operation                 NaN                 NaN   \n",
       "Sale Of Intangibles                                   NaN                 NaN   \n",
       "Sale Of Investment Properties                         NaN                 NaN   \n",
       "Interest Paid Supplemental Data                       NaN                 NaN   \n",
       "\n",
       "                                                                               \\\n",
       "                                      2023-03-31 00:00:00 2022-12-31 00:00:00   \n",
       "Free Cash Flow                              -1.817250e+08       -3.107698e+09   \n",
       "Repayment Of Debt                           -1.940838e+09       -2.620693e+09   \n",
       "Issuance Of Debt                             3.907413e+09        6.816279e+09   \n",
       "Capital Expenditure                         -7.358290e+08       -3.018944e+09   \n",
       "End Cash Position                            1.367302e+10        1.199136e+10   \n",
       "...                                                   ...                 ...   \n",
       "Dividend Paid Cfo                                     NaN                 NaN   \n",
       "Cash Flow From Discontinued Operation                 NaN                 NaN   \n",
       "Sale Of Intangibles                                   NaN                 NaN   \n",
       "Sale Of Investment Properties                         NaN                 NaN   \n",
       "Interest Paid Supplemental Data                       NaN                 NaN   \n",
       "\n",
       "                                                                     EQTL3.SA  \\\n",
       "                                      2022-09-30 00:00:00 2023-06-30 00:00:00   \n",
       "Free Cash Flow                              -7.125350e+08        5.849280e+08   \n",
       "Repayment Of Debt                           -8.206156e+09       -9.580930e+08   \n",
       "Issuance Of Debt                             1.113617e+10        2.017784e+09   \n",
       "Capital Expenditure                         -1.723833e+09       -8.608000e+08   \n",
       "End Cash Position                            1.431937e+10        5.243983e+09   \n",
       "...                                                   ...                 ...   \n",
       "Dividend Paid Cfo                           -2.091000e+06                 NaN   \n",
       "Cash Flow From Discontinued Operation                 NaN                 NaN   \n",
       "Sale Of Intangibles                                   NaN                 NaN   \n",
       "Sale Of Investment Properties                         NaN                 NaN   \n",
       "Interest Paid Supplemental Data                       NaN                 NaN   \n",
       "\n",
       "                                                                               \\\n",
       "                                      2023-03-31 00:00:00 2022-12-31 00:00:00   \n",
       "Free Cash Flow                               4.774360e+08        5.887870e+08   \n",
       "Repayment Of Debt                           -8.836329e+09       -9.439420e+08   \n",
       "Issuance Of Debt                             9.001556e+09        4.056017e+09   \n",
       "Capital Expenditure                         -5.454900e+07       -5.132900e+07   \n",
       "End Cash Position                            4.321115e+09        3.166362e+09   \n",
       "...                                                   ...                 ...   \n",
       "Dividend Paid Cfo                                     NaN                 NaN   \n",
       "Cash Flow From Discontinued Operation                 NaN                 NaN   \n",
       "Sale Of Intangibles                                   NaN                 NaN   \n",
       "Sale Of Investment Properties                         NaN                 NaN   \n",
       "Interest Paid Supplemental Data                       NaN                 NaN   \n",
       "\n",
       "                                                           \n",
       "                                      2022-09-30 00:00:00  \n",
       "Free Cash Flow                               7.078690e+08  \n",
       "Repayment Of Debt                           -1.971141e+09  \n",
       "Issuance Of Debt                             1.873600e+07  \n",
       "Capital Expenditure                         -4.375400e+07  \n",
       "End Cash Position                            2.885828e+09  \n",
       "...                                                   ...  \n",
       "Dividend Paid Cfo                                     NaN  \n",
       "Cash Flow From Discontinued Operation                 NaN  \n",
       "Sale Of Intangibles                                   NaN  \n",
       "Sale Of Investment Properties                         NaN  \n",
       "Interest Paid Supplemental Data                       NaN  \n",
       "\n",
       "[105 rows x 432 columns]"
      ]
     },
     "execution_count": 3,
     "metadata": {},
     "output_type": "execute_result"
    }
   ],
   "source": [
    "import pandas as pd\n",
    "\n",
    "brazilian_companies_cashflow = pd.read_csv(\"./assets/brazilian_companies_cashflow.csv\", header=[0, 1], index_col=0)\n",
    "brazilian_companies_cashflow"
   ]
  },
  {
   "cell_type": "code",
   "execution_count": 30,
   "metadata": {},
   "outputs": [
    {
     "data": {
      "text/html": [
       "<div>\n",
       "<style scoped>\n",
       "    .dataframe tbody tr th:only-of-type {\n",
       "        vertical-align: middle;\n",
       "    }\n",
       "\n",
       "    .dataframe tbody tr th {\n",
       "        vertical-align: top;\n",
       "    }\n",
       "\n",
       "    .dataframe thead th {\n",
       "        text-align: right;\n",
       "    }\n",
       "</style>\n",
       "<table border=\"1\" class=\"dataframe\">\n",
       "  <thead>\n",
       "    <tr style=\"text-align: right;\">\n",
       "      <th></th>\n",
       "      <th>2023-06-30 00:00:00</th>\n",
       "      <th>2023-03-31 00:00:00</th>\n",
       "      <th>2022-12-31 00:00:00</th>\n",
       "      <th>2022-09-30 00:00:00</th>\n",
       "    </tr>\n",
       "  </thead>\n",
       "  <tbody>\n",
       "    <tr>\n",
       "      <th>Free Cash Flow</th>\n",
       "      <td>6.920000e+08</td>\n",
       "      <td>2.480000e+09</td>\n",
       "      <td>1.250000e+08</td>\n",
       "      <td>2.167000e+09</td>\n",
       "    </tr>\n",
       "    <tr>\n",
       "      <th>Repayment Of Debt</th>\n",
       "      <td>-6.260000e+08</td>\n",
       "      <td>-8.600000e+07</td>\n",
       "      <td>-1.020000e+08</td>\n",
       "      <td>-4.960000e+08</td>\n",
       "    </tr>\n",
       "    <tr>\n",
       "      <th>Issuance Of Debt</th>\n",
       "      <td>1.500000e+09</td>\n",
       "      <td>3.000000e+08</td>\n",
       "      <td>5.000000e+08</td>\n",
       "      <td>1.500000e+08</td>\n",
       "    </tr>\n",
       "    <tr>\n",
       "      <th>Capital Expenditure</th>\n",
       "      <td>-1.208000e+09</td>\n",
       "      <td>-1.130000e+09</td>\n",
       "      <td>-1.787000e+09</td>\n",
       "      <td>-1.230000e+09</td>\n",
       "    </tr>\n",
       "    <tr>\n",
       "      <th>End Cash Position</th>\n",
       "      <td>4.983000e+09</td>\n",
       "      <td>4.705000e+09</td>\n",
       "      <td>4.736000e+09</td>\n",
       "      <td>5.182000e+09</td>\n",
       "    </tr>\n",
       "    <tr>\n",
       "      <th>Beginning Cash Position</th>\n",
       "      <td>4.705000e+09</td>\n",
       "      <td>4.736000e+09</td>\n",
       "      <td>5.182000e+09</td>\n",
       "      <td>7.185000e+09</td>\n",
       "    </tr>\n",
       "    <tr>\n",
       "      <th>Changes In Cash</th>\n",
       "      <td>2.110000e+08</td>\n",
       "      <td>-6.300000e+07</td>\n",
       "      <td>-5.220000e+08</td>\n",
       "      <td>-1.775000e+09</td>\n",
       "    </tr>\n",
       "    <tr>\n",
       "      <th>Financing Cash Flow</th>\n",
       "      <td>-6.220000e+08</td>\n",
       "      <td>-2.347000e+09</td>\n",
       "      <td>-5.700000e+08</td>\n",
       "      <td>-4.158000e+09</td>\n",
       "    </tr>\n",
       "    <tr>\n",
       "      <th>Cash Dividends Paid</th>\n",
       "      <td>0.000000e+00</td>\n",
       "      <td>-1.795000e+09</td>\n",
       "      <td>0.000000e+00</td>\n",
       "      <td>-3.123000e+09</td>\n",
       "    </tr>\n",
       "    <tr>\n",
       "      <th>Net Issuance Payments Of Debt</th>\n",
       "      <td>8.740000e+08</td>\n",
       "      <td>2.140000e+08</td>\n",
       "      <td>3.980000e+08</td>\n",
       "      <td>-3.460000e+08</td>\n",
       "    </tr>\n",
       "    <tr>\n",
       "      <th>Net Long Term Debt Issuance</th>\n",
       "      <td>8.740000e+08</td>\n",
       "      <td>2.140000e+08</td>\n",
       "      <td>3.980000e+08</td>\n",
       "      <td>-3.460000e+08</td>\n",
       "    </tr>\n",
       "    <tr>\n",
       "      <th>Long Term Debt Payments</th>\n",
       "      <td>-6.260000e+08</td>\n",
       "      <td>-8.600000e+07</td>\n",
       "      <td>-1.020000e+08</td>\n",
       "      <td>-4.960000e+08</td>\n",
       "    </tr>\n",
       "    <tr>\n",
       "      <th>Long Term Debt Issuance</th>\n",
       "      <td>1.500000e+09</td>\n",
       "      <td>3.000000e+08</td>\n",
       "      <td>5.000000e+08</td>\n",
       "      <td>1.500000e+08</td>\n",
       "    </tr>\n",
       "    <tr>\n",
       "      <th>Investing Cash Flow</th>\n",
       "      <td>-1.067000e+09</td>\n",
       "      <td>-1.326000e+09</td>\n",
       "      <td>-1.864000e+09</td>\n",
       "      <td>-1.014000e+09</td>\n",
       "    </tr>\n",
       "    <tr>\n",
       "      <th>Dividends Received Cfi</th>\n",
       "      <td>1.050000e+08</td>\n",
       "      <td>0.000000e+00</td>\n",
       "      <td>5.500000e+07</td>\n",
       "      <td>2.800000e+07</td>\n",
       "    </tr>\n",
       "    <tr>\n",
       "      <th>Net Investment Purchase And Sale</th>\n",
       "      <td>6.700000e+07</td>\n",
       "      <td>-5.500000e+07</td>\n",
       "      <td>6.250000e+08</td>\n",
       "      <td>1.180000e+08</td>\n",
       "    </tr>\n",
       "    <tr>\n",
       "      <th>Capital Expenditure Reported</th>\n",
       "      <td>-1.208000e+09</td>\n",
       "      <td>-1.130000e+09</td>\n",
       "      <td>-1.787000e+09</td>\n",
       "      <td>-1.230000e+09</td>\n",
       "    </tr>\n",
       "    <tr>\n",
       "      <th>Operating Cash Flow</th>\n",
       "      <td>1.900000e+09</td>\n",
       "      <td>3.610000e+09</td>\n",
       "      <td>1.912000e+09</td>\n",
       "      <td>3.397000e+09</td>\n",
       "    </tr>\n",
       "    <tr>\n",
       "      <th>Taxes Refund Paid</th>\n",
       "      <td>-5.740000e+08</td>\n",
       "      <td>-3.370000e+08</td>\n",
       "      <td>-2.650000e+08</td>\n",
       "      <td>-5.820000e+08</td>\n",
       "    </tr>\n",
       "    <tr>\n",
       "      <th>Interest Paid Cfo</th>\n",
       "      <td>-3.270000e+08</td>\n",
       "      <td>-1.690000e+08</td>\n",
       "      <td>-2.710000e+08</td>\n",
       "      <td>-1.940000e+08</td>\n",
       "    </tr>\n",
       "    <tr>\n",
       "      <th>Change In Working Capital</th>\n",
       "      <td>-5.980000e+08</td>\n",
       "      <td>7.390000e+08</td>\n",
       "      <td>-1.802000e+09</td>\n",
       "      <td>7.770000e+08</td>\n",
       "    </tr>\n",
       "    <tr>\n",
       "      <th>Change In Payable</th>\n",
       "      <td>5.700000e+08</td>\n",
       "      <td>-1.050000e+08</td>\n",
       "      <td>-4.340000e+08</td>\n",
       "      <td>1.169000e+09</td>\n",
       "    </tr>\n",
       "    <tr>\n",
       "      <th>Change In Inventory</th>\n",
       "      <td>-1.570000e+08</td>\n",
       "      <td>-3.630000e+08</td>\n",
       "      <td>9.410000e+08</td>\n",
       "      <td>-2.870000e+08</td>\n",
       "    </tr>\n",
       "    <tr>\n",
       "      <th>Change In Receivables</th>\n",
       "      <td>-2.470000e+08</td>\n",
       "      <td>1.686000e+09</td>\n",
       "      <td>-2.107000e+09</td>\n",
       "      <td>3.000000e+06</td>\n",
       "    </tr>\n",
       "    <tr>\n",
       "      <th>Other Non Cash Items</th>\n",
       "      <td>-4.060000e+08</td>\n",
       "      <td>4.940000e+08</td>\n",
       "      <td>4.010000e+08</td>\n",
       "      <td>-2.255000e+09</td>\n",
       "    </tr>\n",
       "    <tr>\n",
       "      <th>Provisionand Write Offof Assets</th>\n",
       "      <td>1.400000e+08</td>\n",
       "      <td>0.000000e+00</td>\n",
       "      <td>1.330000e+08</td>\n",
       "      <td>1.760000e+08</td>\n",
       "    </tr>\n",
       "    <tr>\n",
       "      <th>Gain Loss On Investment Securities</th>\n",
       "      <td>-6.450000e+08</td>\n",
       "      <td>-2.800000e+08</td>\n",
       "      <td>-4.440000e+08</td>\n",
       "      <td>-3.090000e+08</td>\n",
       "    </tr>\n",
       "    <tr>\n",
       "      <th>Net Income From Continuing Operations</th>\n",
       "      <td>2.720000e+09</td>\n",
       "      <td>2.296000e+09</td>\n",
       "      <td>2.908000e+09</td>\n",
       "      <td>5.248000e+09</td>\n",
       "    </tr>\n",
       "    <tr>\n",
       "      <th>Cash Flow From Continuing Financing Activities</th>\n",
       "      <td>-6.220000e+08</td>\n",
       "      <td>-2.347000e+09</td>\n",
       "      <td>-5.700000e+08</td>\n",
       "      <td>-4.158000e+09</td>\n",
       "    </tr>\n",
       "    <tr>\n",
       "      <th>Cash Flow From Continuing Investing Activities</th>\n",
       "      <td>-1.067000e+09</td>\n",
       "      <td>-1.326000e+09</td>\n",
       "      <td>-1.864000e+09</td>\n",
       "      <td>-1.014000e+09</td>\n",
       "    </tr>\n",
       "    <tr>\n",
       "      <th>Net Other Investing Changes</th>\n",
       "      <td>-3.000000e+07</td>\n",
       "      <td>-6.700000e+07</td>\n",
       "      <td>-1.800000e+08</td>\n",
       "      <td>-7.000000e+07</td>\n",
       "    </tr>\n",
       "    <tr>\n",
       "      <th>Net Business Purchase And Sale</th>\n",
       "      <td>-1.000000e+06</td>\n",
       "      <td>-7.400000e+07</td>\n",
       "      <td>-5.770000e+08</td>\n",
       "      <td>1.400000e+08</td>\n",
       "    </tr>\n",
       "    <tr>\n",
       "      <th>Purchase Of Business</th>\n",
       "      <td>-1.000000e+06</td>\n",
       "      <td>-7.400000e+07</td>\n",
       "      <td>0.000000e+00</td>\n",
       "      <td>0.000000e+00</td>\n",
       "    </tr>\n",
       "    <tr>\n",
       "      <th>Cash Flow From Continuing Operating Activities</th>\n",
       "      <td>1.900000e+09</td>\n",
       "      <td>3.610000e+09</td>\n",
       "      <td>1.912000e+09</td>\n",
       "      <td>3.397000e+09</td>\n",
       "    </tr>\n",
       "    <tr>\n",
       "      <th>Change In Other Working Capital</th>\n",
       "      <td>-7.640000e+08</td>\n",
       "      <td>-4.790000e+08</td>\n",
       "      <td>-2.990000e+08</td>\n",
       "      <td>-2.660000e+08</td>\n",
       "    </tr>\n",
       "    <tr>\n",
       "      <th>Change In Payables And Accrued Expense</th>\n",
       "      <td>5.700000e+08</td>\n",
       "      <td>-1.050000e+08</td>\n",
       "      <td>-3.370000e+08</td>\n",
       "      <td>1.327000e+09</td>\n",
       "    </tr>\n",
       "    <tr>\n",
       "      <th>Change In Account Payable</th>\n",
       "      <td>5.700000e+08</td>\n",
       "      <td>-1.050000e+08</td>\n",
       "      <td>-4.340000e+08</td>\n",
       "      <td>1.169000e+09</td>\n",
       "    </tr>\n",
       "    <tr>\n",
       "      <th>Changes In Account Receivables</th>\n",
       "      <td>-2.470000e+08</td>\n",
       "      <td>1.686000e+09</td>\n",
       "      <td>-2.107000e+09</td>\n",
       "      <td>3.000000e+06</td>\n",
       "    </tr>\n",
       "    <tr>\n",
       "      <th>Asset Impairment Charge</th>\n",
       "      <td>6.600000e+07</td>\n",
       "      <td>4.000000e+06</td>\n",
       "      <td>1.770000e+08</td>\n",
       "      <td>4.000000e+07</td>\n",
       "    </tr>\n",
       "    <tr>\n",
       "      <th>Depreciation Amortization Depletion</th>\n",
       "      <td>7.790000e+08</td>\n",
       "      <td>6.560000e+08</td>\n",
       "      <td>9.000000e+08</td>\n",
       "      <td>7.750000e+08</td>\n",
       "    </tr>\n",
       "    <tr>\n",
       "      <th>Operating Gains Losses</th>\n",
       "      <td>1.000000e+08</td>\n",
       "      <td>-7.300000e+07</td>\n",
       "      <td>-2.690000e+08</td>\n",
       "      <td>-5.880000e+08</td>\n",
       "    </tr>\n",
       "    <tr>\n",
       "      <th>Earnings Losses From Equity Investments</th>\n",
       "      <td>-5.000000e+06</td>\n",
       "      <td>5.500000e+07</td>\n",
       "      <td>-7.200000e+07</td>\n",
       "      <td>-7.800000e+07</td>\n",
       "    </tr>\n",
       "    <tr>\n",
       "      <th>Net Foreign Currency Exchange Gain Loss</th>\n",
       "      <td>7.500000e+08</td>\n",
       "      <td>1.520000e+08</td>\n",
       "      <td>2.470000e+08</td>\n",
       "      <td>-2.010000e+08</td>\n",
       "    </tr>\n",
       "    <tr>\n",
       "      <th>Effect Of Exchange Rate Changes</th>\n",
       "      <td>6.700000e+07</td>\n",
       "      <td>3.200000e+07</td>\n",
       "      <td>7.600000e+07</td>\n",
       "      <td>-2.280000e+08</td>\n",
       "    </tr>\n",
       "    <tr>\n",
       "      <th>Net Other Financing Charges</th>\n",
       "      <td>-1.350000e+08</td>\n",
       "      <td>-3.000000e+06</td>\n",
       "      <td>-2.000000e+06</td>\n",
       "      <td>-3.000000e+06</td>\n",
       "    </tr>\n",
       "    <tr>\n",
       "      <th>Net Common Stock Issuance</th>\n",
       "      <td>-1.361000e+09</td>\n",
       "      <td>-7.630000e+08</td>\n",
       "      <td>-9.660000e+08</td>\n",
       "      <td>-6.860000e+08</td>\n",
       "    </tr>\n",
       "    <tr>\n",
       "      <th>Cash From Discontinued Investing Activities</th>\n",
       "      <td>0.000000e+00</td>\n",
       "      <td>0.000000e+00</td>\n",
       "      <td>0.000000e+00</td>\n",
       "      <td>0.000000e+00</td>\n",
       "    </tr>\n",
       "    <tr>\n",
       "      <th>Repurchase Of Capital Stock</th>\n",
       "      <td>-1.361000e+09</td>\n",
       "      <td>-7.630000e+08</td>\n",
       "      <td>-9.660000e+08</td>\n",
       "      <td>-6.860000e+08</td>\n",
       "    </tr>\n",
       "    <tr>\n",
       "      <th>Common Stock Payments</th>\n",
       "      <td>-1.361000e+09</td>\n",
       "      <td>-7.630000e+08</td>\n",
       "      <td>-9.660000e+08</td>\n",
       "      <td>-6.860000e+08</td>\n",
       "    </tr>\n",
       "    <tr>\n",
       "      <th>Other Cash Adjustment Outside Changein Cash</th>\n",
       "      <td>0.000000e+00</td>\n",
       "      <td>0.000000e+00</td>\n",
       "      <td>0.000000e+00</td>\n",
       "      <td>0.000000e+00</td>\n",
       "    </tr>\n",
       "    <tr>\n",
       "      <th>Cash From Discontinued Financing Activities</th>\n",
       "      <td>0.000000e+00</td>\n",
       "      <td>0.000000e+00</td>\n",
       "      <td>0.000000e+00</td>\n",
       "      <td>0.000000e+00</td>\n",
       "    </tr>\n",
       "    <tr>\n",
       "      <th>Cash From Discontinued Operating Activities</th>\n",
       "      <td>0.000000e+00</td>\n",
       "      <td>0.000000e+00</td>\n",
       "      <td>0.000000e+00</td>\n",
       "      <td>0.000000e+00</td>\n",
       "    </tr>\n",
       "  </tbody>\n",
       "</table>\n",
       "</div>"
      ],
      "text/plain": [
       "                                                2023-06-30 00:00:00  \\\n",
       "Free Cash Flow                                         6.920000e+08   \n",
       "Repayment Of Debt                                     -6.260000e+08   \n",
       "Issuance Of Debt                                       1.500000e+09   \n",
       "Capital Expenditure                                   -1.208000e+09   \n",
       "End Cash Position                                      4.983000e+09   \n",
       "Beginning Cash Position                                4.705000e+09   \n",
       "Changes In Cash                                        2.110000e+08   \n",
       "Financing Cash Flow                                   -6.220000e+08   \n",
       "Cash Dividends Paid                                    0.000000e+00   \n",
       "Net Issuance Payments Of Debt                          8.740000e+08   \n",
       "Net Long Term Debt Issuance                            8.740000e+08   \n",
       "Long Term Debt Payments                               -6.260000e+08   \n",
       "Long Term Debt Issuance                                1.500000e+09   \n",
       "Investing Cash Flow                                   -1.067000e+09   \n",
       "Dividends Received Cfi                                 1.050000e+08   \n",
       "Net Investment Purchase And Sale                       6.700000e+07   \n",
       "Capital Expenditure Reported                          -1.208000e+09   \n",
       "Operating Cash Flow                                    1.900000e+09   \n",
       "Taxes Refund Paid                                     -5.740000e+08   \n",
       "Interest Paid Cfo                                     -3.270000e+08   \n",
       "Change In Working Capital                             -5.980000e+08   \n",
       "Change In Payable                                      5.700000e+08   \n",
       "Change In Inventory                                   -1.570000e+08   \n",
       "Change In Receivables                                 -2.470000e+08   \n",
       "Other Non Cash Items                                  -4.060000e+08   \n",
       "Provisionand Write Offof Assets                        1.400000e+08   \n",
       "Gain Loss On Investment Securities                    -6.450000e+08   \n",
       "Net Income From Continuing Operations                  2.720000e+09   \n",
       "Cash Flow From Continuing Financing Activities        -6.220000e+08   \n",
       "Cash Flow From Continuing Investing Activities        -1.067000e+09   \n",
       "Net Other Investing Changes                           -3.000000e+07   \n",
       "Net Business Purchase And Sale                        -1.000000e+06   \n",
       "Purchase Of Business                                  -1.000000e+06   \n",
       "Cash Flow From Continuing Operating Activities         1.900000e+09   \n",
       "Change In Other Working Capital                       -7.640000e+08   \n",
       "Change In Payables And Accrued Expense                 5.700000e+08   \n",
       "Change In Account Payable                              5.700000e+08   \n",
       "Changes In Account Receivables                        -2.470000e+08   \n",
       "Asset Impairment Charge                                6.600000e+07   \n",
       "Depreciation Amortization Depletion                    7.790000e+08   \n",
       "Operating Gains Losses                                 1.000000e+08   \n",
       "Earnings Losses From Equity Investments               -5.000000e+06   \n",
       "Net Foreign Currency Exchange Gain Loss                7.500000e+08   \n",
       "Effect Of Exchange Rate Changes                        6.700000e+07   \n",
       "Net Other Financing Charges                           -1.350000e+08   \n",
       "Net Common Stock Issuance                             -1.361000e+09   \n",
       "Cash From Discontinued Investing Activities            0.000000e+00   \n",
       "Repurchase Of Capital Stock                           -1.361000e+09   \n",
       "Common Stock Payments                                 -1.361000e+09   \n",
       "Other Cash Adjustment Outside Changein Cash            0.000000e+00   \n",
       "Cash From Discontinued Financing Activities            0.000000e+00   \n",
       "Cash From Discontinued Operating Activities            0.000000e+00   \n",
       "\n",
       "                                                2023-03-31 00:00:00  \\\n",
       "Free Cash Flow                                         2.480000e+09   \n",
       "Repayment Of Debt                                     -8.600000e+07   \n",
       "Issuance Of Debt                                       3.000000e+08   \n",
       "Capital Expenditure                                   -1.130000e+09   \n",
       "End Cash Position                                      4.705000e+09   \n",
       "Beginning Cash Position                                4.736000e+09   \n",
       "Changes In Cash                                       -6.300000e+07   \n",
       "Financing Cash Flow                                   -2.347000e+09   \n",
       "Cash Dividends Paid                                   -1.795000e+09   \n",
       "Net Issuance Payments Of Debt                          2.140000e+08   \n",
       "Net Long Term Debt Issuance                            2.140000e+08   \n",
       "Long Term Debt Payments                               -8.600000e+07   \n",
       "Long Term Debt Issuance                                3.000000e+08   \n",
       "Investing Cash Flow                                   -1.326000e+09   \n",
       "Dividends Received Cfi                                 0.000000e+00   \n",
       "Net Investment Purchase And Sale                      -5.500000e+07   \n",
       "Capital Expenditure Reported                          -1.130000e+09   \n",
       "Operating Cash Flow                                    3.610000e+09   \n",
       "Taxes Refund Paid                                     -3.370000e+08   \n",
       "Interest Paid Cfo                                     -1.690000e+08   \n",
       "Change In Working Capital                              7.390000e+08   \n",
       "Change In Payable                                     -1.050000e+08   \n",
       "Change In Inventory                                   -3.630000e+08   \n",
       "Change In Receivables                                  1.686000e+09   \n",
       "Other Non Cash Items                                   4.940000e+08   \n",
       "Provisionand Write Offof Assets                        0.000000e+00   \n",
       "Gain Loss On Investment Securities                    -2.800000e+08   \n",
       "Net Income From Continuing Operations                  2.296000e+09   \n",
       "Cash Flow From Continuing Financing Activities        -2.347000e+09   \n",
       "Cash Flow From Continuing Investing Activities        -1.326000e+09   \n",
       "Net Other Investing Changes                           -6.700000e+07   \n",
       "Net Business Purchase And Sale                        -7.400000e+07   \n",
       "Purchase Of Business                                  -7.400000e+07   \n",
       "Cash Flow From Continuing Operating Activities         3.610000e+09   \n",
       "Change In Other Working Capital                       -4.790000e+08   \n",
       "Change In Payables And Accrued Expense                -1.050000e+08   \n",
       "Change In Account Payable                             -1.050000e+08   \n",
       "Changes In Account Receivables                         1.686000e+09   \n",
       "Asset Impairment Charge                                4.000000e+06   \n",
       "Depreciation Amortization Depletion                    6.560000e+08   \n",
       "Operating Gains Losses                                -7.300000e+07   \n",
       "Earnings Losses From Equity Investments                5.500000e+07   \n",
       "Net Foreign Currency Exchange Gain Loss                1.520000e+08   \n",
       "Effect Of Exchange Rate Changes                        3.200000e+07   \n",
       "Net Other Financing Charges                           -3.000000e+06   \n",
       "Net Common Stock Issuance                             -7.630000e+08   \n",
       "Cash From Discontinued Investing Activities            0.000000e+00   \n",
       "Repurchase Of Capital Stock                           -7.630000e+08   \n",
       "Common Stock Payments                                 -7.630000e+08   \n",
       "Other Cash Adjustment Outside Changein Cash            0.000000e+00   \n",
       "Cash From Discontinued Financing Activities            0.000000e+00   \n",
       "Cash From Discontinued Operating Activities            0.000000e+00   \n",
       "\n",
       "                                                2022-12-31 00:00:00  \\\n",
       "Free Cash Flow                                         1.250000e+08   \n",
       "Repayment Of Debt                                     -1.020000e+08   \n",
       "Issuance Of Debt                                       5.000000e+08   \n",
       "Capital Expenditure                                   -1.787000e+09   \n",
       "End Cash Position                                      4.736000e+09   \n",
       "Beginning Cash Position                                5.182000e+09   \n",
       "Changes In Cash                                       -5.220000e+08   \n",
       "Financing Cash Flow                                   -5.700000e+08   \n",
       "Cash Dividends Paid                                    0.000000e+00   \n",
       "Net Issuance Payments Of Debt                          3.980000e+08   \n",
       "Net Long Term Debt Issuance                            3.980000e+08   \n",
       "Long Term Debt Payments                               -1.020000e+08   \n",
       "Long Term Debt Issuance                                5.000000e+08   \n",
       "Investing Cash Flow                                   -1.864000e+09   \n",
       "Dividends Received Cfi                                 5.500000e+07   \n",
       "Net Investment Purchase And Sale                       6.250000e+08   \n",
       "Capital Expenditure Reported                          -1.787000e+09   \n",
       "Operating Cash Flow                                    1.912000e+09   \n",
       "Taxes Refund Paid                                     -2.650000e+08   \n",
       "Interest Paid Cfo                                     -2.710000e+08   \n",
       "Change In Working Capital                             -1.802000e+09   \n",
       "Change In Payable                                     -4.340000e+08   \n",
       "Change In Inventory                                    9.410000e+08   \n",
       "Change In Receivables                                 -2.107000e+09   \n",
       "Other Non Cash Items                                   4.010000e+08   \n",
       "Provisionand Write Offof Assets                        1.330000e+08   \n",
       "Gain Loss On Investment Securities                    -4.440000e+08   \n",
       "Net Income From Continuing Operations                  2.908000e+09   \n",
       "Cash Flow From Continuing Financing Activities        -5.700000e+08   \n",
       "Cash Flow From Continuing Investing Activities        -1.864000e+09   \n",
       "Net Other Investing Changes                           -1.800000e+08   \n",
       "Net Business Purchase And Sale                        -5.770000e+08   \n",
       "Purchase Of Business                                   0.000000e+00   \n",
       "Cash Flow From Continuing Operating Activities         1.912000e+09   \n",
       "Change In Other Working Capital                       -2.990000e+08   \n",
       "Change In Payables And Accrued Expense                -3.370000e+08   \n",
       "Change In Account Payable                             -4.340000e+08   \n",
       "Changes In Account Receivables                        -2.107000e+09   \n",
       "Asset Impairment Charge                                1.770000e+08   \n",
       "Depreciation Amortization Depletion                    9.000000e+08   \n",
       "Operating Gains Losses                                -2.690000e+08   \n",
       "Earnings Losses From Equity Investments               -7.200000e+07   \n",
       "Net Foreign Currency Exchange Gain Loss                2.470000e+08   \n",
       "Effect Of Exchange Rate Changes                        7.600000e+07   \n",
       "Net Other Financing Charges                           -2.000000e+06   \n",
       "Net Common Stock Issuance                             -9.660000e+08   \n",
       "Cash From Discontinued Investing Activities            0.000000e+00   \n",
       "Repurchase Of Capital Stock                           -9.660000e+08   \n",
       "Common Stock Payments                                 -9.660000e+08   \n",
       "Other Cash Adjustment Outside Changein Cash            0.000000e+00   \n",
       "Cash From Discontinued Financing Activities            0.000000e+00   \n",
       "Cash From Discontinued Operating Activities            0.000000e+00   \n",
       "\n",
       "                                                2022-09-30 00:00:00  \n",
       "Free Cash Flow                                         2.167000e+09  \n",
       "Repayment Of Debt                                     -4.960000e+08  \n",
       "Issuance Of Debt                                       1.500000e+08  \n",
       "Capital Expenditure                                   -1.230000e+09  \n",
       "End Cash Position                                      5.182000e+09  \n",
       "Beginning Cash Position                                7.185000e+09  \n",
       "Changes In Cash                                       -1.775000e+09  \n",
       "Financing Cash Flow                                   -4.158000e+09  \n",
       "Cash Dividends Paid                                   -3.123000e+09  \n",
       "Net Issuance Payments Of Debt                         -3.460000e+08  \n",
       "Net Long Term Debt Issuance                           -3.460000e+08  \n",
       "Long Term Debt Payments                               -4.960000e+08  \n",
       "Long Term Debt Issuance                                1.500000e+08  \n",
       "Investing Cash Flow                                   -1.014000e+09  \n",
       "Dividends Received Cfi                                 2.800000e+07  \n",
       "Net Investment Purchase And Sale                       1.180000e+08  \n",
       "Capital Expenditure Reported                          -1.230000e+09  \n",
       "Operating Cash Flow                                    3.397000e+09  \n",
       "Taxes Refund Paid                                     -5.820000e+08  \n",
       "Interest Paid Cfo                                     -1.940000e+08  \n",
       "Change In Working Capital                              7.770000e+08  \n",
       "Change In Payable                                      1.169000e+09  \n",
       "Change In Inventory                                   -2.870000e+08  \n",
       "Change In Receivables                                  3.000000e+06  \n",
       "Other Non Cash Items                                  -2.255000e+09  \n",
       "Provisionand Write Offof Assets                        1.760000e+08  \n",
       "Gain Loss On Investment Securities                    -3.090000e+08  \n",
       "Net Income From Continuing Operations                  5.248000e+09  \n",
       "Cash Flow From Continuing Financing Activities        -4.158000e+09  \n",
       "Cash Flow From Continuing Investing Activities        -1.014000e+09  \n",
       "Net Other Investing Changes                           -7.000000e+07  \n",
       "Net Business Purchase And Sale                         1.400000e+08  \n",
       "Purchase Of Business                                   0.000000e+00  \n",
       "Cash Flow From Continuing Operating Activities         3.397000e+09  \n",
       "Change In Other Working Capital                       -2.660000e+08  \n",
       "Change In Payables And Accrued Expense                 1.327000e+09  \n",
       "Change In Account Payable                              1.169000e+09  \n",
       "Changes In Account Receivables                         3.000000e+06  \n",
       "Asset Impairment Charge                                4.000000e+07  \n",
       "Depreciation Amortization Depletion                    7.750000e+08  \n",
       "Operating Gains Losses                                -5.880000e+08  \n",
       "Earnings Losses From Equity Investments               -7.800000e+07  \n",
       "Net Foreign Currency Exchange Gain Loss               -2.010000e+08  \n",
       "Effect Of Exchange Rate Changes                       -2.280000e+08  \n",
       "Net Other Financing Charges                           -3.000000e+06  \n",
       "Net Common Stock Issuance                             -6.860000e+08  \n",
       "Cash From Discontinued Investing Activities            0.000000e+00  \n",
       "Repurchase Of Capital Stock                           -6.860000e+08  \n",
       "Common Stock Payments                                 -6.860000e+08  \n",
       "Other Cash Adjustment Outside Changein Cash            0.000000e+00  \n",
       "Cash From Discontinued Financing Activities            0.000000e+00  \n",
       "Cash From Discontinued Operating Activities            0.000000e+00  "
      ]
     },
     "execution_count": 30,
     "metadata": {},
     "output_type": "execute_result"
    }
   ],
   "source": [
    "df = brazilian_companies_cashflow[\"VALE3.SA\"].dropna()\n",
    "df"
   ]
  },
  {
   "cell_type": "code",
   "execution_count": 5,
   "metadata": {},
   "outputs": [],
   "source": [
    "X_cashflow = df.iloc[:, 1:4]\n",
    "y_cashflow = df.iloc[:, 0]"
   ]
  },
  {
   "cell_type": "code",
   "execution_count": 6,
   "metadata": {},
   "outputs": [
    {
     "data": {
      "text/plain": [
       "(52, 3)"
      ]
     },
     "execution_count": 6,
     "metadata": {},
     "output_type": "execute_result"
    }
   ],
   "source": [
    "X_cashflow.shape"
   ]
  },
  {
   "cell_type": "markdown",
   "metadata": {},
   "source": [
    "## Padronização dos dados"
   ]
  },
  {
   "cell_type": "code",
   "execution_count": 7,
   "metadata": {},
   "outputs": [
    {
     "data": {
      "text/plain": [
       "array([[0.68149089, 0.30621484, 0.55761262],\n",
       "       [0.31921502, 0.27507203, 0.32284228],\n",
       "       [0.3737117 , 0.35766223, 0.37979371],\n",
       "       [0.17181985, 0.04390177, 0.25813277],\n",
       "       [0.99562332, 0.93881191, 0.82341532],\n",
       "       [1.        , 1.        , 1.        ],\n",
       "       [0.32246223, 0.21745095, 0.21008552],\n",
       "       [0.        , 0.21086569, 0.        ],\n",
       "       [0.07793308, 0.28906572, 0.0912457 ],\n",
       "       [0.36156996, 0.34366854, 0.3360663 ],\n",
       "       [0.36156996, 0.34366854, 0.3360663 ],\n",
       "       [0.31921502, 0.27507203, 0.32284228],\n",
       "       [0.3737117 , 0.35766223, 0.37979371],\n",
       "       [0.14414796, 0.03333791, 0.27717535],\n",
       "       [0.33135677, 0.29661133, 0.36903817],\n",
       "       [0.3235917 , 0.37481136, 0.37697258],\n",
       "       [0.17181985, 0.04390177, 0.25813277],\n",
       "       [0.84102781, 0.55137879, 0.66604955],\n",
       "       [0.28377806, 0.25270956, 0.31526051],\n",
       "       [0.30749682, 0.2518864 , 0.34946663],\n",
       "       [0.43569109, 0.04184387, 0.43507009],\n",
       "       [0.31653254, 0.22952394, 0.46962885],\n",
       "       [0.2801073 , 0.41816436, 0.34126774],\n",
       "       [0.5693915 , 0.        , 0.36683417],\n",
       "       [0.40110123, 0.34408012, 0.16776867],\n",
       "       [0.33135677, 0.30731239, 0.38208587],\n",
       "       [0.2918255 , 0.22815201, 0.33932822],\n",
       "       [0.6555132 , 0.68802305, 0.82923389],\n",
       "       [0.        , 0.21086569, 0.        ],\n",
       "       [0.14414796, 0.03333791, 0.27717535],\n",
       "       [0.3218975 , 0.26437097, 0.36039848],\n",
       "       [0.32090922, 0.20990534, 0.3789121 ],\n",
       "       [0.32090922, 0.28906572, 0.36656969],\n",
       "       [0.84102781, 0.55137879, 0.66604955],\n",
       "       [0.26373006, 0.248045  , 0.3431191 ],\n",
       "       [0.31653254, 0.24283166, 0.48355814],\n",
       "       [0.31653254, 0.22952394, 0.46962885],\n",
       "       [0.5693915 , 0.        , 0.36683417],\n",
       "       [0.3319215 , 0.31334888, 0.37009609],\n",
       "       [0.42397289, 0.41253944, 0.43489377],\n",
       "       [0.3210504 , 0.25216079, 0.31473155],\n",
       "       [0.33912184, 0.27918782, 0.3596932 ],\n",
       "       [0.3528166 , 0.32295239, 0.34884951],\n",
       "       [0.33587463, 0.29949239, 0.34646919],\n",
       "       [0.33093322, 0.28879133, 0.36630521],\n",
       "       [0.22363405, 0.15653725, 0.30609186],\n",
       "       [0.33135677, 0.28906572, 0.36656969],\n",
       "       [0.22363405, 0.15653725, 0.30609186],\n",
       "       [0.22363405, 0.15653725, 0.30609186],\n",
       "       [0.33135677, 0.28906572, 0.36656969],\n",
       "       [0.33135677, 0.28906572, 0.36656969],\n",
       "       [0.33135677, 0.28906572, 0.36656969]])"
      ]
     },
     "execution_count": 7,
     "metadata": {},
     "output_type": "execute_result"
    }
   ],
   "source": [
    "from sklearn.preprocessing import MinMaxScaler\n",
    "\n",
    "scaler = MinMaxScaler()\n",
    "X_cashflow_scaler = scaler.fit_transform(X_cashflow)\n",
    "\n",
    "X_cashflow_scaler"
   ]
  },
  {
   "cell_type": "markdown",
   "metadata": {},
   "source": [
    "### Seleção de atributos com _low variance_"
   ]
  },
  {
   "cell_type": "code",
   "execution_count": 16,
   "metadata": {},
   "outputs": [],
   "source": [
    "variance = [\n",
    "  X_cashflow_scaler[i].var() \n",
    "  for i in range(X_cashflow_scaler.shape[0])\n",
    "]"
   ]
  },
  {
   "cell_type": "code",
   "execution_count": 17,
   "metadata": {},
   "outputs": [
    {
     "data": {
      "application/vnd.plotly.v1+json": {
       "config": {
        "plotlyServerURL": "https://plot.ly"
       },
       "data": [
        {
         "alignmentgroup": "True",
         "hovertemplate": "variable=%{x}<br>value=%{y}<extra></extra>",
         "legendgroup": "",
         "marker": {
          "color": "#636efa"
         },
         "name": "",
         "notched": false,
         "offsetgroup": "",
         "orientation": "v",
         "showlegend": false,
         "type": "box",
         "x": [
          "0",
          "0",
          "0",
          "0",
          "0",
          "0",
          "0",
          "0",
          "0",
          "0",
          "0",
          "0",
          "0",
          "0",
          "0",
          "0",
          "0",
          "0",
          "0",
          "0",
          "0",
          "0",
          "0",
          "0",
          "0",
          "0",
          "0",
          "0",
          "0",
          "0",
          "0",
          "0",
          "0",
          "0",
          "0",
          "0",
          "0",
          "0",
          "0",
          "0",
          "0",
          "0",
          "0",
          "0",
          "0",
          "0",
          "0",
          "0",
          "0",
          "0",
          "0",
          "0"
         ],
         "x0": " ",
         "xaxis": "x",
         "y": [
          0.02437542030402283,
          0.00047152870603269734,
          0.0000871531668888443,
          0.007745319594164915,
          0.005133278295734945,
          0,
          0.0026344606011681052,
          0.009880964085651906,
          0.009320774852542289,
          0.00011429904915970464,
          0.00011429904915970464,
          0.00047152870603269734,
          0.0000871531668888443,
          0.009936872631027951,
          0.0008747534369803354,
          0.0006086270360356009,
          0.007745319594164915,
          0.014184814759387696,
          0.0006521130929657855,
          0.001597320472970278,
          0.034415874504982166,
          0.009851037864393883,
          0.0031903822760356144,
          0.05553371799645437,
          0.009864579871729957,
          0.0009714052104953875,
          0.0020745523765121694,
          0.00568625212305482,
          0.009880964085651906,
          0.009936872631027951,
          0.001556990091873285,
          0.004916609342969745,
          0.0010117503921257013,
          0.014184814759387696,
          0.001731969687736237,
          0.010142067457544793,
          0.009851037864393883,
          0.05553371799645437,
          0.0005580542072609378,
          0.00008330056386706249,
          0.0009667563128053216,
          0.0011662650269799516,
          0.00017536327349140148,
          0.0004047480303757818,
          0.0010039464855349674,
          0.003740872720609264,
          0.0010039276911243261,
          0.003740872720609264,
          0.003740872720609264,
          0.0010039276911243261,
          0.0010039276911243261,
          0.0010039276911243261
         ],
         "y0": " ",
         "yaxis": "y"
        }
       ],
       "layout": {
        "boxmode": "group",
        "legend": {
         "tracegroupgap": 0
        },
        "margin": {
         "t": 60
        },
        "template": {
         "data": {
          "bar": [
           {
            "error_x": {
             "color": "#2a3f5f"
            },
            "error_y": {
             "color": "#2a3f5f"
            },
            "marker": {
             "line": {
              "color": "#E5ECF6",
              "width": 0.5
             },
             "pattern": {
              "fillmode": "overlay",
              "size": 10,
              "solidity": 0.2
             }
            },
            "type": "bar"
           }
          ],
          "barpolar": [
           {
            "marker": {
             "line": {
              "color": "#E5ECF6",
              "width": 0.5
             },
             "pattern": {
              "fillmode": "overlay",
              "size": 10,
              "solidity": 0.2
             }
            },
            "type": "barpolar"
           }
          ],
          "carpet": [
           {
            "aaxis": {
             "endlinecolor": "#2a3f5f",
             "gridcolor": "white",
             "linecolor": "white",
             "minorgridcolor": "white",
             "startlinecolor": "#2a3f5f"
            },
            "baxis": {
             "endlinecolor": "#2a3f5f",
             "gridcolor": "white",
             "linecolor": "white",
             "minorgridcolor": "white",
             "startlinecolor": "#2a3f5f"
            },
            "type": "carpet"
           }
          ],
          "choropleth": [
           {
            "colorbar": {
             "outlinewidth": 0,
             "ticks": ""
            },
            "type": "choropleth"
           }
          ],
          "contour": [
           {
            "colorbar": {
             "outlinewidth": 0,
             "ticks": ""
            },
            "colorscale": [
             [
              0,
              "#0d0887"
             ],
             [
              0.1111111111111111,
              "#46039f"
             ],
             [
              0.2222222222222222,
              "#7201a8"
             ],
             [
              0.3333333333333333,
              "#9c179e"
             ],
             [
              0.4444444444444444,
              "#bd3786"
             ],
             [
              0.5555555555555556,
              "#d8576b"
             ],
             [
              0.6666666666666666,
              "#ed7953"
             ],
             [
              0.7777777777777778,
              "#fb9f3a"
             ],
             [
              0.8888888888888888,
              "#fdca26"
             ],
             [
              1,
              "#f0f921"
             ]
            ],
            "type": "contour"
           }
          ],
          "contourcarpet": [
           {
            "colorbar": {
             "outlinewidth": 0,
             "ticks": ""
            },
            "type": "contourcarpet"
           }
          ],
          "heatmap": [
           {
            "colorbar": {
             "outlinewidth": 0,
             "ticks": ""
            },
            "colorscale": [
             [
              0,
              "#0d0887"
             ],
             [
              0.1111111111111111,
              "#46039f"
             ],
             [
              0.2222222222222222,
              "#7201a8"
             ],
             [
              0.3333333333333333,
              "#9c179e"
             ],
             [
              0.4444444444444444,
              "#bd3786"
             ],
             [
              0.5555555555555556,
              "#d8576b"
             ],
             [
              0.6666666666666666,
              "#ed7953"
             ],
             [
              0.7777777777777778,
              "#fb9f3a"
             ],
             [
              0.8888888888888888,
              "#fdca26"
             ],
             [
              1,
              "#f0f921"
             ]
            ],
            "type": "heatmap"
           }
          ],
          "heatmapgl": [
           {
            "colorbar": {
             "outlinewidth": 0,
             "ticks": ""
            },
            "colorscale": [
             [
              0,
              "#0d0887"
             ],
             [
              0.1111111111111111,
              "#46039f"
             ],
             [
              0.2222222222222222,
              "#7201a8"
             ],
             [
              0.3333333333333333,
              "#9c179e"
             ],
             [
              0.4444444444444444,
              "#bd3786"
             ],
             [
              0.5555555555555556,
              "#d8576b"
             ],
             [
              0.6666666666666666,
              "#ed7953"
             ],
             [
              0.7777777777777778,
              "#fb9f3a"
             ],
             [
              0.8888888888888888,
              "#fdca26"
             ],
             [
              1,
              "#f0f921"
             ]
            ],
            "type": "heatmapgl"
           }
          ],
          "histogram": [
           {
            "marker": {
             "pattern": {
              "fillmode": "overlay",
              "size": 10,
              "solidity": 0.2
             }
            },
            "type": "histogram"
           }
          ],
          "histogram2d": [
           {
            "colorbar": {
             "outlinewidth": 0,
             "ticks": ""
            },
            "colorscale": [
             [
              0,
              "#0d0887"
             ],
             [
              0.1111111111111111,
              "#46039f"
             ],
             [
              0.2222222222222222,
              "#7201a8"
             ],
             [
              0.3333333333333333,
              "#9c179e"
             ],
             [
              0.4444444444444444,
              "#bd3786"
             ],
             [
              0.5555555555555556,
              "#d8576b"
             ],
             [
              0.6666666666666666,
              "#ed7953"
             ],
             [
              0.7777777777777778,
              "#fb9f3a"
             ],
             [
              0.8888888888888888,
              "#fdca26"
             ],
             [
              1,
              "#f0f921"
             ]
            ],
            "type": "histogram2d"
           }
          ],
          "histogram2dcontour": [
           {
            "colorbar": {
             "outlinewidth": 0,
             "ticks": ""
            },
            "colorscale": [
             [
              0,
              "#0d0887"
             ],
             [
              0.1111111111111111,
              "#46039f"
             ],
             [
              0.2222222222222222,
              "#7201a8"
             ],
             [
              0.3333333333333333,
              "#9c179e"
             ],
             [
              0.4444444444444444,
              "#bd3786"
             ],
             [
              0.5555555555555556,
              "#d8576b"
             ],
             [
              0.6666666666666666,
              "#ed7953"
             ],
             [
              0.7777777777777778,
              "#fb9f3a"
             ],
             [
              0.8888888888888888,
              "#fdca26"
             ],
             [
              1,
              "#f0f921"
             ]
            ],
            "type": "histogram2dcontour"
           }
          ],
          "mesh3d": [
           {
            "colorbar": {
             "outlinewidth": 0,
             "ticks": ""
            },
            "type": "mesh3d"
           }
          ],
          "parcoords": [
           {
            "line": {
             "colorbar": {
              "outlinewidth": 0,
              "ticks": ""
             }
            },
            "type": "parcoords"
           }
          ],
          "pie": [
           {
            "automargin": true,
            "type": "pie"
           }
          ],
          "scatter": [
           {
            "fillpattern": {
             "fillmode": "overlay",
             "size": 10,
             "solidity": 0.2
            },
            "type": "scatter"
           }
          ],
          "scatter3d": [
           {
            "line": {
             "colorbar": {
              "outlinewidth": 0,
              "ticks": ""
             }
            },
            "marker": {
             "colorbar": {
              "outlinewidth": 0,
              "ticks": ""
             }
            },
            "type": "scatter3d"
           }
          ],
          "scattercarpet": [
           {
            "marker": {
             "colorbar": {
              "outlinewidth": 0,
              "ticks": ""
             }
            },
            "type": "scattercarpet"
           }
          ],
          "scattergeo": [
           {
            "marker": {
             "colorbar": {
              "outlinewidth": 0,
              "ticks": ""
             }
            },
            "type": "scattergeo"
           }
          ],
          "scattergl": [
           {
            "marker": {
             "colorbar": {
              "outlinewidth": 0,
              "ticks": ""
             }
            },
            "type": "scattergl"
           }
          ],
          "scattermapbox": [
           {
            "marker": {
             "colorbar": {
              "outlinewidth": 0,
              "ticks": ""
             }
            },
            "type": "scattermapbox"
           }
          ],
          "scatterpolar": [
           {
            "marker": {
             "colorbar": {
              "outlinewidth": 0,
              "ticks": ""
             }
            },
            "type": "scatterpolar"
           }
          ],
          "scatterpolargl": [
           {
            "marker": {
             "colorbar": {
              "outlinewidth": 0,
              "ticks": ""
             }
            },
            "type": "scatterpolargl"
           }
          ],
          "scatterternary": [
           {
            "marker": {
             "colorbar": {
              "outlinewidth": 0,
              "ticks": ""
             }
            },
            "type": "scatterternary"
           }
          ],
          "surface": [
           {
            "colorbar": {
             "outlinewidth": 0,
             "ticks": ""
            },
            "colorscale": [
             [
              0,
              "#0d0887"
             ],
             [
              0.1111111111111111,
              "#46039f"
             ],
             [
              0.2222222222222222,
              "#7201a8"
             ],
             [
              0.3333333333333333,
              "#9c179e"
             ],
             [
              0.4444444444444444,
              "#bd3786"
             ],
             [
              0.5555555555555556,
              "#d8576b"
             ],
             [
              0.6666666666666666,
              "#ed7953"
             ],
             [
              0.7777777777777778,
              "#fb9f3a"
             ],
             [
              0.8888888888888888,
              "#fdca26"
             ],
             [
              1,
              "#f0f921"
             ]
            ],
            "type": "surface"
           }
          ],
          "table": [
           {
            "cells": {
             "fill": {
              "color": "#EBF0F8"
             },
             "line": {
              "color": "white"
             }
            },
            "header": {
             "fill": {
              "color": "#C8D4E3"
             },
             "line": {
              "color": "white"
             }
            },
            "type": "table"
           }
          ]
         },
         "layout": {
          "annotationdefaults": {
           "arrowcolor": "#2a3f5f",
           "arrowhead": 0,
           "arrowwidth": 1
          },
          "autotypenumbers": "strict",
          "coloraxis": {
           "colorbar": {
            "outlinewidth": 0,
            "ticks": ""
           }
          },
          "colorscale": {
           "diverging": [
            [
             0,
             "#8e0152"
            ],
            [
             0.1,
             "#c51b7d"
            ],
            [
             0.2,
             "#de77ae"
            ],
            [
             0.3,
             "#f1b6da"
            ],
            [
             0.4,
             "#fde0ef"
            ],
            [
             0.5,
             "#f7f7f7"
            ],
            [
             0.6,
             "#e6f5d0"
            ],
            [
             0.7,
             "#b8e186"
            ],
            [
             0.8,
             "#7fbc41"
            ],
            [
             0.9,
             "#4d9221"
            ],
            [
             1,
             "#276419"
            ]
           ],
           "sequential": [
            [
             0,
             "#0d0887"
            ],
            [
             0.1111111111111111,
             "#46039f"
            ],
            [
             0.2222222222222222,
             "#7201a8"
            ],
            [
             0.3333333333333333,
             "#9c179e"
            ],
            [
             0.4444444444444444,
             "#bd3786"
            ],
            [
             0.5555555555555556,
             "#d8576b"
            ],
            [
             0.6666666666666666,
             "#ed7953"
            ],
            [
             0.7777777777777778,
             "#fb9f3a"
            ],
            [
             0.8888888888888888,
             "#fdca26"
            ],
            [
             1,
             "#f0f921"
            ]
           ],
           "sequentialminus": [
            [
             0,
             "#0d0887"
            ],
            [
             0.1111111111111111,
             "#46039f"
            ],
            [
             0.2222222222222222,
             "#7201a8"
            ],
            [
             0.3333333333333333,
             "#9c179e"
            ],
            [
             0.4444444444444444,
             "#bd3786"
            ],
            [
             0.5555555555555556,
             "#d8576b"
            ],
            [
             0.6666666666666666,
             "#ed7953"
            ],
            [
             0.7777777777777778,
             "#fb9f3a"
            ],
            [
             0.8888888888888888,
             "#fdca26"
            ],
            [
             1,
             "#f0f921"
            ]
           ]
          },
          "colorway": [
           "#636efa",
           "#EF553B",
           "#00cc96",
           "#ab63fa",
           "#FFA15A",
           "#19d3f3",
           "#FF6692",
           "#B6E880",
           "#FF97FF",
           "#FECB52"
          ],
          "font": {
           "color": "#2a3f5f"
          },
          "geo": {
           "bgcolor": "white",
           "lakecolor": "white",
           "landcolor": "#E5ECF6",
           "showlakes": true,
           "showland": true,
           "subunitcolor": "white"
          },
          "hoverlabel": {
           "align": "left"
          },
          "hovermode": "closest",
          "mapbox": {
           "style": "light"
          },
          "paper_bgcolor": "white",
          "plot_bgcolor": "#E5ECF6",
          "polar": {
           "angularaxis": {
            "gridcolor": "white",
            "linecolor": "white",
            "ticks": ""
           },
           "bgcolor": "#E5ECF6",
           "radialaxis": {
            "gridcolor": "white",
            "linecolor": "white",
            "ticks": ""
           }
          },
          "scene": {
           "xaxis": {
            "backgroundcolor": "#E5ECF6",
            "gridcolor": "white",
            "gridwidth": 2,
            "linecolor": "white",
            "showbackground": true,
            "ticks": "",
            "zerolinecolor": "white"
           },
           "yaxis": {
            "backgroundcolor": "#E5ECF6",
            "gridcolor": "white",
            "gridwidth": 2,
            "linecolor": "white",
            "showbackground": true,
            "ticks": "",
            "zerolinecolor": "white"
           },
           "zaxis": {
            "backgroundcolor": "#E5ECF6",
            "gridcolor": "white",
            "gridwidth": 2,
            "linecolor": "white",
            "showbackground": true,
            "ticks": "",
            "zerolinecolor": "white"
           }
          },
          "shapedefaults": {
           "line": {
            "color": "#2a3f5f"
           }
          },
          "ternary": {
           "aaxis": {
            "gridcolor": "white",
            "linecolor": "white",
            "ticks": ""
           },
           "baxis": {
            "gridcolor": "white",
            "linecolor": "white",
            "ticks": ""
           },
           "bgcolor": "#E5ECF6",
           "caxis": {
            "gridcolor": "white",
            "linecolor": "white",
            "ticks": ""
           }
          },
          "title": {
           "x": 0.05
          },
          "xaxis": {
           "automargin": true,
           "gridcolor": "white",
           "linecolor": "white",
           "ticks": "",
           "title": {
            "standoff": 15
           },
           "zerolinecolor": "white",
           "zerolinewidth": 2
          },
          "yaxis": {
           "automargin": true,
           "gridcolor": "white",
           "linecolor": "white",
           "ticks": "",
           "title": {
            "standoff": 15
           },
           "zerolinecolor": "white",
           "zerolinewidth": 2
          }
         }
        },
        "xaxis": {
         "anchor": "y",
         "domain": [
          0,
          1
         ],
         "title": {
          "text": "variable"
         }
        },
        "yaxis": {
         "anchor": "x",
         "domain": [
          0,
          1
         ],
         "title": {
          "text": "value"
         }
        }
       }
      }
     },
     "metadata": {},
     "output_type": "display_data"
    }
   ],
   "source": [
    "px.box(variance)"
   ]
  },
  {
   "cell_type": "code",
   "execution_count": 18,
   "metadata": {},
   "outputs": [
    {
     "data": {
      "application/vnd.plotly.v1+json": {
       "config": {
        "plotlyServerURL": "https://plot.ly"
       },
       "data": [
        {
         "hovertemplate": "x=%{x}<br>y=%{y}<extra></extra>",
         "legendgroup": "",
         "marker": {
          "color": "#636efa",
          "symbol": "circle"
         },
         "mode": "markers",
         "name": "",
         "orientation": "v",
         "showlegend": false,
         "type": "scatter",
         "x": [
          0,
          1,
          2,
          3,
          4,
          5,
          6,
          7,
          8,
          9,
          10,
          11,
          12,
          13,
          14,
          15,
          16,
          17,
          18,
          19,
          20,
          21,
          22,
          23,
          24,
          25,
          26,
          27,
          28,
          29,
          30,
          31,
          32,
          33,
          34,
          35,
          36,
          37,
          38,
          39,
          40,
          41,
          42,
          43,
          44,
          45,
          46,
          47,
          48,
          49,
          50,
          51
         ],
         "xaxis": "x",
         "y": [
          0.02437542030402283,
          0.00047152870603269734,
          0.0000871531668888443,
          0.007745319594164915,
          0.005133278295734945,
          0,
          0.0026344606011681052,
          0.009880964085651906,
          0.009320774852542289,
          0.00011429904915970464,
          0.00011429904915970464,
          0.00047152870603269734,
          0.0000871531668888443,
          0.009936872631027951,
          0.0008747534369803354,
          0.0006086270360356009,
          0.007745319594164915,
          0.014184814759387696,
          0.0006521130929657855,
          0.001597320472970278,
          0.034415874504982166,
          0.009851037864393883,
          0.0031903822760356144,
          0.05553371799645437,
          0.009864579871729957,
          0.0009714052104953875,
          0.0020745523765121694,
          0.00568625212305482,
          0.009880964085651906,
          0.009936872631027951,
          0.001556990091873285,
          0.004916609342969745,
          0.0010117503921257013,
          0.014184814759387696,
          0.001731969687736237,
          0.010142067457544793,
          0.009851037864393883,
          0.05553371799645437,
          0.0005580542072609378,
          0.00008330056386706249,
          0.0009667563128053216,
          0.0011662650269799516,
          0.00017536327349140148,
          0.0004047480303757818,
          0.0010039464855349674,
          0.003740872720609264,
          0.0010039276911243261,
          0.003740872720609264,
          0.003740872720609264,
          0.0010039276911243261,
          0.0010039276911243261,
          0.0010039276911243261
         ],
         "yaxis": "y"
        }
       ],
       "layout": {
        "legend": {
         "tracegroupgap": 0
        },
        "margin": {
         "t": 60
        },
        "template": {
         "data": {
          "bar": [
           {
            "error_x": {
             "color": "#2a3f5f"
            },
            "error_y": {
             "color": "#2a3f5f"
            },
            "marker": {
             "line": {
              "color": "#E5ECF6",
              "width": 0.5
             },
             "pattern": {
              "fillmode": "overlay",
              "size": 10,
              "solidity": 0.2
             }
            },
            "type": "bar"
           }
          ],
          "barpolar": [
           {
            "marker": {
             "line": {
              "color": "#E5ECF6",
              "width": 0.5
             },
             "pattern": {
              "fillmode": "overlay",
              "size": 10,
              "solidity": 0.2
             }
            },
            "type": "barpolar"
           }
          ],
          "carpet": [
           {
            "aaxis": {
             "endlinecolor": "#2a3f5f",
             "gridcolor": "white",
             "linecolor": "white",
             "minorgridcolor": "white",
             "startlinecolor": "#2a3f5f"
            },
            "baxis": {
             "endlinecolor": "#2a3f5f",
             "gridcolor": "white",
             "linecolor": "white",
             "minorgridcolor": "white",
             "startlinecolor": "#2a3f5f"
            },
            "type": "carpet"
           }
          ],
          "choropleth": [
           {
            "colorbar": {
             "outlinewidth": 0,
             "ticks": ""
            },
            "type": "choropleth"
           }
          ],
          "contour": [
           {
            "colorbar": {
             "outlinewidth": 0,
             "ticks": ""
            },
            "colorscale": [
             [
              0,
              "#0d0887"
             ],
             [
              0.1111111111111111,
              "#46039f"
             ],
             [
              0.2222222222222222,
              "#7201a8"
             ],
             [
              0.3333333333333333,
              "#9c179e"
             ],
             [
              0.4444444444444444,
              "#bd3786"
             ],
             [
              0.5555555555555556,
              "#d8576b"
             ],
             [
              0.6666666666666666,
              "#ed7953"
             ],
             [
              0.7777777777777778,
              "#fb9f3a"
             ],
             [
              0.8888888888888888,
              "#fdca26"
             ],
             [
              1,
              "#f0f921"
             ]
            ],
            "type": "contour"
           }
          ],
          "contourcarpet": [
           {
            "colorbar": {
             "outlinewidth": 0,
             "ticks": ""
            },
            "type": "contourcarpet"
           }
          ],
          "heatmap": [
           {
            "colorbar": {
             "outlinewidth": 0,
             "ticks": ""
            },
            "colorscale": [
             [
              0,
              "#0d0887"
             ],
             [
              0.1111111111111111,
              "#46039f"
             ],
             [
              0.2222222222222222,
              "#7201a8"
             ],
             [
              0.3333333333333333,
              "#9c179e"
             ],
             [
              0.4444444444444444,
              "#bd3786"
             ],
             [
              0.5555555555555556,
              "#d8576b"
             ],
             [
              0.6666666666666666,
              "#ed7953"
             ],
             [
              0.7777777777777778,
              "#fb9f3a"
             ],
             [
              0.8888888888888888,
              "#fdca26"
             ],
             [
              1,
              "#f0f921"
             ]
            ],
            "type": "heatmap"
           }
          ],
          "heatmapgl": [
           {
            "colorbar": {
             "outlinewidth": 0,
             "ticks": ""
            },
            "colorscale": [
             [
              0,
              "#0d0887"
             ],
             [
              0.1111111111111111,
              "#46039f"
             ],
             [
              0.2222222222222222,
              "#7201a8"
             ],
             [
              0.3333333333333333,
              "#9c179e"
             ],
             [
              0.4444444444444444,
              "#bd3786"
             ],
             [
              0.5555555555555556,
              "#d8576b"
             ],
             [
              0.6666666666666666,
              "#ed7953"
             ],
             [
              0.7777777777777778,
              "#fb9f3a"
             ],
             [
              0.8888888888888888,
              "#fdca26"
             ],
             [
              1,
              "#f0f921"
             ]
            ],
            "type": "heatmapgl"
           }
          ],
          "histogram": [
           {
            "marker": {
             "pattern": {
              "fillmode": "overlay",
              "size": 10,
              "solidity": 0.2
             }
            },
            "type": "histogram"
           }
          ],
          "histogram2d": [
           {
            "colorbar": {
             "outlinewidth": 0,
             "ticks": ""
            },
            "colorscale": [
             [
              0,
              "#0d0887"
             ],
             [
              0.1111111111111111,
              "#46039f"
             ],
             [
              0.2222222222222222,
              "#7201a8"
             ],
             [
              0.3333333333333333,
              "#9c179e"
             ],
             [
              0.4444444444444444,
              "#bd3786"
             ],
             [
              0.5555555555555556,
              "#d8576b"
             ],
             [
              0.6666666666666666,
              "#ed7953"
             ],
             [
              0.7777777777777778,
              "#fb9f3a"
             ],
             [
              0.8888888888888888,
              "#fdca26"
             ],
             [
              1,
              "#f0f921"
             ]
            ],
            "type": "histogram2d"
           }
          ],
          "histogram2dcontour": [
           {
            "colorbar": {
             "outlinewidth": 0,
             "ticks": ""
            },
            "colorscale": [
             [
              0,
              "#0d0887"
             ],
             [
              0.1111111111111111,
              "#46039f"
             ],
             [
              0.2222222222222222,
              "#7201a8"
             ],
             [
              0.3333333333333333,
              "#9c179e"
             ],
             [
              0.4444444444444444,
              "#bd3786"
             ],
             [
              0.5555555555555556,
              "#d8576b"
             ],
             [
              0.6666666666666666,
              "#ed7953"
             ],
             [
              0.7777777777777778,
              "#fb9f3a"
             ],
             [
              0.8888888888888888,
              "#fdca26"
             ],
             [
              1,
              "#f0f921"
             ]
            ],
            "type": "histogram2dcontour"
           }
          ],
          "mesh3d": [
           {
            "colorbar": {
             "outlinewidth": 0,
             "ticks": ""
            },
            "type": "mesh3d"
           }
          ],
          "parcoords": [
           {
            "line": {
             "colorbar": {
              "outlinewidth": 0,
              "ticks": ""
             }
            },
            "type": "parcoords"
           }
          ],
          "pie": [
           {
            "automargin": true,
            "type": "pie"
           }
          ],
          "scatter": [
           {
            "fillpattern": {
             "fillmode": "overlay",
             "size": 10,
             "solidity": 0.2
            },
            "type": "scatter"
           }
          ],
          "scatter3d": [
           {
            "line": {
             "colorbar": {
              "outlinewidth": 0,
              "ticks": ""
             }
            },
            "marker": {
             "colorbar": {
              "outlinewidth": 0,
              "ticks": ""
             }
            },
            "type": "scatter3d"
           }
          ],
          "scattercarpet": [
           {
            "marker": {
             "colorbar": {
              "outlinewidth": 0,
              "ticks": ""
             }
            },
            "type": "scattercarpet"
           }
          ],
          "scattergeo": [
           {
            "marker": {
             "colorbar": {
              "outlinewidth": 0,
              "ticks": ""
             }
            },
            "type": "scattergeo"
           }
          ],
          "scattergl": [
           {
            "marker": {
             "colorbar": {
              "outlinewidth": 0,
              "ticks": ""
             }
            },
            "type": "scattergl"
           }
          ],
          "scattermapbox": [
           {
            "marker": {
             "colorbar": {
              "outlinewidth": 0,
              "ticks": ""
             }
            },
            "type": "scattermapbox"
           }
          ],
          "scatterpolar": [
           {
            "marker": {
             "colorbar": {
              "outlinewidth": 0,
              "ticks": ""
             }
            },
            "type": "scatterpolar"
           }
          ],
          "scatterpolargl": [
           {
            "marker": {
             "colorbar": {
              "outlinewidth": 0,
              "ticks": ""
             }
            },
            "type": "scatterpolargl"
           }
          ],
          "scatterternary": [
           {
            "marker": {
             "colorbar": {
              "outlinewidth": 0,
              "ticks": ""
             }
            },
            "type": "scatterternary"
           }
          ],
          "surface": [
           {
            "colorbar": {
             "outlinewidth": 0,
             "ticks": ""
            },
            "colorscale": [
             [
              0,
              "#0d0887"
             ],
             [
              0.1111111111111111,
              "#46039f"
             ],
             [
              0.2222222222222222,
              "#7201a8"
             ],
             [
              0.3333333333333333,
              "#9c179e"
             ],
             [
              0.4444444444444444,
              "#bd3786"
             ],
             [
              0.5555555555555556,
              "#d8576b"
             ],
             [
              0.6666666666666666,
              "#ed7953"
             ],
             [
              0.7777777777777778,
              "#fb9f3a"
             ],
             [
              0.8888888888888888,
              "#fdca26"
             ],
             [
              1,
              "#f0f921"
             ]
            ],
            "type": "surface"
           }
          ],
          "table": [
           {
            "cells": {
             "fill": {
              "color": "#EBF0F8"
             },
             "line": {
              "color": "white"
             }
            },
            "header": {
             "fill": {
              "color": "#C8D4E3"
             },
             "line": {
              "color": "white"
             }
            },
            "type": "table"
           }
          ]
         },
         "layout": {
          "annotationdefaults": {
           "arrowcolor": "#2a3f5f",
           "arrowhead": 0,
           "arrowwidth": 1
          },
          "autotypenumbers": "strict",
          "coloraxis": {
           "colorbar": {
            "outlinewidth": 0,
            "ticks": ""
           }
          },
          "colorscale": {
           "diverging": [
            [
             0,
             "#8e0152"
            ],
            [
             0.1,
             "#c51b7d"
            ],
            [
             0.2,
             "#de77ae"
            ],
            [
             0.3,
             "#f1b6da"
            ],
            [
             0.4,
             "#fde0ef"
            ],
            [
             0.5,
             "#f7f7f7"
            ],
            [
             0.6,
             "#e6f5d0"
            ],
            [
             0.7,
             "#b8e186"
            ],
            [
             0.8,
             "#7fbc41"
            ],
            [
             0.9,
             "#4d9221"
            ],
            [
             1,
             "#276419"
            ]
           ],
           "sequential": [
            [
             0,
             "#0d0887"
            ],
            [
             0.1111111111111111,
             "#46039f"
            ],
            [
             0.2222222222222222,
             "#7201a8"
            ],
            [
             0.3333333333333333,
             "#9c179e"
            ],
            [
             0.4444444444444444,
             "#bd3786"
            ],
            [
             0.5555555555555556,
             "#d8576b"
            ],
            [
             0.6666666666666666,
             "#ed7953"
            ],
            [
             0.7777777777777778,
             "#fb9f3a"
            ],
            [
             0.8888888888888888,
             "#fdca26"
            ],
            [
             1,
             "#f0f921"
            ]
           ],
           "sequentialminus": [
            [
             0,
             "#0d0887"
            ],
            [
             0.1111111111111111,
             "#46039f"
            ],
            [
             0.2222222222222222,
             "#7201a8"
            ],
            [
             0.3333333333333333,
             "#9c179e"
            ],
            [
             0.4444444444444444,
             "#bd3786"
            ],
            [
             0.5555555555555556,
             "#d8576b"
            ],
            [
             0.6666666666666666,
             "#ed7953"
            ],
            [
             0.7777777777777778,
             "#fb9f3a"
            ],
            [
             0.8888888888888888,
             "#fdca26"
            ],
            [
             1,
             "#f0f921"
            ]
           ]
          },
          "colorway": [
           "#636efa",
           "#EF553B",
           "#00cc96",
           "#ab63fa",
           "#FFA15A",
           "#19d3f3",
           "#FF6692",
           "#B6E880",
           "#FF97FF",
           "#FECB52"
          ],
          "font": {
           "color": "#2a3f5f"
          },
          "geo": {
           "bgcolor": "white",
           "lakecolor": "white",
           "landcolor": "#E5ECF6",
           "showlakes": true,
           "showland": true,
           "subunitcolor": "white"
          },
          "hoverlabel": {
           "align": "left"
          },
          "hovermode": "closest",
          "mapbox": {
           "style": "light"
          },
          "paper_bgcolor": "white",
          "plot_bgcolor": "#E5ECF6",
          "polar": {
           "angularaxis": {
            "gridcolor": "white",
            "linecolor": "white",
            "ticks": ""
           },
           "bgcolor": "#E5ECF6",
           "radialaxis": {
            "gridcolor": "white",
            "linecolor": "white",
            "ticks": ""
           }
          },
          "scene": {
           "xaxis": {
            "backgroundcolor": "#E5ECF6",
            "gridcolor": "white",
            "gridwidth": 2,
            "linecolor": "white",
            "showbackground": true,
            "ticks": "",
            "zerolinecolor": "white"
           },
           "yaxis": {
            "backgroundcolor": "#E5ECF6",
            "gridcolor": "white",
            "gridwidth": 2,
            "linecolor": "white",
            "showbackground": true,
            "ticks": "",
            "zerolinecolor": "white"
           },
           "zaxis": {
            "backgroundcolor": "#E5ECF6",
            "gridcolor": "white",
            "gridwidth": 2,
            "linecolor": "white",
            "showbackground": true,
            "ticks": "",
            "zerolinecolor": "white"
           }
          },
          "shapedefaults": {
           "line": {
            "color": "#2a3f5f"
           }
          },
          "ternary": {
           "aaxis": {
            "gridcolor": "white",
            "linecolor": "white",
            "ticks": ""
           },
           "baxis": {
            "gridcolor": "white",
            "linecolor": "white",
            "ticks": ""
           },
           "bgcolor": "#E5ECF6",
           "caxis": {
            "gridcolor": "white",
            "linecolor": "white",
            "ticks": ""
           }
          },
          "title": {
           "x": 0.05
          },
          "xaxis": {
           "automargin": true,
           "gridcolor": "white",
           "linecolor": "white",
           "ticks": "",
           "title": {
            "standoff": 15
           },
           "zerolinecolor": "white",
           "zerolinewidth": 2
          },
          "yaxis": {
           "automargin": true,
           "gridcolor": "white",
           "linecolor": "white",
           "ticks": "",
           "title": {
            "standoff": 15
           },
           "zerolinecolor": "white",
           "zerolinewidth": 2
          }
         }
        },
        "xaxis": {
         "anchor": "y",
         "domain": [
          0,
          1
         ],
         "title": {
          "text": "x"
         }
        },
        "yaxis": {
         "anchor": "x",
         "domain": [
          0,
          1
         ],
         "title": {
          "text": "y"
         }
        }
       }
      }
     },
     "metadata": {},
     "output_type": "display_data"
    }
   ],
   "source": [
    "px.scatter(x = list(range(X_cashflow_scaler.shape[0])), y = variance)"
   ]
  },
  {
   "cell_type": "code",
   "execution_count": 26,
   "metadata": {},
   "outputs": [
    {
     "data": {
      "text/plain": [
       "(52, 3)"
      ]
     },
     "execution_count": 26,
     "metadata": {},
     "output_type": "execute_result"
    }
   ],
   "source": [
    "from sklearn.feature_selection import VarianceThreshold\n",
    "\n",
    "selector = VarianceThreshold()\n",
    "X_cashflow_var = selector.fit_transform(X_cashflow_scaler)\n",
    "\n",
    "X_cashflow_var.shape"
   ]
  },
  {
   "cell_type": "markdown",
   "metadata": {},
   "source": [
    "### Seleção de atributos com Extra Tree"
   ]
  },
  {
   "cell_type": "code",
   "execution_count": 27,
   "metadata": {},
   "outputs": [
    {
     "data": {
      "text/html": [
       "<style>#sk-container-id-1 {color: black;}#sk-container-id-1 pre{padding: 0;}#sk-container-id-1 div.sk-toggleable {background-color: white;}#sk-container-id-1 label.sk-toggleable__label {cursor: pointer;display: block;width: 100%;margin-bottom: 0;padding: 0.3em;box-sizing: border-box;text-align: center;}#sk-container-id-1 label.sk-toggleable__label-arrow:before {content: \"▸\";float: left;margin-right: 0.25em;color: #696969;}#sk-container-id-1 label.sk-toggleable__label-arrow:hover:before {color: black;}#sk-container-id-1 div.sk-estimator:hover label.sk-toggleable__label-arrow:before {color: black;}#sk-container-id-1 div.sk-toggleable__content {max-height: 0;max-width: 0;overflow: hidden;text-align: left;background-color: #f0f8ff;}#sk-container-id-1 div.sk-toggleable__content pre {margin: 0.2em;color: black;border-radius: 0.25em;background-color: #f0f8ff;}#sk-container-id-1 input.sk-toggleable__control:checked~div.sk-toggleable__content {max-height: 200px;max-width: 100%;overflow: auto;}#sk-container-id-1 input.sk-toggleable__control:checked~label.sk-toggleable__label-arrow:before {content: \"▾\";}#sk-container-id-1 div.sk-estimator input.sk-toggleable__control:checked~label.sk-toggleable__label {background-color: #d4ebff;}#sk-container-id-1 div.sk-label input.sk-toggleable__control:checked~label.sk-toggleable__label {background-color: #d4ebff;}#sk-container-id-1 input.sk-hidden--visually {border: 0;clip: rect(1px 1px 1px 1px);clip: rect(1px, 1px, 1px, 1px);height: 1px;margin: -1px;overflow: hidden;padding: 0;position: absolute;width: 1px;}#sk-container-id-1 div.sk-estimator {font-family: monospace;background-color: #f0f8ff;border: 1px dotted black;border-radius: 0.25em;box-sizing: border-box;margin-bottom: 0.5em;}#sk-container-id-1 div.sk-estimator:hover {background-color: #d4ebff;}#sk-container-id-1 div.sk-parallel-item::after {content: \"\";width: 100%;border-bottom: 1px solid gray;flex-grow: 1;}#sk-container-id-1 div.sk-label:hover label.sk-toggleable__label {background-color: #d4ebff;}#sk-container-id-1 div.sk-serial::before {content: \"\";position: absolute;border-left: 1px solid gray;box-sizing: border-box;top: 0;bottom: 0;left: 50%;z-index: 0;}#sk-container-id-1 div.sk-serial {display: flex;flex-direction: column;align-items: center;background-color: white;padding-right: 0.2em;padding-left: 0.2em;position: relative;}#sk-container-id-1 div.sk-item {position: relative;z-index: 1;}#sk-container-id-1 div.sk-parallel {display: flex;align-items: stretch;justify-content: center;background-color: white;position: relative;}#sk-container-id-1 div.sk-item::before, #sk-container-id-1 div.sk-parallel-item::before {content: \"\";position: absolute;border-left: 1px solid gray;box-sizing: border-box;top: 0;bottom: 0;left: 50%;z-index: -1;}#sk-container-id-1 div.sk-parallel-item {display: flex;flex-direction: column;z-index: 1;position: relative;background-color: white;}#sk-container-id-1 div.sk-parallel-item:first-child::after {align-self: flex-end;width: 50%;}#sk-container-id-1 div.sk-parallel-item:last-child::after {align-self: flex-start;width: 50%;}#sk-container-id-1 div.sk-parallel-item:only-child::after {width: 0;}#sk-container-id-1 div.sk-dashed-wrapped {border: 1px dashed gray;margin: 0 0.4em 0.5em 0.4em;box-sizing: border-box;padding-bottom: 0.4em;background-color: white;}#sk-container-id-1 div.sk-label label {font-family: monospace;font-weight: bold;display: inline-block;line-height: 1.2em;}#sk-container-id-1 div.sk-label-container {text-align: center;}#sk-container-id-1 div.sk-container {/* jupyter's `normalize.less` sets `[hidden] { display: none; }` but bootstrap.min.css set `[hidden] { display: none !important; }` so we also need the `!important` here to be able to override the default hidden behavior on the sphinx rendered scikit-learn.org. See: https://github.com/scikit-learn/scikit-learn/issues/21755 */display: inline-block !important;position: relative;}#sk-container-id-1 div.sk-text-repr-fallback {display: none;}</style><div id=\"sk-container-id-1\" class=\"sk-top-container\"><div class=\"sk-text-repr-fallback\"><pre>ExtraTreesClassifier()</pre><b>In a Jupyter environment, please rerun this cell to show the HTML representation or trust the notebook. <br />On GitHub, the HTML representation is unable to render, please try loading this page with nbviewer.org.</b></div><div class=\"sk-container\" hidden><div class=\"sk-item\"><div class=\"sk-estimator sk-toggleable\"><input class=\"sk-toggleable__control sk-hidden--visually\" id=\"sk-estimator-id-1\" type=\"checkbox\" checked><label for=\"sk-estimator-id-1\" class=\"sk-toggleable__label sk-toggleable__label-arrow\">ExtraTreesClassifier</label><div class=\"sk-toggleable__content\"><pre>ExtraTreesClassifier()</pre></div></div></div></div></div>"
      ],
      "text/plain": [
       "ExtraTreesClassifier()"
      ]
     },
     "execution_count": 27,
     "metadata": {},
     "output_type": "execute_result"
    }
   ],
   "source": [
    "from sklearn.ensemble import ExtraTreesClassifier\n",
    "\n",
    "selector = ExtraTreesClassifier()\n",
    "selector.fit(X_cashflow_scaler, y_cashflow)"
   ]
  },
  {
   "cell_type": "code",
   "execution_count": 28,
   "metadata": {},
   "outputs": [
    {
     "data": {
      "text/plain": [
       "array([0.33285281, 0.33733289, 0.3298143 ])"
      ]
     },
     "execution_count": 28,
     "metadata": {},
     "output_type": "execute_result"
    }
   ],
   "source": [
    "importance = selector.feature_importances_\n",
    "importance"
   ]
  },
  {
   "cell_type": "markdown",
   "metadata": {},
   "source": [
    "## Previsão do fluxo de caixa livre"
   ]
  },
  {
   "cell_type": "code",
   "execution_count": 139,
   "metadata": {},
   "outputs": [
    {
     "data": {
      "text/html": [
       "<div>\n",
       "<style scoped>\n",
       "    .dataframe tbody tr th:only-of-type {\n",
       "        vertical-align: middle;\n",
       "    }\n",
       "\n",
       "    .dataframe tbody tr th {\n",
       "        vertical-align: top;\n",
       "    }\n",
       "\n",
       "    .dataframe thead th {\n",
       "        text-align: right;\n",
       "    }\n",
       "</style>\n",
       "<table border=\"1\" class=\"dataframe\">\n",
       "  <thead>\n",
       "    <tr style=\"text-align: right;\">\n",
       "      <th></th>\n",
       "      <th>Free Cash Flow</th>\n",
       "      <th>Repayment Of Debt</th>\n",
       "      <th>Issuance Of Debt</th>\n",
       "      <th>Capital Expenditure</th>\n",
       "      <th>End Cash Position</th>\n",
       "      <th>Beginning Cash Position</th>\n",
       "      <th>Changes In Cash</th>\n",
       "      <th>Financing Cash Flow</th>\n",
       "      <th>Cash Dividends Paid</th>\n",
       "      <th>Net Issuance Payments Of Debt</th>\n",
       "      <th>...</th>\n",
       "      <th>Net Foreign Currency Exchange Gain Loss</th>\n",
       "      <th>Effect Of Exchange Rate Changes</th>\n",
       "      <th>Net Other Financing Charges</th>\n",
       "      <th>Net Common Stock Issuance</th>\n",
       "      <th>Cash From Discontinued Investing Activities</th>\n",
       "      <th>Repurchase Of Capital Stock</th>\n",
       "      <th>Common Stock Payments</th>\n",
       "      <th>Other Cash Adjustment Outside Changein Cash</th>\n",
       "      <th>Cash From Discontinued Financing Activities</th>\n",
       "      <th>Cash From Discontinued Operating Activities</th>\n",
       "    </tr>\n",
       "  </thead>\n",
       "  <tbody>\n",
       "    <tr>\n",
       "      <th>2023-06-30 00:00:00</th>\n",
       "      <td>6.920000e+08</td>\n",
       "      <td>-626000000.0</td>\n",
       "      <td>1.500000e+09</td>\n",
       "      <td>-1.208000e+09</td>\n",
       "      <td>4.983000e+09</td>\n",
       "      <td>4.705000e+09</td>\n",
       "      <td>2.110000e+08</td>\n",
       "      <td>-6.220000e+08</td>\n",
       "      <td>0.000000e+00</td>\n",
       "      <td>874000000.0</td>\n",
       "      <td>...</td>\n",
       "      <td>750000000.0</td>\n",
       "      <td>67000000.0</td>\n",
       "      <td>-135000000.0</td>\n",
       "      <td>-1.361000e+09</td>\n",
       "      <td>0.0</td>\n",
       "      <td>-1.361000e+09</td>\n",
       "      <td>-1.361000e+09</td>\n",
       "      <td>0.0</td>\n",
       "      <td>0.0</td>\n",
       "      <td>0.0</td>\n",
       "    </tr>\n",
       "    <tr>\n",
       "      <th>2023-03-31 00:00:00</th>\n",
       "      <td>2.480000e+09</td>\n",
       "      <td>-86000000.0</td>\n",
       "      <td>3.000000e+08</td>\n",
       "      <td>-1.130000e+09</td>\n",
       "      <td>4.705000e+09</td>\n",
       "      <td>4.736000e+09</td>\n",
       "      <td>-6.300000e+07</td>\n",
       "      <td>-2.347000e+09</td>\n",
       "      <td>-1.795000e+09</td>\n",
       "      <td>214000000.0</td>\n",
       "      <td>...</td>\n",
       "      <td>152000000.0</td>\n",
       "      <td>32000000.0</td>\n",
       "      <td>-3000000.0</td>\n",
       "      <td>-7.630000e+08</td>\n",
       "      <td>0.0</td>\n",
       "      <td>-7.630000e+08</td>\n",
       "      <td>-7.630000e+08</td>\n",
       "      <td>0.0</td>\n",
       "      <td>0.0</td>\n",
       "      <td>0.0</td>\n",
       "    </tr>\n",
       "    <tr>\n",
       "      <th>2022-12-31 00:00:00</th>\n",
       "      <td>1.250000e+08</td>\n",
       "      <td>-102000000.0</td>\n",
       "      <td>5.000000e+08</td>\n",
       "      <td>-1.787000e+09</td>\n",
       "      <td>4.736000e+09</td>\n",
       "      <td>5.182000e+09</td>\n",
       "      <td>-5.220000e+08</td>\n",
       "      <td>-5.700000e+08</td>\n",
       "      <td>0.000000e+00</td>\n",
       "      <td>398000000.0</td>\n",
       "      <td>...</td>\n",
       "      <td>247000000.0</td>\n",
       "      <td>76000000.0</td>\n",
       "      <td>-2000000.0</td>\n",
       "      <td>-9.660000e+08</td>\n",
       "      <td>0.0</td>\n",
       "      <td>-9.660000e+08</td>\n",
       "      <td>-9.660000e+08</td>\n",
       "      <td>0.0</td>\n",
       "      <td>0.0</td>\n",
       "      <td>0.0</td>\n",
       "    </tr>\n",
       "    <tr>\n",
       "      <th>2022-09-30 00:00:00</th>\n",
       "      <td>2.167000e+09</td>\n",
       "      <td>-496000000.0</td>\n",
       "      <td>1.500000e+08</td>\n",
       "      <td>-1.230000e+09</td>\n",
       "      <td>5.182000e+09</td>\n",
       "      <td>7.185000e+09</td>\n",
       "      <td>-1.775000e+09</td>\n",
       "      <td>-4.158000e+09</td>\n",
       "      <td>-3.123000e+09</td>\n",
       "      <td>-346000000.0</td>\n",
       "      <td>...</td>\n",
       "      <td>-201000000.0</td>\n",
       "      <td>-228000000.0</td>\n",
       "      <td>-3000000.0</td>\n",
       "      <td>-6.860000e+08</td>\n",
       "      <td>0.0</td>\n",
       "      <td>-6.860000e+08</td>\n",
       "      <td>-6.860000e+08</td>\n",
       "      <td>0.0</td>\n",
       "      <td>0.0</td>\n",
       "      <td>0.0</td>\n",
       "    </tr>\n",
       "  </tbody>\n",
       "</table>\n",
       "<p>4 rows × 52 columns</p>\n",
       "</div>"
      ],
      "text/plain": [
       "                     Free Cash Flow  Repayment Of Debt  Issuance Of Debt  \\\n",
       "2023-06-30 00:00:00    6.920000e+08       -626000000.0      1.500000e+09   \n",
       "2023-03-31 00:00:00    2.480000e+09        -86000000.0      3.000000e+08   \n",
       "2022-12-31 00:00:00    1.250000e+08       -102000000.0      5.000000e+08   \n",
       "2022-09-30 00:00:00    2.167000e+09       -496000000.0      1.500000e+08   \n",
       "\n",
       "                     Capital Expenditure  End Cash Position  \\\n",
       "2023-06-30 00:00:00        -1.208000e+09       4.983000e+09   \n",
       "2023-03-31 00:00:00        -1.130000e+09       4.705000e+09   \n",
       "2022-12-31 00:00:00        -1.787000e+09       4.736000e+09   \n",
       "2022-09-30 00:00:00        -1.230000e+09       5.182000e+09   \n",
       "\n",
       "                     Beginning Cash Position  Changes In Cash  \\\n",
       "2023-06-30 00:00:00             4.705000e+09     2.110000e+08   \n",
       "2023-03-31 00:00:00             4.736000e+09    -6.300000e+07   \n",
       "2022-12-31 00:00:00             5.182000e+09    -5.220000e+08   \n",
       "2022-09-30 00:00:00             7.185000e+09    -1.775000e+09   \n",
       "\n",
       "                     Financing Cash Flow  Cash Dividends Paid  \\\n",
       "2023-06-30 00:00:00        -6.220000e+08         0.000000e+00   \n",
       "2023-03-31 00:00:00        -2.347000e+09        -1.795000e+09   \n",
       "2022-12-31 00:00:00        -5.700000e+08         0.000000e+00   \n",
       "2022-09-30 00:00:00        -4.158000e+09        -3.123000e+09   \n",
       "\n",
       "                     Net Issuance Payments Of Debt  ...  \\\n",
       "2023-06-30 00:00:00                    874000000.0  ...   \n",
       "2023-03-31 00:00:00                    214000000.0  ...   \n",
       "2022-12-31 00:00:00                    398000000.0  ...   \n",
       "2022-09-30 00:00:00                   -346000000.0  ...   \n",
       "\n",
       "                     Net Foreign Currency Exchange Gain Loss  \\\n",
       "2023-06-30 00:00:00                              750000000.0   \n",
       "2023-03-31 00:00:00                              152000000.0   \n",
       "2022-12-31 00:00:00                              247000000.0   \n",
       "2022-09-30 00:00:00                             -201000000.0   \n",
       "\n",
       "                     Effect Of Exchange Rate Changes  \\\n",
       "2023-06-30 00:00:00                       67000000.0   \n",
       "2023-03-31 00:00:00                       32000000.0   \n",
       "2022-12-31 00:00:00                       76000000.0   \n",
       "2022-09-30 00:00:00                     -228000000.0   \n",
       "\n",
       "                     Net Other Financing Charges  Net Common Stock Issuance  \\\n",
       "2023-06-30 00:00:00                 -135000000.0              -1.361000e+09   \n",
       "2023-03-31 00:00:00                   -3000000.0              -7.630000e+08   \n",
       "2022-12-31 00:00:00                   -2000000.0              -9.660000e+08   \n",
       "2022-09-30 00:00:00                   -3000000.0              -6.860000e+08   \n",
       "\n",
       "                     Cash From Discontinued Investing Activities  \\\n",
       "2023-06-30 00:00:00                                          0.0   \n",
       "2023-03-31 00:00:00                                          0.0   \n",
       "2022-12-31 00:00:00                                          0.0   \n",
       "2022-09-30 00:00:00                                          0.0   \n",
       "\n",
       "                     Repurchase Of Capital Stock  Common Stock Payments  \\\n",
       "2023-06-30 00:00:00                -1.361000e+09          -1.361000e+09   \n",
       "2023-03-31 00:00:00                -7.630000e+08          -7.630000e+08   \n",
       "2022-12-31 00:00:00                -9.660000e+08          -9.660000e+08   \n",
       "2022-09-30 00:00:00                -6.860000e+08          -6.860000e+08   \n",
       "\n",
       "                     Other Cash Adjustment Outside Changein Cash  \\\n",
       "2023-06-30 00:00:00                                          0.0   \n",
       "2023-03-31 00:00:00                                          0.0   \n",
       "2022-12-31 00:00:00                                          0.0   \n",
       "2022-09-30 00:00:00                                          0.0   \n",
       "\n",
       "                     Cash From Discontinued Financing Activities  \\\n",
       "2023-06-30 00:00:00                                          0.0   \n",
       "2023-03-31 00:00:00                                          0.0   \n",
       "2022-12-31 00:00:00                                          0.0   \n",
       "2022-09-30 00:00:00                                          0.0   \n",
       "\n",
       "                     Cash From Discontinued Operating Activities  \n",
       "2023-06-30 00:00:00                                          0.0  \n",
       "2023-03-31 00:00:00                                          0.0  \n",
       "2022-12-31 00:00:00                                          0.0  \n",
       "2022-09-30 00:00:00                                          0.0  \n",
       "\n",
       "[4 rows x 52 columns]"
      ]
     },
     "execution_count": 139,
     "metadata": {},
     "output_type": "execute_result"
    }
   ],
   "source": [
    "df = brazilian_companies_cashflow[\"VALE3.SA\"].dropna().transpose()\n",
    "df"
   ]
  },
  {
   "cell_type": "code",
   "execution_count": 199,
   "metadata": {},
   "outputs": [],
   "source": [
    "from sklearn.preprocessing import MinMaxScaler\n",
    "from sklearn.metrics import r2_score, mean_absolute_error\n",
    "import pandas as pd\n",
    "import numpy as np\n",
    "\n",
    "def train_model_and_predict(model, X, y):\n",
    "  X_scaler = MinMaxScaler()\n",
    "  X_scaled = X_scaler.fit_transform(X.reshape(-1, 1))\n",
    "\n",
    "  y_scaler = MinMaxScaler()\n",
    "  y_scaled = y_scaler.fit_transform(y.reshape(-1, 1))\n",
    "\n",
    "  model.fit(X_scaled, y_scaled.ravel())\n",
    "  predictions = model.predict(X_scaled)\n",
    "\n",
    "  predictions_real_scale = y_scaler.inverse_transform(predictions.reshape(-1, 1))\n",
    "  return predictions_real_scale\n",
    "\n",
    "def score_model(y_real, y):\n",
    "  try:\n",
    "    r2 = r2_score(y_real, y)\n",
    "    mae = mean_absolute_error(y_real, y)\n",
    "  except:\n",
    "    r2 = 0.0\n",
    "    mae = 0.0\n",
    "  \n",
    "  print(f\"Coeficiente de determinação (R^2): {r2}\") # Quanto mais próximo de 1, melhor é o modelo\n",
    "  print(f\"Erro médio absoluto (MAE): {mae:,.2f}\") # Quanto menor o valor, melhor é o modelo\n",
    "\n",
    "  return r2, mae\n",
    "\n",
    "def combine_attributes(df, y_column_name, model):\n",
    "  correlation_matrix = df.corr()[y_column_name]\n",
    "\n",
    "  # Filtra os atributos com correlação >= 70%\n",
    "  high_corr = correlation_matrix[correlation_matrix >= 0.7].iloc[1:]\n",
    "\n",
    "  # Atributos com correlação forte com a coluna \"y_column\"\n",
    "  X_columns_name = high_corr.sort_values().index.to_list()\n",
    "  X_columns_index = [df.columns.get_loc(column) for column in X_columns_name]\n",
    "\n",
    "  y_attribute = df.iloc[:, df.columns.get_loc(y_column_name)].values\n",
    "  predictions = {}\n",
    "\n",
    "  for name, index in zip(X_columns_name, X_columns_index):\n",
    "    X_attribute = df.iloc[:, index].values\n",
    "\n",
    "    prediction = train_model_and_predict(model, X_attribute, y_attribute)\n",
    "    predictions.update({f\"{name} X {y_column_name}\": prediction.ravel()})\n",
    "\n",
    "  df = pd.DataFrame(predictions)\n",
    "  df[\"Mean\"] = df.mean(axis=1)\n",
    "  \n",
    "  return df\n",
    "  "
   ]
  },
  {
   "cell_type": "markdown",
   "metadata": {},
   "source": [
    "### Regressão linear"
   ]
  },
  {
   "cell_type": "code",
   "execution_count": 177,
   "metadata": {},
   "outputs": [
    {
     "data": {
      "text/html": [
       "<div>\n",
       "<style scoped>\n",
       "    .dataframe tbody tr th:only-of-type {\n",
       "        vertical-align: middle;\n",
       "    }\n",
       "\n",
       "    .dataframe tbody tr th {\n",
       "        vertical-align: top;\n",
       "    }\n",
       "\n",
       "    .dataframe thead th {\n",
       "        text-align: right;\n",
       "    }\n",
       "</style>\n",
       "<table border=\"1\" class=\"dataframe\">\n",
       "  <thead>\n",
       "    <tr style=\"text-align: right;\">\n",
       "      <th></th>\n",
       "      <th>Net Business Purchase And Sale X Free Cash Flow</th>\n",
       "      <th>Gain Loss On Investment Securities X Free Cash Flow</th>\n",
       "      <th>Capital Expenditure X Free Cash Flow</th>\n",
       "      <th>Capital Expenditure Reported X Free Cash Flow</th>\n",
       "      <th>Interest Paid Cfo X Free Cash Flow</th>\n",
       "      <th>Change In Receivables X Free Cash Flow</th>\n",
       "      <th>Changes In Account Receivables X Free Cash Flow</th>\n",
       "      <th>Change In Working Capital X Free Cash Flow</th>\n",
       "      <th>Operating Cash Flow X Free Cash Flow</th>\n",
       "      <th>Cash Flow From Continuing Operating Activities X Free Cash Flow</th>\n",
       "      <th>Mean</th>\n",
       "    </tr>\n",
       "  </thead>\n",
       "  <tbody>\n",
       "    <tr>\n",
       "      <th>0</th>\n",
       "      <td>1.690126e+09</td>\n",
       "      <td>2.094718e+08</td>\n",
       "      <td>1.742723e+09</td>\n",
       "      <td>1.742723e+09</td>\n",
       "      <td>1.878082e+08</td>\n",
       "      <td>1.313951e+09</td>\n",
       "      <td>1.313951e+09</td>\n",
       "      <td>1.028222e+09</td>\n",
       "      <td>4.004782e+08</td>\n",
       "      <td>4.004782e+08</td>\n",
       "      <td>1.002993e+09</td>\n",
       "    </tr>\n",
       "    <tr>\n",
       "      <th>1</th>\n",
       "      <td>1.503818e+09</td>\n",
       "      <td>2.081458e+09</td>\n",
       "      <td>1.967460e+09</td>\n",
       "      <td>1.967460e+09</td>\n",
       "      <td>2.333679e+09</td>\n",
       "      <td>2.559909e+09</td>\n",
       "      <td>2.559909e+09</td>\n",
       "      <td>2.226124e+09</td>\n",
       "      <td>2.452099e+09</td>\n",
       "      <td>2.452099e+09</td>\n",
       "      <td>2.210401e+09</td>\n",
       "    </tr>\n",
       "    <tr>\n",
       "      <th>2</th>\n",
       "      <td>2.200728e+08</td>\n",
       "      <td>1.240346e+09</td>\n",
       "      <td>7.448268e+07</td>\n",
       "      <td>7.448268e+07</td>\n",
       "      <td>9.483700e+08</td>\n",
       "      <td>1.150467e+08</td>\n",
       "      <td>1.150467e+08</td>\n",
       "      <td>-5.051690e+07</td>\n",
       "      <td>4.148756e+08</td>\n",
       "      <td>4.148756e+08</td>\n",
       "      <td>3.567082e+08</td>\n",
       "    </tr>\n",
       "    <tr>\n",
       "      <th>3</th>\n",
       "      <td>2.049983e+09</td>\n",
       "      <td>1.932724e+09</td>\n",
       "      <td>1.679335e+09</td>\n",
       "      <td>1.679335e+09</td>\n",
       "      <td>1.994143e+09</td>\n",
       "      <td>1.475094e+09</td>\n",
       "      <td>1.475094e+09</td>\n",
       "      <td>2.260171e+09</td>\n",
       "      <td>2.196547e+09</td>\n",
       "      <td>2.196547e+09</td>\n",
       "      <td>1.893897e+09</td>\n",
       "    </tr>\n",
       "  </tbody>\n",
       "</table>\n",
       "</div>"
      ],
      "text/plain": [
       "   Net Business Purchase And Sale X Free Cash Flow  \\\n",
       "0                                     1.690126e+09   \n",
       "1                                     1.503818e+09   \n",
       "2                                     2.200728e+08   \n",
       "3                                     2.049983e+09   \n",
       "\n",
       "   Gain Loss On Investment Securities X Free Cash Flow  \\\n",
       "0                                       2.094718e+08     \n",
       "1                                       2.081458e+09     \n",
       "2                                       1.240346e+09     \n",
       "3                                       1.932724e+09     \n",
       "\n",
       "   Capital Expenditure X Free Cash Flow  \\\n",
       "0                          1.742723e+09   \n",
       "1                          1.967460e+09   \n",
       "2                          7.448268e+07   \n",
       "3                          1.679335e+09   \n",
       "\n",
       "   Capital Expenditure Reported X Free Cash Flow  \\\n",
       "0                                   1.742723e+09   \n",
       "1                                   1.967460e+09   \n",
       "2                                   7.448268e+07   \n",
       "3                                   1.679335e+09   \n",
       "\n",
       "   Interest Paid Cfo X Free Cash Flow  Change In Receivables X Free Cash Flow  \\\n",
       "0                        1.878082e+08                            1.313951e+09   \n",
       "1                        2.333679e+09                            2.559909e+09   \n",
       "2                        9.483700e+08                            1.150467e+08   \n",
       "3                        1.994143e+09                            1.475094e+09   \n",
       "\n",
       "   Changes In Account Receivables X Free Cash Flow  \\\n",
       "0                                     1.313951e+09   \n",
       "1                                     2.559909e+09   \n",
       "2                                     1.150467e+08   \n",
       "3                                     1.475094e+09   \n",
       "\n",
       "   Change In Working Capital X Free Cash Flow  \\\n",
       "0                                1.028222e+09   \n",
       "1                                2.226124e+09   \n",
       "2                               -5.051690e+07   \n",
       "3                                2.260171e+09   \n",
       "\n",
       "   Operating Cash Flow X Free Cash Flow  \\\n",
       "0                          4.004782e+08   \n",
       "1                          2.452099e+09   \n",
       "2                          4.148756e+08   \n",
       "3                          2.196547e+09   \n",
       "\n",
       "   Cash Flow From Continuing Operating Activities X Free Cash Flow  \\\n",
       "0                                       4.004782e+08                 \n",
       "1                                       2.452099e+09                 \n",
       "2                                       4.148756e+08                 \n",
       "3                                       2.196547e+09                 \n",
       "\n",
       "           Mean  \n",
       "0  1.002993e+09  \n",
       "1  2.210401e+09  \n",
       "2  3.567082e+08  \n",
       "3  1.893897e+09  "
      ]
     },
     "execution_count": 177,
     "metadata": {},
     "output_type": "execute_result"
    }
   ],
   "source": [
    "from sklearn.linear_model import LinearRegression\n",
    "\n",
    "cash_flow_linear_regressor = LinearRegression()\n",
    "df_predictions = combine_attributes(df, \"Free Cash Flow\", cash_flow_linear_regressor)\n",
    "df_predictions"
   ]
  },
  {
   "cell_type": "code",
   "execution_count": 180,
   "metadata": {},
   "outputs": [
    {
     "name": "stdout",
     "output_type": "stream",
     "text": [
      "Coeficiente de determinação (R^2): 0.9232196246712803\n",
      "Erro médio absoluto (MAE): 271,350,691.58\n"
     ]
    }
   ],
   "source": [
    "score_model(df.iloc[:, 0], df_predictions[\"Mean\"])"
   ]
  },
  {
   "cell_type": "markdown",
   "metadata": {},
   "source": [
    "### Redes neurais"
   ]
  },
  {
   "cell_type": "code",
   "execution_count": 185,
   "metadata": {},
   "outputs": [
    {
     "data": {
      "text/html": [
       "<div>\n",
       "<style scoped>\n",
       "    .dataframe tbody tr th:only-of-type {\n",
       "        vertical-align: middle;\n",
       "    }\n",
       "\n",
       "    .dataframe tbody tr th {\n",
       "        vertical-align: top;\n",
       "    }\n",
       "\n",
       "    .dataframe thead th {\n",
       "        text-align: right;\n",
       "    }\n",
       "</style>\n",
       "<table border=\"1\" class=\"dataframe\">\n",
       "  <thead>\n",
       "    <tr style=\"text-align: right;\">\n",
       "      <th></th>\n",
       "      <th>Net Business Purchase And Sale X Free Cash Flow</th>\n",
       "      <th>Gain Loss On Investment Securities X Free Cash Flow</th>\n",
       "      <th>Capital Expenditure X Free Cash Flow</th>\n",
       "      <th>Capital Expenditure Reported X Free Cash Flow</th>\n",
       "      <th>Interest Paid Cfo X Free Cash Flow</th>\n",
       "      <th>Change In Receivables X Free Cash Flow</th>\n",
       "      <th>Changes In Account Receivables X Free Cash Flow</th>\n",
       "      <th>Change In Working Capital X Free Cash Flow</th>\n",
       "      <th>Operating Cash Flow X Free Cash Flow</th>\n",
       "      <th>Cash Flow From Continuing Operating Activities X Free Cash Flow</th>\n",
       "      <th>Mean</th>\n",
       "    </tr>\n",
       "  </thead>\n",
       "  <tbody>\n",
       "    <tr>\n",
       "      <th>0</th>\n",
       "      <td>1.690126e+09</td>\n",
       "      <td>2.094718e+08</td>\n",
       "      <td>1.742723e+09</td>\n",
       "      <td>1.742723e+09</td>\n",
       "      <td>1.878082e+08</td>\n",
       "      <td>1.313951e+09</td>\n",
       "      <td>1.313951e+09</td>\n",
       "      <td>1.028222e+09</td>\n",
       "      <td>4.004782e+08</td>\n",
       "      <td>4.004782e+08</td>\n",
       "      <td>1.002993e+09</td>\n",
       "    </tr>\n",
       "    <tr>\n",
       "      <th>1</th>\n",
       "      <td>1.503818e+09</td>\n",
       "      <td>2.081458e+09</td>\n",
       "      <td>1.967460e+09</td>\n",
       "      <td>1.967460e+09</td>\n",
       "      <td>2.333679e+09</td>\n",
       "      <td>2.559909e+09</td>\n",
       "      <td>2.559909e+09</td>\n",
       "      <td>2.226124e+09</td>\n",
       "      <td>2.452099e+09</td>\n",
       "      <td>2.452099e+09</td>\n",
       "      <td>2.210401e+09</td>\n",
       "    </tr>\n",
       "    <tr>\n",
       "      <th>2</th>\n",
       "      <td>2.200728e+08</td>\n",
       "      <td>1.240346e+09</td>\n",
       "      <td>7.448268e+07</td>\n",
       "      <td>7.448268e+07</td>\n",
       "      <td>9.483700e+08</td>\n",
       "      <td>1.150467e+08</td>\n",
       "      <td>1.150467e+08</td>\n",
       "      <td>-5.051690e+07</td>\n",
       "      <td>4.148756e+08</td>\n",
       "      <td>4.148756e+08</td>\n",
       "      <td>3.567082e+08</td>\n",
       "    </tr>\n",
       "    <tr>\n",
       "      <th>3</th>\n",
       "      <td>2.049983e+09</td>\n",
       "      <td>1.932724e+09</td>\n",
       "      <td>1.679335e+09</td>\n",
       "      <td>1.679335e+09</td>\n",
       "      <td>1.994143e+09</td>\n",
       "      <td>1.475094e+09</td>\n",
       "      <td>1.475094e+09</td>\n",
       "      <td>2.260171e+09</td>\n",
       "      <td>2.196547e+09</td>\n",
       "      <td>2.196547e+09</td>\n",
       "      <td>1.893897e+09</td>\n",
       "    </tr>\n",
       "  </tbody>\n",
       "</table>\n",
       "</div>"
      ],
      "text/plain": [
       "   Net Business Purchase And Sale X Free Cash Flow  \\\n",
       "0                                     1.690126e+09   \n",
       "1                                     1.503818e+09   \n",
       "2                                     2.200728e+08   \n",
       "3                                     2.049983e+09   \n",
       "\n",
       "   Gain Loss On Investment Securities X Free Cash Flow  \\\n",
       "0                                       2.094718e+08     \n",
       "1                                       2.081458e+09     \n",
       "2                                       1.240346e+09     \n",
       "3                                       1.932724e+09     \n",
       "\n",
       "   Capital Expenditure X Free Cash Flow  \\\n",
       "0                          1.742723e+09   \n",
       "1                          1.967460e+09   \n",
       "2                          7.448268e+07   \n",
       "3                          1.679335e+09   \n",
       "\n",
       "   Capital Expenditure Reported X Free Cash Flow  \\\n",
       "0                                   1.742723e+09   \n",
       "1                                   1.967460e+09   \n",
       "2                                   7.448268e+07   \n",
       "3                                   1.679335e+09   \n",
       "\n",
       "   Interest Paid Cfo X Free Cash Flow  Change In Receivables X Free Cash Flow  \\\n",
       "0                        1.878082e+08                            1.313951e+09   \n",
       "1                        2.333679e+09                            2.559909e+09   \n",
       "2                        9.483700e+08                            1.150467e+08   \n",
       "3                        1.994143e+09                            1.475094e+09   \n",
       "\n",
       "   Changes In Account Receivables X Free Cash Flow  \\\n",
       "0                                     1.313951e+09   \n",
       "1                                     2.559909e+09   \n",
       "2                                     1.150467e+08   \n",
       "3                                     1.475094e+09   \n",
       "\n",
       "   Change In Working Capital X Free Cash Flow  \\\n",
       "0                                1.028222e+09   \n",
       "1                                2.226124e+09   \n",
       "2                               -5.051690e+07   \n",
       "3                                2.260171e+09   \n",
       "\n",
       "   Operating Cash Flow X Free Cash Flow  \\\n",
       "0                          4.004782e+08   \n",
       "1                          2.452099e+09   \n",
       "2                          4.148756e+08   \n",
       "3                          2.196547e+09   \n",
       "\n",
       "   Cash Flow From Continuing Operating Activities X Free Cash Flow  \\\n",
       "0                                       4.004782e+08                 \n",
       "1                                       2.452099e+09                 \n",
       "2                                       4.148756e+08                 \n",
       "3                                       2.196547e+09                 \n",
       "\n",
       "           Mean  \n",
       "0  1.002993e+09  \n",
       "1  2.210401e+09  \n",
       "2  3.567082e+08  \n",
       "3  1.893897e+09  "
      ]
     },
     "execution_count": 185,
     "metadata": {},
     "output_type": "execute_result"
    }
   ],
   "source": [
    "from sklearn.neural_network import MLPRegressor\n",
    "\n",
    "cash_flow_mlp_regressor = MLPRegressor(hidden_layer_sizes=(100, 50), max_iter=1000, random_state=0)\n",
    "df_predictions = combine_attributes(df, \"Free Cash Flow\", cash_flow_linear_regressor)\n",
    "df_predictions"
   ]
  },
  {
   "cell_type": "code",
   "execution_count": 186,
   "metadata": {},
   "outputs": [
    {
     "name": "stdout",
     "output_type": "stream",
     "text": [
      "Coeficiente de determinação (R^2): 0.9232196246712803\n",
      "Erro médio absoluto (MAE): 271,350,691.58\n"
     ]
    }
   ],
   "source": [
    "score_model(df.iloc[:, 0], df_predictions[\"Mean\"])"
   ]
  },
  {
   "cell_type": "markdown",
   "metadata": {},
   "source": [
    "## Testar com outras ações"
   ]
  },
  {
   "cell_type": "code",
   "execution_count": 194,
   "metadata": {},
   "outputs": [
    {
     "data": {
      "text/plain": [
       "['UNIP6.SA',\n",
       " 'HYPE3.SA',\n",
       " 'CPLE6.SA',\n",
       " 'EGIE3.SA',\n",
       " 'DIRR3.SA',\n",
       " 'CCRO3.SA',\n",
       " 'BBSE3.SA',\n",
       " 'AGRO3.SA',\n",
       " 'B3SA3.SA',\n",
       " 'BEEF3.SA',\n",
       " 'RANI3.SA',\n",
       " 'ALPA4.SA',\n",
       " 'ENEV3.SA',\n",
       " 'JHSF3.SA',\n",
       " 'UGPA3.SA',\n",
       " 'PETR3.SA',\n",
       " 'FLRY3.SA',\n",
       " 'IRBR3.SA',\n",
       " 'CSMG3.SA',\n",
       " 'BRKM5.SA',\n",
       " 'VAMO3.SA',\n",
       " 'RRRP3.SA',\n",
       " 'CVCB3.SA',\n",
       " 'DXCO3.SA',\n",
       " 'GOLL4.SA',\n",
       " 'LREN3.SA',\n",
       " 'ABEV3.SA',\n",
       " 'WEGE3.SA',\n",
       " 'ROMI3.SA',\n",
       " 'TRIS3.SA',\n",
       " 'BRSR6.SA',\n",
       " 'PETZ3.SA',\n",
       " 'GOAU4.SA',\n",
       " 'CPLE3.SA',\n",
       " 'CMIG3.SA',\n",
       " 'SBSP3.SA',\n",
       " 'RENT3.SA',\n",
       " 'BRAP4.SA',\n",
       " 'RADL3.SA',\n",
       " 'CMIN3.SA',\n",
       " 'AZUL4.SA',\n",
       " 'GRND3.SA',\n",
       " 'PCAR3.SA',\n",
       " 'MGLU3.SA',\n",
       " 'ALSO3.SA',\n",
       " 'IGTI11.SA',\n",
       " 'AURE3.SA',\n",
       " 'ENGI11.SA',\n",
       " 'LEVE3.SA',\n",
       " 'KEPL3.SA',\n",
       " 'SOMA3.SA',\n",
       " 'SUZB3.SA',\n",
       " 'ITUB4.SA',\n",
       " 'ELET3.SA',\n",
       " 'ABCB4.SA',\n",
       " 'TGMA3.SA',\n",
       " 'VBBR3.SA',\n",
       " 'GGBR4.SA',\n",
       " 'MULT3.SA',\n",
       " 'BPAC11.SA',\n",
       " 'FESA4.SA',\n",
       " 'VALE3.SA',\n",
       " 'NTCO3.SA',\n",
       " 'HAPV3.SA',\n",
       " 'SMTO3.SA',\n",
       " 'CPFE3.SA',\n",
       " 'PSSA3.SA',\n",
       " 'BHIA3.SA',\n",
       " 'CXSE3.SA',\n",
       " 'TIMS3.SA',\n",
       " 'VIVT3.SA',\n",
       " 'CRFB3.SA',\n",
       " 'CSNA3.SA',\n",
       " 'SLCE3.SA',\n",
       " 'RAPT4.SA',\n",
       " 'RAIL3.SA',\n",
       " 'ASAI3.SA',\n",
       " 'ITSA4.SA',\n",
       " 'COGN3.SA',\n",
       " 'RECV3.SA',\n",
       " 'YDUQ3.SA',\n",
       " 'PETR4.SA',\n",
       " 'BRFS3.SA',\n",
       " 'PRIO3.SA',\n",
       " 'ARZZ3.SA',\n",
       " 'USIM5.SA',\n",
       " 'SANB11.SA',\n",
       " 'KLBN11.SA',\n",
       " 'CSAN3.SA',\n",
       " 'TOTS3.SA',\n",
       " 'BBDC4.SA',\n",
       " 'EMBR3.SA',\n",
       " 'CYRE3.SA',\n",
       " 'MRFG3.SA',\n",
       " 'LAVV3.SA',\n",
       " 'JBSS3.SA',\n",
       " 'BBAS3.SA',\n",
       " 'ELET6.SA',\n",
       " 'RDOR3.SA',\n",
       " 'TASA4.SA',\n",
       " 'LWSA3.SA',\n",
       " 'CMIG4.SA',\n",
       " 'EZTC3.SA',\n",
       " 'BBDC3.SA',\n",
       " 'ALUP11.SA',\n",
       " 'MRVE3.SA',\n",
       " 'TAEE11.SA',\n",
       " 'TRPL4.SA',\n",
       " 'CIEL3.SA',\n",
       " 'EQTL3.SA',\n",
       " 'WIZC3.SA']"
      ]
     },
     "execution_count": 194,
     "metadata": {},
     "output_type": "execute_result"
    }
   ],
   "source": [
    "unique_tickers = set(ticker for ticker, _ in brazilian_companies_cashflow.columns)\n",
    "tickers = list(unique_tickers)\n",
    "tickers"
   ]
  },
  {
   "cell_type": "code",
   "execution_count": 202,
   "metadata": {},
   "outputs": [
    {
     "name": "stdout",
     "output_type": "stream",
     "text": [
      "-------------------- UNIP6.SA --------------------\n",
      "Coeficiente de determinação (R^2): 0.9438145572588226\n",
      "Erro médio absoluto (MAE): 32,288,761.50\n",
      "-------------------- HYPE3.SA --------------------\n",
      "Coeficiente de determinação (R^2): 0.8319409076079811\n",
      "Erro médio absoluto (MAE): 43,303,517.70\n",
      "-------------------- CPLE6.SA --------------------\n",
      "Coeficiente de determinação (R^2): 0.9188471195489198\n",
      "Erro médio absoluto (MAE): 100,390,170.32\n",
      "-------------------- EGIE3.SA --------------------\n",
      "Coeficiente de determinação (R^2): 0.8255216736950017\n",
      "Erro médio absoluto (MAE): 86,047,084.17\n",
      "-------------------- DIRR3.SA --------------------\n",
      "Coeficiente de determinação (R^2): 0.9240381198527575\n",
      "Erro médio absoluto (MAE): 8,797,494.18\n",
      "-------------------- CCRO3.SA --------------------\n",
      "Coeficiente de determinação (R^2): 0.8991559175230414\n",
      "Erro médio absoluto (MAE): 95,199,546.25\n",
      "-------------------- BBSE3.SA --------------------\n",
      "Coeficiente de determinação (R^2): 0.9043348711998863\n",
      "Erro médio absoluto (MAE): 108,713,068.53\n",
      "-------------------- AGRO3.SA --------------------\n",
      "Coeficiente de determinação (R^2): 0.0\n",
      "Erro médio absoluto (MAE): 0.00\n",
      "-------------------- B3SA3.SA --------------------\n",
      "Coeficiente de determinação (R^2): 0.9315984357006399\n",
      "Erro médio absoluto (MAE): 98,152,070.93\n",
      "-------------------- BEEF3.SA --------------------\n",
      "Coeficiente de determinação (R^2): 0.892777123530377\n",
      "Erro médio absoluto (MAE): 113,999,483.52\n",
      "-------------------- RANI3.SA --------------------\n",
      "Coeficiente de determinação (R^2): 0.9022355684463279\n",
      "Erro médio absoluto (MAE): 5,469,498.79\n",
      "-------------------- ALPA4.SA --------------------\n",
      "Coeficiente de determinação (R^2): 0.8587211678923533\n",
      "Erro médio absoluto (MAE): 49,660,101.51\n",
      "-------------------- ENEV3.SA --------------------\n",
      "Coeficiente de determinação (R^2): 0.7380098855243431\n",
      "Erro médio absoluto (MAE): 142,688,277.52\n",
      "-------------------- JHSF3.SA --------------------\n",
      "Coeficiente de determinação (R^2): 0.9568832832582729\n",
      "Erro médio absoluto (MAE): 34,029,263.45\n",
      "-------------------- UGPA3.SA --------------------\n",
      "Coeficiente de determinação (R^2): 0.9453923154631466\n",
      "Erro médio absoluto (MAE): 183,974,208.67\n",
      "-------------------- PETR3.SA --------------------\n",
      "Coeficiente de determinação (R^2): 0.8557066001036698\n",
      "Erro médio absoluto (MAE): 357,594,569.02\n",
      "-------------------- FLRY3.SA --------------------\n",
      "Coeficiente de determinação (R^2): 0.752449193649523\n",
      "Erro médio absoluto (MAE): 17,991,500.96\n",
      "-------------------- IRBR3.SA --------------------\n",
      "Coeficiente de determinação (R^2): 0.6067108718228962\n",
      "Erro médio absoluto (MAE): 127,265,860.11\n",
      "-------------------- CSMG3.SA --------------------\n",
      "Coeficiente de determinação (R^2): 0.9634712453273857\n",
      "Erro médio absoluto (MAE): 10,562,294.43\n",
      "-------------------- BRKM5.SA --------------------\n",
      "Coeficiente de determinação (R^2): 0.9646323632887661\n",
      "Erro médio absoluto (MAE): 348,460,880.67\n",
      "-------------------- VAMO3.SA --------------------\n",
      "Coeficiente de determinação (R^2): 0.8971495387299601\n",
      "Erro médio absoluto (MAE): 224,223,237.56\n",
      "-------------------- RRRP3.SA --------------------\n",
      "Coeficiente de determinação (R^2): 0.9831524633108307\n",
      "Erro médio absoluto (MAE): 240,461,763.45\n",
      "-------------------- CVCB3.SA --------------------\n",
      "Coeficiente de determinação (R^2): 0.9448251240201444\n",
      "Erro médio absoluto (MAE): 48,413,076.24\n",
      "-------------------- DXCO3.SA --------------------\n",
      "Coeficiente de determinação (R^2): 0.9217633168753901\n",
      "Erro médio absoluto (MAE): 15,369,740.20\n",
      "-------------------- GOLL4.SA --------------------\n",
      "Coeficiente de determinação (R^2): 0.8897765303939938\n",
      "Erro médio absoluto (MAE): 92,355,099.71\n",
      "-------------------- LREN3.SA --------------------\n",
      "Coeficiente de determinação (R^2): 0.9172281027398655\n",
      "Erro médio absoluto (MAE): 42,311,396.53\n",
      "-------------------- ABEV3.SA --------------------\n",
      "Coeficiente de determinação (R^2): 0.9587391968434158\n",
      "Erro médio absoluto (MAE): 705,425,579.31\n",
      "-------------------- WEGE3.SA --------------------\n",
      "Coeficiente de determinação (R^2): 0.9419239089107486\n",
      "Erro médio absoluto (MAE): 108,606,306.81\n",
      "-------------------- ROMI3.SA --------------------\n",
      "Coeficiente de determinação (R^2): 0.9213909121546242\n",
      "Erro médio absoluto (MAE): 2,910,360.29\n",
      "-------------------- TRIS3.SA --------------------\n",
      "Coeficiente de determinação (R^2): 0.9056727022437059\n",
      "Erro médio absoluto (MAE): 11,045,045.86\n",
      "-------------------- BRSR6.SA --------------------\n",
      "Coeficiente de determinação (R^2): 0.9660013020219891\n",
      "Erro médio absoluto (MAE): 382,319,921.88\n",
      "-------------------- PETZ3.SA --------------------\n",
      "Coeficiente de determinação (R^2): 0.8328621491929232\n",
      "Erro médio absoluto (MAE): 6,991,984.49\n",
      "-------------------- GOAU4.SA --------------------\n",
      "Coeficiente de determinação (R^2): 0.8420008212304688\n",
      "Erro médio absoluto (MAE): 318,261,828.58\n",
      "-------------------- CPLE3.SA --------------------\n",
      "Coeficiente de determinação (R^2): 0.9188471195489198\n",
      "Erro médio absoluto (MAE): 100,390,170.32\n",
      "-------------------- CMIG3.SA --------------------\n",
      "Coeficiente de determinação (R^2): 0.8561666934626355\n",
      "Erro médio absoluto (MAE): 384,567,418.13\n",
      "-------------------- SBSP3.SA --------------------\n",
      "Coeficiente de determinação (R^2): 0.9235413584265835\n",
      "Erro médio absoluto (MAE): 99,662,397.01\n",
      "-------------------- RENT3.SA --------------------\n",
      "Coeficiente de determinação (R^2): 0.8933689492078669\n",
      "Erro médio absoluto (MAE): 667,737,687.19\n",
      "-------------------- BRAP4.SA --------------------\n",
      "Coeficiente de determinação (R^2): 0.983839888444702\n",
      "Erro médio absoluto (MAE): 24,611,425.78\n",
      "-------------------- RADL3.SA --------------------\n",
      "Coeficiente de determinação (R^2): 0.9172848658748101\n",
      "Erro médio absoluto (MAE): 58,037,769.41\n",
      "-------------------- CMIN3.SA --------------------\n",
      "Coeficiente de determinação (R^2): 0.9447012356435052\n",
      "Erro médio absoluto (MAE): 230,598,957.59\n",
      "-------------------- AZUL4.SA --------------------\n",
      "Coeficiente de determinação (R^2): 0.9218866035403491\n",
      "Erro médio absoluto (MAE): 135,378,792.87\n",
      "-------------------- GRND3.SA --------------------\n",
      "Coeficiente de determinação (R^2): 0.9281220448791847\n",
      "Erro médio absoluto (MAE): 33,466,671.19\n",
      "-------------------- PCAR3.SA --------------------\n",
      "Coeficiente de determinação (R^2): 0.9602440611702904\n",
      "Erro médio absoluto (MAE): 275,756,319.91\n",
      "-------------------- MGLU3.SA --------------------\n",
      "Coeficiente de determinação (R^2): 0.9940512810609996\n",
      "Erro médio absoluto (MAE): 60,959,193.90\n",
      "-------------------- ALSO3.SA --------------------\n",
      "Coeficiente de determinação (R^2): 0.9809939532208475\n",
      "Erro médio absoluto (MAE): 12,398,194.47\n",
      "-------------------- IGTI11.SA --------------------\n",
      "Coeficiente de determinação (R^2): 0.9326122795412795\n",
      "Erro médio absoluto (MAE): 104,854,633.93\n",
      "-------------------- AURE3.SA --------------------\n",
      "Coeficiente de determinação (R^2): 0.983926441334477\n",
      "Erro médio absoluto (MAE): 219,686,670.01\n",
      "-------------------- ENGI11.SA --------------------\n",
      "Coeficiente de determinação (R^2): 0.9117822866835353\n",
      "Erro médio absoluto (MAE): 41,459,144.85\n",
      "-------------------- LEVE3.SA --------------------\n",
      "Coeficiente de determinação (R^2): 0.745571901445292\n",
      "Erro médio absoluto (MAE): 3,553,558.74\n",
      "-------------------- KEPL3.SA --------------------\n",
      "Coeficiente de determinação (R^2): 0.878867308873795\n",
      "Erro médio absoluto (MAE): 7,747,336.87\n",
      "-------------------- SOMA3.SA --------------------\n",
      "Coeficiente de determinação (R^2): 0.936377595766009\n",
      "Erro médio absoluto (MAE): 26,292,046.02\n",
      "-------------------- SUZB3.SA --------------------\n",
      "Coeficiente de determinação (R^2): 0.8580309160063224\n",
      "Erro médio absoluto (MAE): 186,231,175.30\n",
      "-------------------- ITUB4.SA --------------------\n",
      "Coeficiente de determinação (R^2): 0.8748663318785234\n",
      "Erro médio absoluto (MAE): 5,197,990,760.96\n",
      "-------------------- ELET3.SA --------------------\n",
      "Coeficiente de determinação (R^2): 0.887138321252799\n",
      "Erro médio absoluto (MAE): 6,571,349,618.76\n",
      "-------------------- ABCB4.SA --------------------\n",
      "Coeficiente de determinação (R^2): 0.8901757117912166\n",
      "Erro médio absoluto (MAE): 583,546,874.37\n",
      "-------------------- TGMA3.SA --------------------\n",
      "Coeficiente de determinação (R^2): 0.9999999608239223\n",
      "Erro médio absoluto (MAE): 12,484,921.95\n",
      "-------------------- VBBR3.SA --------------------\n",
      "Coeficiente de determinação (R^2): 0.8587036634788263\n",
      "Erro médio absoluto (MAE): 291,302,232.67\n",
      "-------------------- GGBR4.SA --------------------\n",
      "Coeficiente de determinação (R^2): 0.85658770777016\n",
      "Erro médio absoluto (MAE): 311,887,940.41\n",
      "-------------------- MULT3.SA --------------------\n",
      "Coeficiente de determinação (R^2): 0.9197934493682257\n",
      "Erro médio absoluto (MAE): 9,657,679.65\n",
      "-------------------- BPAC11.SA --------------------\n",
      "Coeficiente de determinação (R^2): 0.9930842139380636\n",
      "Erro médio absoluto (MAE): 1,170,542,467.27\n",
      "-------------------- FESA4.SA --------------------\n",
      "Coeficiente de determinação (R^2): 0.8577196652778634\n",
      "Erro médio absoluto (MAE): 13,890,019.74\n",
      "-------------------- VALE3.SA --------------------\n",
      "Coeficiente de determinação (R^2): 0.9232196246712803\n",
      "Erro médio absoluto (MAE): 271,350,691.58\n",
      "-------------------- NTCO3.SA --------------------\n",
      "Coeficiente de determinação (R^2): 0.9682916338506018\n",
      "Erro médio absoluto (MAE): 181,465,898.00\n",
      "-------------------- HAPV3.SA --------------------\n",
      "Coeficiente de determinação (R^2): 0.8706270699189937\n",
      "Erro médio absoluto (MAE): 93,054,485.01\n",
      "-------------------- SMTO3.SA --------------------\n",
      "Coeficiente de determinação (R^2): 0.905726921827023\n",
      "Erro médio absoluto (MAE): 272,871,014.93\n",
      "-------------------- CPFE3.SA --------------------\n",
      "Coeficiente de determinação (R^2): 0.9279417395370414\n",
      "Erro médio absoluto (MAE): 70,527,908.38\n",
      "-------------------- PSSA3.SA --------------------\n",
      "Coeficiente de determinação (R^2): 0.9495473186916856\n",
      "Erro médio absoluto (MAE): 297,440,989.33\n",
      "-------------------- BHIA3.SA --------------------\n",
      "Coeficiente de determinação (R^2): 0.9564737893293658\n",
      "Erro médio absoluto (MAE): 58,904,786.61\n",
      "-------------------- CXSE3.SA --------------------\n",
      "Coeficiente de determinação (R^2): 0.9134714841064533\n",
      "Erro médio absoluto (MAE): 71,415,033.76\n",
      "-------------------- TIMS3.SA --------------------\n",
      "Coeficiente de determinação (R^2): 0.9537699941119718\n",
      "Erro médio absoluto (MAE): 129,003,033.57\n",
      "-------------------- VIVT3.SA --------------------\n",
      "Coeficiente de determinação (R^2): 1.0\n",
      "Erro médio absoluto (MAE): 0.00\n",
      "-------------------- CRFB3.SA --------------------\n",
      "Coeficiente de determinação (R^2): 0.9922587054804065\n",
      "Erro médio absoluto (MAE): 676,526,897.84\n",
      "-------------------- CSNA3.SA --------------------\n",
      "Coeficiente de determinação (R^2): 0.9550123572008232\n",
      "Erro médio absoluto (MAE): 264,757,088.11\n",
      "-------------------- SLCE3.SA --------------------\n",
      "Coeficiente de determinação (R^2): 0.8717144991290623\n",
      "Erro médio absoluto (MAE): 211,085,207.22\n",
      "-------------------- RAPT4.SA --------------------\n",
      "Coeficiente de determinação (R^2): 0.9111780363437636\n",
      "Erro médio absoluto (MAE): 131,238,230.85\n",
      "-------------------- RAIL3.SA --------------------\n",
      "Coeficiente de determinação (R^2): 0.9772128493199658\n",
      "Erro médio absoluto (MAE): 53,796,629.51\n",
      "-------------------- ASAI3.SA --------------------\n",
      "Coeficiente de determinação (R^2): 0.9302837169188669\n",
      "Erro médio absoluto (MAE): 249,880,667.53\n",
      "-------------------- ITSA4.SA --------------------\n",
      "Coeficiente de determinação (R^2): 0.9803485977849928\n",
      "Erro médio absoluto (MAE): 23,151,118.36\n",
      "-------------------- COGN3.SA --------------------\n",
      "Coeficiente de determinação (R^2): 0.9156422800267042\n",
      "Erro médio absoluto (MAE): 39,064,610.17\n",
      "-------------------- RECV3.SA --------------------\n",
      "Coeficiente de determinação (R^2): 0.9083146344092411\n",
      "Erro médio absoluto (MAE): 13,320,743.91\n",
      "-------------------- YDUQ3.SA --------------------\n",
      "Coeficiente de determinação (R^2): 1.0\n",
      "Erro médio absoluto (MAE): 0.00\n",
      "-------------------- PETR4.SA --------------------\n",
      "Coeficiente de determinação (R^2): 0.8557066001036698\n",
      "Erro médio absoluto (MAE): 357,594,569.02\n",
      "-------------------- BRFS3.SA --------------------\n",
      "Coeficiente de determinação (R^2): 0.880596025467389\n",
      "Erro médio absoluto (MAE): 116,364,001.92\n",
      "-------------------- PRIO3.SA --------------------\n",
      "Coeficiente de determinação (R^2): 0.9775537674453908\n",
      "Erro médio absoluto (MAE): 564,938,197.15\n",
      "-------------------- ARZZ3.SA --------------------\n",
      "Coeficiente de determinação (R^2): 0.8933652648737176\n",
      "Erro médio absoluto (MAE): 18,058,179.63\n",
      "-------------------- USIM5.SA --------------------\n",
      "Coeficiente de determinação (R^2): 0.9658295325285708\n",
      "Erro médio absoluto (MAE): 71,520,819.91\n",
      "-------------------- SANB11.SA --------------------\n",
      "Coeficiente de determinação (R^2): 1.0\n",
      "Erro médio absoluto (MAE): 0.00\n",
      "-------------------- KLBN11.SA --------------------\n",
      "Coeficiente de determinação (R^2): 0.9608679368905183\n",
      "Erro médio absoluto (MAE): 110,159,948.70\n",
      "-------------------- CSAN3.SA --------------------\n",
      "Coeficiente de determinação (R^2): 0.9521547308862013\n",
      "Erro médio absoluto (MAE): 156,016,351.91\n",
      "-------------------- TOTS3.SA --------------------\n",
      "Coeficiente de determinação (R^2): 0.9453177323787666\n",
      "Erro médio absoluto (MAE): 19,480,878.81\n",
      "-------------------- BBDC4.SA --------------------\n",
      "Coeficiente de determinação (R^2): 0.9384355789876859\n",
      "Erro médio absoluto (MAE): 6,217,220,426.96\n",
      "-------------------- EMBR3.SA --------------------\n",
      "Coeficiente de determinação (R^2): 0.9579072375562014\n",
      "Erro médio absoluto (MAE): 96,926,246.87\n",
      "-------------------- CYRE3.SA --------------------\n",
      "Coeficiente de determinação (R^2): 0.9060112526306525\n",
      "Erro médio absoluto (MAE): 42,032,866.48\n",
      "-------------------- MRFG3.SA --------------------\n",
      "Coeficiente de determinação (R^2): 0.6468257969172708\n",
      "Erro médio absoluto (MAE): 607,771,874.47\n",
      "-------------------- LAVV3.SA --------------------\n",
      "Coeficiente de determinação (R^2): 0.9625840408802443\n",
      "Erro médio absoluto (MAE): 8,901,393.46\n",
      "-------------------- JBSS3.SA --------------------\n",
      "Coeficiente de determinação (R^2): 0.9204569953953727\n",
      "Erro médio absoluto (MAE): 797,562,567.34\n",
      "-------------------- BBAS3.SA --------------------\n",
      "Coeficiente de determinação (R^2): 0.9810585387619126\n",
      "Erro médio absoluto (MAE): 934,674,691.46\n",
      "-------------------- ELET6.SA --------------------\n",
      "Coeficiente de determinação (R^2): 0.887138321252799\n",
      "Erro médio absoluto (MAE): 6,571,349,618.76\n",
      "-------------------- RDOR3.SA --------------------\n",
      "Coeficiente de determinação (R^2): 0.9217790912111293\n",
      "Erro médio absoluto (MAE): 48,770,862.49\n",
      "-------------------- TASA4.SA --------------------\n",
      "Coeficiente de determinação (R^2): 0.9348723107175407\n",
      "Erro médio absoluto (MAE): 13,702,426.45\n",
      "-------------------- LWSA3.SA --------------------\n",
      "Coeficiente de determinação (R^2): 0.8473746521514374\n",
      "Erro médio absoluto (MAE): 6,371,903.64\n",
      "-------------------- CMIG4.SA --------------------\n",
      "Coeficiente de determinação (R^2): 0.8561666934626355\n",
      "Erro médio absoluto (MAE): 384,567,418.13\n",
      "-------------------- EZTC3.SA --------------------\n",
      "Coeficiente de determinação (R^2): 0.9858059984344436\n",
      "Erro médio absoluto (MAE): 4,593,814.21\n",
      "-------------------- BBDC3.SA --------------------\n",
      "Coeficiente de determinação (R^2): 0.9384355789876859\n",
      "Erro médio absoluto (MAE): 6,217,220,426.96\n",
      "-------------------- ALUP11.SA --------------------\n",
      "Coeficiente de determinação (R^2): 0.8882030470109774\n",
      "Erro médio absoluto (MAE): 66,098,133.84\n",
      "-------------------- MRVE3.SA --------------------\n",
      "Coeficiente de determinação (R^2): 0.8922643011719014\n",
      "Erro médio absoluto (MAE): 47,298,500.78\n",
      "-------------------- TAEE11.SA --------------------\n",
      "Coeficiente de determinação (R^2): 0.9555807682821584\n",
      "Erro médio absoluto (MAE): 82,304,753.56\n",
      "-------------------- TRPL4.SA --------------------\n",
      "Coeficiente de determinação (R^2): 0.9457953393337418\n",
      "Erro médio absoluto (MAE): 17,515,956.47\n",
      "-------------------- CIEL3.SA --------------------\n",
      "Coeficiente de determinação (R^2): 0.9385227807996336\n",
      "Erro médio absoluto (MAE): 294,256,253.58\n",
      "-------------------- EQTL3.SA --------------------\n",
      "Coeficiente de determinação (R^2): 0.8939074011764446\n",
      "Erro médio absoluto (MAE): 24,910,270.32\n",
      "-------------------- WIZC3.SA --------------------\n",
      "Coeficiente de determinação (R^2): 0.8063932047480036\n",
      "Erro médio absoluto (MAE): 20,548,813.37\n",
      "\n",
      "\n",
      "Coeficiente de determinação (R^2) médio: 0.9044590889385182\n"
     ]
    }
   ],
   "source": [
    "r2_scores = []\n",
    "\n",
    "for ticker in tickers:\n",
    "  df = brazilian_companies_cashflow[ticker].dropna().transpose()\n",
    "  cash_flow_linear_regressor = LinearRegression()\n",
    "  df_predictions = combine_attributes(df, \"Free Cash Flow\", cash_flow_linear_regressor)\n",
    "\n",
    "  print(f\"{'-' * 20} {ticker} {'-' * 20}\")\n",
    "  r2, _ = score_model(df.iloc[:, 0], df_predictions[\"Mean\"])\n",
    "\n",
    "  r2_scores.append(r2)\n",
    "\n",
    "print(f\"\\n\\nCoeficiente de determinação (R^2) médio: {np.mean(r2_scores)}\")"
   ]
  },
  {
   "cell_type": "code",
   "execution_count": null,
   "metadata": {},
   "outputs": [],
   "source": []
  }
 ],
 "metadata": {
  "kernelspec": {
   "display_name": ".venv",
   "language": "python",
   "name": "python3"
  },
  "language_info": {
   "codemirror_mode": {
    "name": "ipython",
    "version": 3
   },
   "file_extension": ".py",
   "mimetype": "text/x-python",
   "name": "python",
   "nbconvert_exporter": "python",
   "pygments_lexer": "ipython3",
   "version": "3.11.4"
  }
 },
 "nbformat": 4,
 "nbformat_minor": 2
}

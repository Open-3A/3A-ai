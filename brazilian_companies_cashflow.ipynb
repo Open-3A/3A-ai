{
 "cells": [
  {
   "cell_type": "code",
   "execution_count": 1,
   "metadata": {},
   "outputs": [
    {
     "name": "stdout",
     "output_type": "stream",
     "text": [
      "Note: you may need to restart the kernel to use updated packages.\n",
      "Note: you may need to restart the kernel to use updated packages.\n",
      "Note: you may need to restart the kernel to use updated packages.\n"
     ]
    }
   ],
   "source": [
    "%pip install pandas -U -q\n",
    "%pip install numpy -U -q\n",
    "%pip install yfinance -U -q"
   ]
  },
  {
   "cell_type": "code",
   "execution_count": 2,
   "metadata": {},
   "outputs": [],
   "source": [
    "from typing import List\n",
    "\n",
    "import pandas as pd\n",
    "import numpy as np\n",
    "import yfinance as yf"
   ]
  },
  {
   "cell_type": "markdown",
   "metadata": {},
   "source": [
    "# Unir as ações que compõem os índices IBOV e IDIV"
   ]
  },
  {
   "cell_type": "code",
   "execution_count": 3,
   "metadata": {},
   "outputs": [],
   "source": [
    "def get_tickers_from_market_index(source: str):\n",
    "  market_index = pd.read_csv(source)\n",
    "  market_index.drop(columns=\"Part. (%)\", inplace=True)\n",
    "  market_index.dropna(inplace=True)\n",
    "  return market_index.iloc[:, 0].to_list()\n",
    "\n",
    "def merge_tickers_from_market_indexes(*args: List[str]) -> List[str]:\n",
    "  result = set()\n",
    "\n",
    "  for market_index in args:\n",
    "    result = result.union(market_index)\n",
    "\n",
    "  return list(result)"
   ]
  },
  {
   "cell_type": "code",
   "execution_count": 4,
   "metadata": {},
   "outputs": [
    {
     "data": {
      "text/plain": [
       "['RRRP3',\n",
       " 'ALSO3',\n",
       " 'ALPA4',\n",
       " 'ABEV3',\n",
       " 'ARZZ3',\n",
       " 'ASAI3',\n",
       " 'AZUL4',\n",
       " 'B3SA3',\n",
       " 'BBSE3',\n",
       " 'BBDC3',\n",
       " 'BBDC4',\n",
       " 'BRAP4',\n",
       " 'BBAS3',\n",
       " 'BRKM5',\n",
       " 'BRFS3',\n",
       " 'BPAC11',\n",
       " 'CRFB3',\n",
       " 'BHIA3',\n",
       " 'CCRO3',\n",
       " 'CMIG4',\n",
       " 'CIEL3',\n",
       " 'COGN3',\n",
       " 'CPLE6',\n",
       " 'CSAN3',\n",
       " 'CPFE3',\n",
       " 'CMIN3',\n",
       " 'CVCB3',\n",
       " 'CYRE3',\n",
       " 'DXCO3',\n",
       " 'ELET3',\n",
       " 'ELET6',\n",
       " 'EMBR3',\n",
       " 'ENGI11',\n",
       " 'ENEV3',\n",
       " 'EGIE3',\n",
       " 'EQTL3',\n",
       " 'EZTC3',\n",
       " 'FLRY3',\n",
       " 'GGBR4',\n",
       " 'GOAU4',\n",
       " 'GOLL4',\n",
       " 'NTCO3',\n",
       " 'SOMA3',\n",
       " 'HAPV3',\n",
       " 'HYPE3',\n",
       " 'IGTI11',\n",
       " 'IRBR3',\n",
       " 'ITSA4',\n",
       " 'ITUB4',\n",
       " 'JBSS3',\n",
       " 'KLBN11',\n",
       " 'RENT3',\n",
       " 'LWSA3',\n",
       " 'LREN3',\n",
       " 'MGLU3',\n",
       " 'MRFG3',\n",
       " 'BEEF3',\n",
       " 'MRVE3',\n",
       " 'MULT3',\n",
       " 'PCAR3',\n",
       " 'PETR3',\n",
       " 'PETR4',\n",
       " 'RECV3',\n",
       " 'PRIO3',\n",
       " 'PETZ3',\n",
       " 'RADL3',\n",
       " 'RAIZ4',\n",
       " 'RDOR3',\n",
       " 'RAIL3',\n",
       " 'SBSP3',\n",
       " 'SANB11',\n",
       " 'SMTO3',\n",
       " 'CSNA3',\n",
       " 'SLCE3',\n",
       " 'SUZB3',\n",
       " 'TAEE11',\n",
       " 'VIVT3',\n",
       " 'TIMS3',\n",
       " 'TOTS3',\n",
       " 'UGPA3',\n",
       " 'USIM5',\n",
       " 'VALE3',\n",
       " 'VAMO3',\n",
       " 'VBBR3',\n",
       " 'WEGE3',\n",
       " 'YDUQ3']"
      ]
     },
     "execution_count": 4,
     "metadata": {},
     "output_type": "execute_result"
    }
   ],
   "source": [
    "ibov_composition = get_tickers_from_market_index(\"./assets/IBOV-composition.csv\")\n",
    "ibov_composition"
   ]
  },
  {
   "cell_type": "code",
   "execution_count": 5,
   "metadata": {},
   "outputs": [
    {
     "data": {
      "text/plain": [
       "['ABCB4',\n",
       " 'ALUP11',\n",
       " 'AURE3',\n",
       " 'B3SA3',\n",
       " 'BRSR6',\n",
       " 'BBSE3',\n",
       " 'BRAP4',\n",
       " 'BBAS3',\n",
       " 'AGRO3',\n",
       " 'CXSE3',\n",
       " 'CMIG3',\n",
       " 'CMIG4',\n",
       " 'CSMG3',\n",
       " 'CPLE3',\n",
       " 'CPLE6',\n",
       " 'CPFE3',\n",
       " 'CMIN3',\n",
       " 'DIRR3',\n",
       " 'EGIE3',\n",
       " 'FESA4',\n",
       " 'FLRY3',\n",
       " 'GGBR4',\n",
       " 'GOAU4',\n",
       " 'GRND3',\n",
       " 'RANI3',\n",
       " 'ITSA4',\n",
       " 'JBSS3',\n",
       " 'JHSF3',\n",
       " 'KEPL3',\n",
       " 'KLBN11',\n",
       " 'LAVV3',\n",
       " 'MRFG3',\n",
       " 'LEVE3',\n",
       " 'BEEF3',\n",
       " 'PETR3',\n",
       " 'PETR4',\n",
       " 'PSSA3',\n",
       " 'RAPT4',\n",
       " 'ROMI3',\n",
       " 'SANB11',\n",
       " 'CSNA3',\n",
       " 'TAEE11',\n",
       " 'TASA4',\n",
       " 'TGMA3',\n",
       " 'VIVT3',\n",
       " 'TRPL4',\n",
       " 'TRIS3',\n",
       " 'UNIP6',\n",
       " 'USIM5',\n",
       " 'VALE3',\n",
       " 'WIZC3']"
      ]
     },
     "execution_count": 5,
     "metadata": {},
     "output_type": "execute_result"
    }
   ],
   "source": [
    "idiv_composition = get_tickers_from_market_index(\"./assets/IDIV-composition.csv\")\n",
    "idiv_composition"
   ]
  },
  {
   "cell_type": "code",
   "execution_count": 6,
   "metadata": {},
   "outputs": [],
   "source": [
    "tickers = merge_tickers_from_market_indexes(ibov_composition, idiv_composition)"
   ]
  },
  {
   "cell_type": "code",
   "execution_count": 7,
   "metadata": {},
   "outputs": [],
   "source": [
    "def format_tickers_to_yfinance(tickers: List[str]) -> List[str]:\n",
    "  return [f\"{ticker}.SA\" for ticker in tickers]"
   ]
  },
  {
   "cell_type": "code",
   "execution_count": 12,
   "metadata": {},
   "outputs": [],
   "source": [
    "cash_flow_data = pd.DataFrame()\n",
    "\n",
    "for ticker in tickers:\n",
    "    cashflow = yf.Ticker(ticker).quarterly_cashflow\n",
    "    \n",
    "    # Define o ticker como a coluna principal no MultiIndex\n",
    "    cashflow.columns = pd.MultiIndex.from_product([[ticker], cashflow.columns])\n",
    "    \n",
    "    if cash_flow_data.empty:\n",
    "        cash_flow_data = cashflow\n",
    "        continue\n",
    "\n",
    "    cash_flow_data = pd.concat([cash_flow_data, cashflow], axis=1)\n"
   ]
  },
  {
   "cell_type": "code",
   "execution_count": 13,
   "metadata": {},
   "outputs": [
    {
     "data": {
      "text/html": [
       "<div>\n",
       "<style scoped>\n",
       "    .dataframe tbody tr th:only-of-type {\n",
       "        vertical-align: middle;\n",
       "    }\n",
       "\n",
       "    .dataframe tbody tr th {\n",
       "        vertical-align: top;\n",
       "    }\n",
       "\n",
       "    .dataframe thead tr th {\n",
       "        text-align: left;\n",
       "    }\n",
       "</style>\n",
       "<table border=\"1\" class=\"dataframe\">\n",
       "  <thead>\n",
       "  </thead>\n",
       "  <tbody>\n",
       "  </tbody>\n",
       "</table>\n",
       "</div>"
      ],
      "text/plain": [
       "Empty DataFrame\n",
       "Columns: []\n",
       "Index: []"
      ]
     },
     "execution_count": 13,
     "metadata": {},
     "output_type": "execute_result"
    }
   ],
   "source": [
    "cash_flow_data"
   ]
  },
  {
   "cell_type": "code",
   "execution_count": 14,
   "metadata": {},
   "outputs": [],
   "source": [
    "cash_flow_data.to_csv(\"./assets/brazilian_companies_cashflow.csv\")"
   ]
  },
  {
   "cell_type": "code",
   "execution_count": null,
   "metadata": {},
   "outputs": [],
   "source": []
  }
 ],
 "metadata": {
  "kernelspec": {
   "display_name": ".venv",
   "language": "python",
   "name": "python3"
  },
  "language_info": {
   "codemirror_mode": {
    "name": "ipython",
    "version": 3
   },
   "file_extension": ".py",
   "mimetype": "text/x-python",
   "name": "python",
   "nbconvert_exporter": "python",
   "pygments_lexer": "ipython3",
   "version": "3.11.4"
  }
 },
 "nbformat": 4,
 "nbformat_minor": 2
}

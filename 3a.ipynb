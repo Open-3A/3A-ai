{
 "cells": [
  {
   "cell_type": "code",
   "outputs": [],
   "source": [
    "# B3Service"
   ],
   "metadata": {
    "collapsed": false,
    "ExecuteTime": {
     "end_time": "2024-01-13T00:33:00.670812878Z",
     "start_time": "2024-01-13T00:33:00.659455593Z"
    }
   },
   "id": "937d1b05a42bbe95",
   "execution_count": 14
  },
  {
   "cell_type": "code",
   "outputs": [],
   "source": [
    "\n",
    "from dataclasses import dataclass, field\n",
    "from pathlib import Path\n",
    "from typing import Set, List\n",
    "\n",
    "import pandas as pd\n",
    "\n",
    "\n",
    "@dataclass\n",
    "class B3Service:\n",
    "    \"\"\"\n",
    "    B3Service: A service for obtaining B3 tickers from portfolio composition files.\n",
    "\n",
    "    Args:\n",
    "    - portfolio_composition_path (Path): The path to the directory containing portfolio composition files.\n",
    "\n",
    "    Attributes:\n",
    "    - portfolio_composition_path (Path): The path to the directory containing portfolio composition files.\n",
    "    \"\"\"\n",
    "\n",
    "    portfolio_composition_path: Path\n",
    "    tickers: Set[str] = field(default_factory=set)\n",
    "\n",
    "    def _is_valid_ticker(self, ticker: str) -> bool:\n",
    "        \"\"\"\n",
    "        Checks if a ticker is valid.\n",
    "\n",
    "        Args:\n",
    "        - ticker (str): Ticker to be validated.\n",
    "\n",
    "        Returns:\n",
    "        - bool: True if the ticker is valid, False otherwise.\n",
    "        \"\"\"\n",
    "        return bool(re.match(r\"^[A-Z]{4}\\d{1,2}$\", ticker))\n",
    "\n",
    "    def _read_tickers_from_file(self, file: Path) -> pd.Series:\n",
    "        \"\"\"\n",
    "        Reads tickers from a given file.\n",
    "\n",
    "        Args:\n",
    "        - file (Path): The file from which tickers need to be read.\n",
    "\n",
    "        Returns:\n",
    "        - pd.Series: Series containing tickers.\n",
    "        \"\"\"\n",
    "        return pd.read_csv(\n",
    "            str(file.absolute()), encoding=\"iso-8859-1\", delimiter=\";\", index_col=False, usecols=[0]\n",
    "        ).iloc[:, 0]\n",
    "\n",
    "    def _update_tickers(self, new_tickers: Set[str]) -> None:\n",
    "        \"\"\"\n",
    "        Updates the set of tickers.\n",
    "\n",
    "        Args:\n",
    "        - new_tickers (Set[str]): New tickers to be added.\n",
    "        \"\"\"\n",
    "        self.tickers.update(new_tickers)\n",
    "\n",
    "    def get_b3_tickers(self) -> Set[str]:\n",
    "        \"\"\"\n",
    "        Gets B3 tickers from portfolio composition files.\n",
    "\n",
    "        Returns:\n",
    "        - Set[str]: Set of B3 tickers.\n",
    "        \"\"\"\n",
    "        for file in self.portfolio_composition_path.iterdir():\n",
    "            if not file.is_file() or file.suffix != \".csv\":\n",
    "                continue\n",
    "\n",
    "            raw_tickers = self._read_tickers_from_file(file)\n",
    "\n",
    "            valid_tickers = {ticker for ticker in raw_tickers if self._is_valid_ticker(ticker)}\n",
    "            self._update_tickers(valid_tickers)\n",
    "\n",
    "        return self.tickers\n",
    "\n",
    "    def get_b3_tickers_in_yahoo_format(self) -> List[str]:\n",
    "        return [f\"{ticker}.SA\" for i, ticker in enumerate(self.get_b3_tickers()) if i < 20]\n"
   ],
   "metadata": {
    "collapsed": false,
    "ExecuteTime": {
     "end_time": "2024-01-13T00:47:00.379277222Z",
     "start_time": "2024-01-13T00:47:00.325149738Z"
    }
   },
   "id": "fbb0e7387d651ecc",
   "execution_count": 39
  },
  {
   "cell_type": "code",
   "outputs": [
    {
     "data": {
      "text/plain": "['BHIA3.SA',\n 'PLPL3.SA',\n 'YDUQ3.SA',\n 'MYPK3.SA',\n 'VAMO3.SA',\n 'HBSA3.SA',\n 'CPLE3.SA',\n 'BRFS3.SA',\n 'UNIP6.SA',\n 'PRIO3.SA',\n 'AERI3.SA',\n 'AURE3.SA',\n 'AMBP3.SA',\n 'CPLE6.SA',\n 'SBFG3.SA',\n 'TEND3.SA',\n 'CURY3.SA',\n 'ARZZ3.SA',\n 'ALUP11.SA',\n 'LREN3.SA']"
     },
     "execution_count": 40,
     "metadata": {},
     "output_type": "execute_result"
    }
   ],
   "source": [
    "portfolio_composition_path = Path(\"data/B3/portfolio_composition\")\n",
    "b3_service = B3Service(portfolio_composition_path)\n",
    "b3_tickers = b3_service.get_b3_tickers_in_yahoo_format()\n",
    "\n",
    "b3_tickers"
   ],
   "metadata": {
    "collapsed": false,
    "ExecuteTime": {
     "end_time": "2024-01-13T00:47:01.212525779Z",
     "start_time": "2024-01-13T00:47:01.190400546Z"
    }
   },
   "id": "5cbe39e6c32af104",
   "execution_count": 40
  },
  {
   "cell_type": "markdown",
   "source": [
    "# PortfolioOptimizer"
   ],
   "metadata": {
    "collapsed": false
   },
   "id": "7134084762160426"
  },
  {
   "cell_type": "code",
   "execution_count": 72,
   "id": "initial_id",
   "metadata": {
    "collapsed": true,
    "ExecuteTime": {
     "end_time": "2024-01-13T01:02:59.015978497Z",
     "start_time": "2024-01-13T01:02:58.935168218Z"
    }
   },
   "outputs": [],
   "source": [
    "\n",
    "import pandas as pd\n",
    "import yfinance as yf\n",
    "import riskfolio as rp\n",
    "import matplotlib.pyplot as plt\n",
    "from pathlib import Path\n",
    "\n",
    "\n",
    "class AssetAnalysisAI:\n",
    "    def __init__(self, assets, start, end, portfolio_composition_path):\n",
    "        self.assets = assets\n",
    "        self.start = start\n",
    "        self.end = end\n",
    "        self.portfolio_composition_path = portfolio_composition_path\n",
    "\n",
    "    def download_data(self):\n",
    "        data = yf.download(self.assets, start=self.start, end=self.end)\n",
    "        data = data.loc[:, ('Adj Close', slice(None))]\n",
    "        data.columns = self.assets\n",
    "        return data\n",
    "\n",
    "    def calculate_returns(self, data):\n",
    "        return data[self.assets].pct_change().dropna()\n",
    "\n",
    "    def estimate_mean_variance_portfolio(self, returns, risk_measure='MV', objective='Sharpe', rf=0, hist=True):\n",
    "        port = rp.Portfolio(returns=returns)\n",
    "        method_mu, method_cov = 'hist', 'hist'\n",
    "        port.assets_stats(method_mu=method_mu, method_cov=method_cov, d=0.94)\n",
    "        model = 'Classic'\n",
    "        w = port.optimization(model=model, rm=risk_measure, obj=objective, rf=rf, hist=hist)\n",
    "        return w\n",
    "\n",
    "    def plot_portfolio_composition(self, weights, title, cmap='tab20'):\n",
    "        ax = rp.plot_pie(w=weights, title=title, others=0.05, nrow=25, cmap=cmap, height=6, width=10, ax=None)\n",
    "\n",
    "    def calculate_efficient_frontier(self, returns, risk_measure='MV', points=50, rf=0, hist=True):\n",
    "        port = rp.Portfolio(returns=returns)\n",
    "        model = 'Classic'\n",
    "        frontier = port.efficient_frontier(model=model, rm=risk_measure, points=points, rf=rf, hist=hist)\n",
    "        return frontier\n",
    "\n",
    "    def plot_efficient_frontier(self, w_frontier, mu, cov, returns, risk_measure, rf, cmap='viridis'):\n",
    "        label = 'Max Risk Adjusted Return Portfolio'\n",
    "        ax = rp.plot_frontier(w_frontier=w_frontier, mu=mu, cov=cov, returns=returns, rm=risk_measure,\n",
    "                              rf=rf, alpha=0.05, cmap=cmap, w=None, label=label, marker='*', s=16, c='r',\n",
    "                              height=6, width=10, ax=None)\n",
    "\n",
    "    def calculate_optimal_portfolios(self, returns, risk_measures, model='Classic', objective='Sharpe', rf=0,\n",
    "                                     hist=True):\n",
    "        port = rp.Portfolio(returns=returns)\n",
    "        w_s = pd.DataFrame([])\n",
    "\n",
    "        for risk_measure in risk_measures:\n",
    "            w = port.optimization(model=model, rm=risk_measure, obj=objective, rf=rf, hist=hist)\n",
    "            w_s = pd.concat([w_s, w], axis=1)\n",
    "\n",
    "        w_s.columns = risk_measures\n",
    "        return w_s\n",
    "\n",
    "    def plot_comparison_of_weights(self, weights):\n",
    "        fig = plt.gcf()\n",
    "        fig.set_figwidth(14)\n",
    "        fig.set_figheight(6)\n",
    "        ax = fig.subplots(nrows=1, ncols=1)\n",
    "        weights.plot.bar(ax=ax)\n",
    "\n",
    "    def create_constraints(self, asset_classes, constraints):\n",
    "        A, B = rp.assets_constraints(constraints, asset_classes)\n",
    "        return A, B\n",
    "\n",
    "    def optimize_with_constraints(self, returns, A, B, model='Classic', risk_measure='MV', objective='Sharpe', rf=0,\n",
    "                                  hist=True):\n",
    "        port = rp.Portfolio(returns=returns)\n",
    "        port.ainequality, port.binequality = A, B\n",
    "        w = port.optimization(model=model, rm=risk_measure, obj=objective, rf=rf, l=0, hist=hist)\n",
    "        return w\n",
    "\n",
    "    def plot_pie_for_asset_classes(self, weights, asset_classes):\n",
    "        w_classes = pd.concat([asset_classes.set_index('Assets'), weights], axis=1)\n",
    "        w_classes = w_classes.groupby(['Industry']).sum()\n",
    "        ax = rp.plot_pie(w=w_classes, title='Sharpe Mean Variance', others=0.05, nrow=25,\n",
    "                         cmap=\"tab20\", height=6, width=10, ax=None)\n",
    "\n",
    "    def select_top_assets(self, risk_measure='MV', objective='Sharpe', rf=0, hist=True):\n",
    "        data = self.download_data()\n",
    "\n",
    "        returns = self.calculate_returns(data)\n",
    "\n",
    "        top_assets = returns.mean().nlargest(10).index\n",
    "\n",
    "        selected_returns = returns[top_assets]\n",
    "        weights = self.estimate_mean_variance_portfolio(selected_returns, risk_measure, objective, rf, hist)\n",
    "\n",
    "        weights.reset_index(inplace=True)\n",
    "        top_assets_weights = pd.DataFrame({'Asset': weights['index'], 'Weight': weights.iloc[:, 1]})\n",
    "        top_assets_weights.set_index('Asset', inplace=True)\n",
    "\n",
    "        return top_assets_weights\n",
    "\n"
   ]
  },
  {
   "cell_type": "code",
   "outputs": [
    {
     "name": "stdout",
     "output_type": "stream",
     "text": [
      "[*********************100%%**********************]  20 of 20 completed\n",
      "Top 10 Assets and their Weights:\n"
     ]
    },
    {
     "data": {
      "text/plain": "                Weight\nAsset                 \nCPLE6.SA  2.982025e-01\nPRIO3.SA  2.314842e-01\nSBFG3.SA  2.255862e-01\nCURY3.SA  1.270236e-09\nBRFS3.SA  1.698134e-01\nUNIP6.SA  7.491369e-02\nLREN3.SA  1.027314e-09\nAERI3.SA  1.810161e-09\nPLPL3.SA  1.858291e-08\nAMBP3.SA  2.231108e-09",
      "text/html": "<div>\n<style scoped>\n    .dataframe tbody tr th:only-of-type {\n        vertical-align: middle;\n    }\n\n    .dataframe tbody tr th {\n        vertical-align: top;\n    }\n\n    .dataframe thead th {\n        text-align: right;\n    }\n</style>\n<table border=\"1\" class=\"dataframe\">\n  <thead>\n    <tr style=\"text-align: right;\">\n      <th></th>\n      <th>Weight</th>\n    </tr>\n    <tr>\n      <th>Asset</th>\n      <th></th>\n    </tr>\n  </thead>\n  <tbody>\n    <tr>\n      <th>CPLE6.SA</th>\n      <td>2.982025e-01</td>\n    </tr>\n    <tr>\n      <th>PRIO3.SA</th>\n      <td>2.314842e-01</td>\n    </tr>\n    <tr>\n      <th>SBFG3.SA</th>\n      <td>2.255862e-01</td>\n    </tr>\n    <tr>\n      <th>CURY3.SA</th>\n      <td>1.270236e-09</td>\n    </tr>\n    <tr>\n      <th>BRFS3.SA</th>\n      <td>1.698134e-01</td>\n    </tr>\n    <tr>\n      <th>UNIP6.SA</th>\n      <td>7.491369e-02</td>\n    </tr>\n    <tr>\n      <th>LREN3.SA</th>\n      <td>1.027314e-09</td>\n    </tr>\n    <tr>\n      <th>AERI3.SA</th>\n      <td>1.810161e-09</td>\n    </tr>\n    <tr>\n      <th>PLPL3.SA</th>\n      <td>1.858291e-08</td>\n    </tr>\n    <tr>\n      <th>AMBP3.SA</th>\n      <td>2.231108e-09</td>\n    </tr>\n  </tbody>\n</table>\n</div>"
     },
     "execution_count": 73,
     "metadata": {},
     "output_type": "execute_result"
    }
   ],
   "source": [
    "from datetime import datetime\n",
    "start_date = '2017-01-01'\n",
    "end_date = datetime.now().strftime('%Y-%m-%d')\n",
    "\n",
    "portfolio_path = Path(\"data/B3/portfolio_composition\")\n",
    "b3_service = B3Service(portfolio_path)\n",
    "assets = b3_service.get_b3_tickers_in_yahoo_format()\n",
    "\n",
    "# Initialize the AssetAnalysisAI class\n",
    "asset_analysis = AssetAnalysisAI(assets, start_date, end_date, portfolio_path)\n",
    "\n",
    "# Use the new method to select the top assets\n",
    "top_assets_weights = asset_analysis.select_top_assets()\n",
    "\n",
    "print(\"Top 10 Assets and their Weights:\")\n",
    "top_assets_weights"
   ],
   "metadata": {
    "collapsed": false,
    "ExecuteTime": {
     "end_time": "2024-01-13T01:03:02.047366812Z",
     "start_time": "2024-01-13T01:02:59.541248324Z"
    }
   },
   "id": "9ef853db2a5d7561",
   "execution_count": 73
  },
  {
   "cell_type": "code",
   "outputs": [
    {
     "data": {
      "text/plain": "<Figure size 1400x600 with 1 Axes>",
      "image/png": "[encoded data removed]"
     },
     "metadata": {},
     "output_type": "display_data"
    }
   ],
   "source": [
    "asset_analysis.plot(top_assets_weights)"
   ],
   "metadata": {
    "collapsed": false,
    "ExecuteTime": {
     "end_time": "2024-01-13T01:03:02.276237783Z",
     "start_time": "2024-01-13T01:03:02.090089107Z"
    }
   },
   "id": "3a0a676bc053cc4",
   "execution_count": 74
  },
  {
   "cell_type": "code",
   "outputs": [],
   "source": [],
   "metadata": {
    "collapsed": false
   },
   "id": "9bc0d34cfac3d0cf"
  }
 ],
 "metadata": {
  "kernelspec": {
   "display_name": "Python 3",
   "language": "python",
   "name": "python3"
  },
  "language_info": {
   "codemirror_mode": {
    "name": "ipython",
    "version": 2
   },
   "file_extension": ".py",
   "mimetype": "text/x-python",
   "name": "python",
   "nbconvert_exporter": "python",
   "pygments_lexer": "ipython2",
   "version": "2.7.6"
  }
 },
 "nbformat": 4,
 "nbformat_minor": 5
}

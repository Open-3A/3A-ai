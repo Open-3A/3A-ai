{
 "cells": [
  {
   "cell_type": "code",
   "execution_count": 5,
   "outputs": [],
   "source": [
    "import re\n",
    "from dataclasses import dataclass, field\n",
    "from pathlib import Path\n",
    "from typing import Set\n",
    "\n",
    "import pandas as pd\n",
    "\n",
    "\n",
    "@dataclass\n",
    "class B3Service:\n",
    "    \"\"\"\n",
    "    B3Service: A service for obtaining B3 tickers from portfolio composition files.\n",
    "\n",
    "    Args:\n",
    "    - portfolio_composition_path (Path): The path to the directory containing portfolio composition files.\n",
    "\n",
    "    Attributes:\n",
    "    - portfolio_composition_path (Path): The path to the directory containing portfolio composition files.\n",
    "    \"\"\"\n",
    "\n",
    "    portfolio_composition_path: Path\n",
    "    tickers: Set[str] = field(default_factory=set)\n",
    "\n",
    "    def _is_valid_ticker(self, ticker: str) -> bool:\n",
    "        \"\"\"\n",
    "        Checks if a ticker is valid.\n",
    "\n",
    "        Args:\n",
    "        - ticker (str): Ticker to be validated.\n",
    "\n",
    "        Returns:\n",
    "        - bool: True if the ticker is valid, False otherwise.\n",
    "        \"\"\"\n",
    "        return bool(re.match(r\"^[A-Z]{4}\\d{1,2}$\", ticker))\n",
    "\n",
    "    def _read_tickers_from_file(self, file: Path) -> pd.Series:\n",
    "        \"\"\"\n",
    "        Reads tickers from a given file.\n",
    "\n",
    "        Args:\n",
    "        - file (Path): The file from which tickers need to be read.\n",
    "\n",
    "        Returns:\n",
    "        - pd.Series: Series containing tickers.\n",
    "        \"\"\"\n",
    "        return pd.read_csv(\n",
    "            str(file.absolute()), encoding=\"iso-8859-1\", delimiter=\";\", index_col=False, usecols=[0]\n",
    "        ).iloc[:, 0]\n",
    "\n",
    "    def _update_tickers(self, new_tickers: Set[str]) -> None:\n",
    "        \"\"\"\n",
    "        Updates the set of tickers.\n",
    "\n",
    "        Args:\n",
    "        - new_tickers (Set[str]): New tickers to be added.\n",
    "        \"\"\"\n",
    "        self.tickers.update(new_tickers)\n",
    "\n",
    "    def get_b3_tickers(self) -> Set[str]:\n",
    "        \"\"\"\n",
    "        Gets B3 tickers from portfolio composition files.\n",
    "\n",
    "        Returns:\n",
    "        - Set[str]: Set of B3 tickers.\n",
    "        \"\"\"\n",
    "        for file in self.portfolio_composition_path.iterdir():\n",
    "            if not file.is_file() or file.suffix != \".csv\":\n",
    "                continue\n",
    "            \n",
    "            raw_tickers = self._read_tickers_from_file(file)\n",
    "            \n",
    "            valid_tickers = {ticker for ticker in raw_tickers if self._is_valid_ticker(ticker)}\n",
    "            self._update_tickers(valid_tickers)\n",
    "\n",
    "        return self.tickers\n",
    "    \n",
    "    def get_b3_tickers_in_yahoo_format(self) -> Set[str]:\n",
    "        return {f\"{ticker}.SA\" for ticker in self.get_b3_tickers()}\n"
   ],
   "metadata": {
    "collapsed": false,
    "ExecuteTime": {
     "end_time": "2024-01-13T00:09:33.482820480Z",
     "start_time": "2024-01-13T00:09:33.418850118Z"
    }
   },
   "id": "c5de623214d6ac58"
  },
  {
   "cell_type": "code",
   "execution_count": 6,
   "outputs": [
    {
     "data": {
      "text/plain": "{'AALR3',\n 'ABCB4',\n 'ABEV3',\n 'AERI3',\n 'AESB3',\n 'AGRO3',\n 'ALOS3',\n 'ALPA4',\n 'ALUP11',\n 'AMBP3',\n 'ANIM3',\n 'ARML3',\n 'ARZZ3',\n 'ASAI3',\n 'AURE3',\n 'AZUL4',\n 'BBAS3',\n 'BBDC3',\n 'BBDC4',\n 'BBSE3',\n 'BEEF3',\n 'BHIA3',\n 'BLAU3',\n 'BMOB3',\n 'BPAC11',\n 'BPAN4',\n 'BRAP4',\n 'BRFS3',\n 'BRKM5',\n 'BRSR6',\n 'CAML3',\n 'CASH3',\n 'CBAV3',\n 'CCRO3',\n 'CEAB3',\n 'CIEL3',\n 'CLSA3',\n 'CMIG3',\n 'CMIG4',\n 'CMIN3',\n 'COGN3',\n 'CPFE3',\n 'CPLE3',\n 'CPLE6',\n 'CRFB3',\n 'CSAN3',\n 'CSMG3',\n 'CSNA3',\n 'CURY3',\n 'CVCB3',\n 'CXSE3',\n 'CYRE3',\n 'DASA3',\n 'DIRR3',\n 'DXCO3',\n 'ECOR3',\n 'EGIE3',\n 'ELET3',\n 'ELET6',\n 'EMBR3',\n 'ENAT3',\n 'ENEV3',\n 'ENGI11',\n 'EQTL3',\n 'ESPA3',\n 'EVEN3',\n 'EZTC3',\n 'FESA4',\n 'FLRY3',\n 'FRAS3',\n 'GFSA3',\n 'GGBR4',\n 'GGPS3',\n 'GOAU4',\n 'GOLL4',\n 'GRND3',\n 'GUAR3',\n 'HAPV3',\n 'HBSA3',\n 'HYPE3',\n 'IFCM3',\n 'IGTI11',\n 'INTB3',\n 'IRBR3',\n 'ITSA4',\n 'ITUB4',\n 'JALL3',\n 'JBSS3',\n 'JHSF3',\n 'KEPL3',\n 'KLBN11',\n 'LAVV3',\n 'LEVE3',\n 'LJQQ3',\n 'LOGG3',\n 'LOGN3',\n 'LREN3',\n 'LUPA3',\n 'LWSA3',\n 'MATD3',\n 'MBLY3',\n 'MGLU3',\n 'MILS3',\n 'MLAS3',\n 'MOVI3',\n 'MRFG3',\n 'MRVE3',\n 'MULT3',\n 'MYPK3',\n 'NTCO3',\n 'ODPV3',\n 'ONCO3',\n 'ORVR3',\n 'PCAR3',\n 'PETR3',\n 'PETR4',\n 'PETZ3',\n 'PGMN3',\n 'PLPL3',\n 'PNVL3',\n 'POMO4',\n 'POSI3',\n 'PRIO3',\n 'PSSA3',\n 'PTBL3',\n 'QUAL3',\n 'RADL3',\n 'RAIL3',\n 'RAIZ4',\n 'RANI3',\n 'RAPT4',\n 'RDOR3',\n 'RECV3',\n 'RENT3',\n 'ROMI3',\n 'RRRP3',\n 'SANB11',\n 'SAPR11',\n 'SBFG3',\n 'SBSP3',\n 'SEER3',\n 'SEQL3',\n 'SIMH3',\n 'SLCE3',\n 'SMFT3',\n 'SMTO3',\n 'SOMA3',\n 'SRNA3',\n 'STBP3',\n 'SUZB3',\n 'TAEE11',\n 'TASA4',\n 'TEND3',\n 'TGMA3',\n 'TIMS3',\n 'TOTS3',\n 'TRIS3',\n 'TRPL4',\n 'TTEN3',\n 'TUPY3',\n 'UGPA3',\n 'UNIP6',\n 'USIM5',\n 'VALE3',\n 'VAMO3',\n 'VBBR3',\n 'VIVA3',\n 'VIVT3',\n 'VLID3',\n 'VULC3',\n 'WEGE3',\n 'WIZC3',\n 'YDUQ3',\n 'ZAMP3'}"
     },
     "execution_count": 6,
     "metadata": {},
     "output_type": "execute_result"
    }
   ],
   "source": [
    "portfolio_composition_path = Path(\"data/B3/portfolio_composition\")\n",
    "b3_service = B3Service(portfolio_composition_path)\n",
    "b3_tickers = b3_service.get_b3_tickers()\n",
    "\n",
    "b3_tickers"
   ],
   "metadata": {
    "collapsed": false,
    "ExecuteTime": {
     "end_time": "2024-01-13T00:09:34.353613026Z",
     "start_time": "2024-01-13T00:09:34.321905936Z"
    }
   },
   "id": "2791a509c68c321b"
  },
  {
   "cell_type": "code",
   "execution_count": 7,
   "outputs": [
    {
     "data": {
      "text/plain": "174"
     },
     "execution_count": 7,
     "metadata": {},
     "output_type": "execute_result"
    }
   ],
   "source": [
    "len(b3_tickers)"
   ],
   "metadata": {
    "collapsed": false,
    "ExecuteTime": {
     "end_time": "2024-01-13T00:09:35.168014817Z",
     "start_time": "2024-01-13T00:09:35.162627197Z"
    }
   },
   "id": "8ba6e61a9c30ba2d"
  },
  {
   "cell_type": "code",
   "outputs": [],
   "source": [],
   "metadata": {
    "collapsed": false
   },
   "id": "4cdaa09ce2884cd4"
  }
 ],
 "metadata": {
  "kernelspec": {
   "display_name": "Python 3",
   "language": "python",
   "name": "python3"
  },
  "language_info": {
   "codemirror_mode": {
    "name": "ipython",
    "version": 2
   },
   "file_extension": ".py",
   "mimetype": "text/x-python",
   "name": "python",
   "nbconvert_exporter": "python",
   "pygments_lexer": "ipython2",
   "version": "2.7.6"
  }
 },
 "nbformat": 4,
 "nbformat_minor": 5
}

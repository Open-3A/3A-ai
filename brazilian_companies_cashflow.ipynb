{
 "cells": [
  {
   "cell_type": "code",
   "execution_count": 58,
   "metadata": {},
   "source": [
    "%pip install pandas -U -q\n",
    "%pip install numpy -U -q\n",
    "%pip install yfinance -U -q"
   ],
   "outputs": []
  },
  {
   "cell_type": "code",
   "execution_count": 59,
   "metadata": {},
   "source": [
    "from typing import List, Dict\n",
    "\n",
    "import pandas as pd\n",
    "import numpy as np\n",
    "import yfinance as yf"
   ],
   "outputs": []
  },
  {
   "cell_type": "markdown",
   "metadata": {},
   "source": [
    "## Unir as ações que compõem os índices IBOV e IDIV"
   ]
  },
  {
   "cell_type": "code",
   "execution_count": 60,
   "metadata": {},
   "source": [
    "def get_tickers_from_market_index(source: str):\n",
    "  market_index = pd.read_csv(source)\n",
    "  market_index.drop(columns=\"Part. (%)\", inplace=True)\n",
    "  market_index.dropna(inplace=True)\n",
    "  return market_index.iloc[:, 0].to_list()\n",
    "\n",
    "def merge_tickers_from_market_indexes(*args: List[str]) -> List[str]:\n",
    "  result = set()\n",
    "\n",
    "  for market_index in args:\n",
    "    result = result.union(market_index)\n",
    "\n",
    "  return list(result)"
   ],
   "outputs": []
  },
  {
   "cell_type": "code",
   "execution_count": 61,
   "metadata": {},
   "source": [
    "ibov_composition = get_tickers_from_market_index(\"./assets/IBOV-composition.csv\")\n",
    "ibov_composition"
   ],
   "outputs": []
  },
  {
   "cell_type": "code",
   "execution_count": 62,
   "metadata": {},
   "source": [
    "idiv_composition = get_tickers_from_market_index(\"./assets/IDIV-composition.csv\")\n",
    "idiv_composition"
   ],
   "outputs": []
  },
  {
   "cell_type": "markdown",
   "metadata": {},
   "source": [
    "## Base de dados com com todos os atributos que compõem o fluxo de caixa"
   ]
  },
  {
   "cell_type": "markdown",
   "metadata": {},
   "source": []
  },
  {
   "cell_type": "code",
   "execution_count": 63,
   "metadata": {},
   "source": [
    "tickers = merge_tickers_from_market_indexes(ibov_composition, idiv_composition)"
   ],
   "outputs": []
  },
  {
   "cell_type": "code",
   "execution_count": 64,
   "metadata": {},
   "source": [
    "def format_tickers_to_yfinance(tickers: List[str]) -> List[str]:\n",
    "  return [f\"{ticker}.SA\" for ticker in tickers]\n",
    "\n",
    "tickers = format_tickers_to_yfinance(tickers)"
   ],
   "outputs": []
  },
  {
   "cell_type": "code",
   "execution_count": 65,
   "metadata": {},
   "source": [
    "cash_flow_data = pd.DataFrame()\n",
    "\n",
    "for ticker in tickers:\n",
    "    cashflow = yf.Ticker(ticker).quarterly_cashflow\n",
    "    \n",
    "    # Define o ticker como a coluna principal no MultiIndex\n",
    "    cashflow.columns = pd.MultiIndex.from_product([[ticker], cashflow.columns])\n",
    "    \n",
    "    if cash_flow_data.empty:\n",
    "        cash_flow_data = cashflow\n",
    "        continue\n",
    "\n",
    "    cash_flow_data = pd.concat([cash_flow_data, cashflow], axis=1)\n"
   ],
   "outputs": []
  },
  {
   "cell_type": "code",
   "execution_count": 75,
   "metadata": {},
   "source": [
    "cash_flow_data.dropna(inplace=True)\n",
    "cash_flow_data"
   ],
   "outputs": []
  },
  {
   "cell_type": "code",
   "execution_count": 67,
   "metadata": {},
   "source": [
    "cash_flow_data.to_csv(\"./assets/brazilian_companies_complete_cashflow.csv\")"
   ],
   "outputs": []
  },
  {
   "cell_type": "markdown",
   "metadata": {},
   "source": [
    "## Base de dados  com os atributos mais relevantes para o cálculo do fluxo de caixa livre\n",
    "\n",
    "O critério de escolha dos atributos mais relevantes é feito da seguinte maneira:\n",
    "\n",
    "1. Cálculo da correlação de todos os atributos em relação ao atributo \"Free Cash Flow\" para cada ativo da base de dados;\n",
    "2. Obter todos os atributos classificados como correlação forte ($cor \\geq 0.7$) de cada ativo;\n",
    "3. Obter os 3 atributos com maior frequência com base na etapa anterior.\n",
    "\n",
    "Considerações importantes:\n",
    "\n",
    "- Não foi escolhido o critério da correlação média dos atributos em relação ao \"Free Cash Flow\", pois pelo fato da média não ser uma medida resistente (sensível a outliers). Dessa forma, isso pode afetar o resultado de algoritmos de previsão do \"Free Cash Flow\", uma vez que pode ocorrer de um dos atributos selecionados como \"mais relevantes\" não explique a variação do \"Free Cash Flow\" de forma apropriada."
   ]
  },
  {
   "cell_type": "code",
   "execution_count": 68,
   "metadata": {},
   "source": [
    "tickers = list(set([ticker for ticker, _ in cash_flow_data.columns]))\n",
    "tickers"
   ],
   "outputs": []
  },
  {
   "cell_type": "code",
   "execution_count": 69,
   "metadata": {},
   "source": [
    "correlation_results = []\n",
    "\n",
    "for ticker in tickers:\n",
    "  df = cash_flow_data[ticker].transpose()\n",
    "  correlation_matrix = df.corr()[\"Free Cash Flow\"]\n",
    "\n",
    "  # Filtra os atributos com a correlação média >= 0.7 em relação ao atributo \"Free Cash Flow\"\n",
    "  high_corr = correlation_matrix[correlation_matrix >= 0.7]\n",
    "\n",
    "  # Atributos com correlação forte com a coluna \"Free Cash Flow\"\n",
    "  most_relevant = high_corr.sort_values().index.to_list()\n",
    "  correlation_results.append(most_relevant)\n"
   ],
   "outputs": []
  },
  {
   "cell_type": "code",
   "execution_count": 70,
   "metadata": {},
   "source": [
    "import itertools\n",
    "import collections\n",
    "\n",
    "\n",
    "def frequency_counter(matrix: List[List[any]], n: int | None = None) -> Dict[any, int]:\n",
    "    # flatten the list using chain()\n",
    "    flat_list = list(itertools.chain.from_iterable(matrix))\n",
    "\n",
    "    # count the frequencies using Counter()\n",
    "    frequencies = collections.Counter(flat_list)\n",
    "\n",
    "    if not n:\n",
    "        n = len(frequencies)\n",
    "    \n",
    "    # Get the N most frequent attributes\n",
    "    frequencies = {\n",
    "        attr: frequency\n",
    "        for rank, (attr, frequency) in enumerate(sorted(frequencies.items(), key=lambda item: item[1], reverse=True))\n",
    "        if rank < n\n",
    "    }\n",
    "\n",
    "    return frequencies"
   ],
   "outputs": []
  },
  {
   "cell_type": "code",
   "execution_count": 71,
   "metadata": {},
   "source": [
    "frequency_counter(correlation_results)"
   ],
   "outputs": []
  },
  {
   "cell_type": "code",
   "execution_count": 76,
   "metadata": {},
   "source": [
    "most_relevant = frequency_counter(correlation_results, 4)\n",
    "most_relevant"
   ],
   "outputs": []
  },
  {
   "cell_type": "code",
   "execution_count": 77,
   "metadata": {},
   "source": [
    "filter = cash_flow_data.index.isin(most_relevant)\n",
    "cash_flow_data = cash_flow_data[filter]\n",
    "cash_flow_data"
   ],
   "outputs": []
  },
  {
   "cell_type": "code",
   "execution_count": 78,
   "metadata": {},
   "source": [
    "cash_flow_data.to_csv(\"./assets/brazilian_companies_most_relevant_attr_for_free_cash_flow.csv\")"
   ],
   "outputs": []
  },
  {
   "cell_type": "code",
   "execution_count": null,
   "metadata": {},
   "source": [],
   "outputs": []
  }
 ],
 "metadata": {
  "kernelspec": {
   "display_name": ".venv",
   "language": "python",
   "name": "python3"
  },
  "language_info": {
   "codemirror_mode": {
    "name": "ipython",
    "version": 3
   },
   "file_extension": ".py",
   "mimetype": "text/x-python",
   "name": "python",
   "nbconvert_exporter": "python",
   "pygments_lexer": "ipython3",
   "version": "3.11.4"
  }
 },
 "nbformat": 4,
 "nbformat_minor": 2
}
